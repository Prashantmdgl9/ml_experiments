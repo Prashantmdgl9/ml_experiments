{
 "cells": [
  {
   "cell_type": "markdown",
   "id": "fe894687",
   "metadata": {
    "papermill": {
     "duration": 0.043118,
     "end_time": "2022-08-28T21:12:09.443448",
     "exception": false,
     "start_time": "2022-08-28T21:12:09.400330",
     "status": "completed"
    },
    "tags": []
   },
   "source": [
    "\n",
    "# Hindi MNIST Computer Vision Classifier\n"
   ]
  },
  {
   "cell_type": "markdown",
   "id": "f20359c4",
   "metadata": {
    "papermill": {
     "duration": 0.017061,
     "end_time": "2022-08-28T21:12:09.485993",
     "exception": false,
     "start_time": "2022-08-28T21:12:09.468932",
     "status": "completed"
    },
    "tags": []
   },
   "source": [
    "\n",
    "#### The notebok is based on FastAI course that ran in April to May 2022; it is written to explore the \"further research\" questions of lesson 3 of the course, which deals with Neural Net foundations.\n"
   ]
  },
  {
   "cell_type": "markdown",
   "id": "8513673a",
   "metadata": {
    "papermill": {
     "duration": 0.017015,
     "end_time": "2022-08-28T21:12:09.520125",
     "exception": false,
     "start_time": "2022-08-28T21:12:09.503110",
     "status": "completed"
    },
    "tags": []
   },
   "source": [
    "\n",
    "> ### ***Problem statement*** - Classify the hand written digits with the help of FastAI's libraries\n"
   ]
  },
  {
   "cell_type": "markdown",
   "id": "2ed115f6",
   "metadata": {
    "papermill": {
     "duration": 0.019719,
     "end_time": "2022-08-28T21:12:09.557741",
     "exception": false,
     "start_time": "2022-08-28T21:12:09.538022",
     "status": "completed"
    },
    "tags": []
   },
   "source": [
    "> ### ***Data*** - Hindi MNIST data present at https://www.kaggle.com/datasets/anurags397/hindi-mnist-data"
   ]
  },
  {
   "cell_type": "markdown",
   "id": "bf8f7d37",
   "metadata": {
    "papermill": {
     "duration": 0.027046,
     "end_time": "2022-08-28T21:12:09.620249",
     "exception": false,
     "start_time": "2022-08-28T21:12:09.593203",
     "status": "completed"
    },
    "tags": []
   },
   "source": [
    "> ### The ***Methodology*** will remain the same as discussed in the chapter.\n",
    "> - Define the baseline model first.\n",
    "> - Define dataloaders and other parameters that are required for implementing the ***Stochastic Gradient Descent***, \n",
    "> - Define the loss function and the accuracy metric\n",
    "> - Fit your model using FastAI's libraries and check whether it beats the baseline model.\n",
    "> - Make Improvements."
   ]
  },
  {
   "cell_type": "markdown",
   "id": "27de0e75",
   "metadata": {
    "papermill": {
     "duration": 0.023764,
     "end_time": "2022-08-28T21:12:09.670319",
     "exception": false,
     "start_time": "2022-08-28T21:12:09.646555",
     "status": "completed"
    },
    "tags": []
   },
   "source": [
    "\n",
    "> ### ***Resources:*** \n",
    "> - Chapter Link: https://course.fast.ai/Lessons/lesson3.html\n",
    "> - Video based on 2020 course where the part of the problem is discussed: https://www.youtube.com/watch?v=p50s63nPq9I&t=6605s\n",
    "\n"
   ]
  },
  {
   "cell_type": "markdown",
   "id": "90cd23ab",
   "metadata": {
    "papermill": {
     "duration": 0.016967,
     "end_time": "2022-08-28T21:12:09.705032",
     "exception": false,
     "start_time": "2022-08-28T21:12:09.688065",
     "status": "completed"
    },
    "tags": []
   },
   "source": [
    "# Imports and Downloads"
   ]
  },
  {
   "cell_type": "code",
   "execution_count": 1,
   "id": "b9c13100",
   "metadata": {
    "collapsed": true,
    "execution": {
     "iopub.execute_input": "2022-08-28T21:12:09.741261Z",
     "iopub.status.busy": "2022-08-28T21:12:09.740742Z",
     "iopub.status.idle": "2022-08-28T21:12:32.605033Z",
     "shell.execute_reply": "2022-08-28T21:12:32.603972Z"
    },
    "jupyter": {
     "outputs_hidden": true
    },
    "papermill": {
     "duration": 22.885649,
     "end_time": "2022-08-28T21:12:32.607752",
     "exception": false,
     "start_time": "2022-08-28T21:12:09.722103",
     "status": "completed"
    },
    "tags": []
   },
   "outputs": [
    {
     "name": "stdout",
     "output_type": "stream",
     "text": [
      "Collecting fastbook\r\n",
      "  Downloading fastbook-0.0.28-py3-none-any.whl (719 kB)\r\n",
      "\u001b[2K     \u001b[90m━━━━━━━━━━━━━━━━━━━━━━━━━━━━━━━━━━━━━━━\u001b[0m \u001b[32m719.8/719.8 kB\u001b[0m \u001b[31m8.5 MB/s\u001b[0m eta \u001b[36m0:00:00\u001b[0m\r\n",
      "\u001b[?25hRequirement already satisfied: pip in /opt/conda/lib/python3.7/site-packages (from fastbook) (22.1.2)\r\n",
      "Requirement already satisfied: pandas in /opt/conda/lib/python3.7/site-packages (from fastbook) (1.3.5)\r\n",
      "Requirement already satisfied: graphviz in /opt/conda/lib/python3.7/site-packages (from fastbook) (0.8.4)\r\n",
      "Requirement already satisfied: requests in /opt/conda/lib/python3.7/site-packages (from fastbook) (2.28.1)\r\n",
      "Requirement already satisfied: datasets in /opt/conda/lib/python3.7/site-packages (from fastbook) (2.1.0)\r\n",
      "Requirement already satisfied: fastai>=2.6 in /opt/conda/lib/python3.7/site-packages (from fastbook) (2.7.9)\r\n",
      "Requirement already satisfied: packaging in /opt/conda/lib/python3.7/site-packages (from fastbook) (21.3)\r\n",
      "Requirement already satisfied: transformers in /opt/conda/lib/python3.7/site-packages (from fastbook) (4.20.1)\r\n",
      "Requirement already satisfied: sentencepiece in /opt/conda/lib/python3.7/site-packages (from fastbook) (0.1.97)\r\n",
      "Requirement already satisfied: fastcore<1.6,>=1.4.5 in /opt/conda/lib/python3.7/site-packages (from fastai>=2.6->fastbook) (1.5.21)\r\n",
      "Requirement already satisfied: pillow>6.0.0 in /opt/conda/lib/python3.7/site-packages (from fastai>=2.6->fastbook) (9.1.1)\r\n",
      "Requirement already satisfied: torchvision>=0.8.2 in /opt/conda/lib/python3.7/site-packages (from fastai>=2.6->fastbook) (0.12.0)\r\n",
      "Requirement already satisfied: fastdownload<2,>=0.0.5 in /opt/conda/lib/python3.7/site-packages (from fastai>=2.6->fastbook) (0.0.7)\r\n",
      "Requirement already satisfied: fastprogress>=0.2.4 in /opt/conda/lib/python3.7/site-packages (from fastai>=2.6->fastbook) (1.0.3)\r\n",
      "Requirement already satisfied: matplotlib in /opt/conda/lib/python3.7/site-packages (from fastai>=2.6->fastbook) (3.5.3)\r\n",
      "Requirement already satisfied: scikit-learn in /opt/conda/lib/python3.7/site-packages (from fastai>=2.6->fastbook) (1.0.2)\r\n",
      "Requirement already satisfied: torch<1.14,>=1.7 in /opt/conda/lib/python3.7/site-packages (from fastai>=2.6->fastbook) (1.11.0)\r\n",
      "Requirement already satisfied: scipy in /opt/conda/lib/python3.7/site-packages (from fastai>=2.6->fastbook) (1.7.3)\r\n",
      "Requirement already satisfied: spacy<4 in /opt/conda/lib/python3.7/site-packages (from fastai>=2.6->fastbook) (3.3.1)\r\n",
      "Requirement already satisfied: pyyaml in /opt/conda/lib/python3.7/site-packages (from fastai>=2.6->fastbook) (6.0)\r\n",
      "Requirement already satisfied: fsspec[http]>=2021.05.0 in /opt/conda/lib/python3.7/site-packages (from datasets->fastbook) (2022.7.1)\r\n",
      "Requirement already satisfied: multiprocess in /opt/conda/lib/python3.7/site-packages (from datasets->fastbook) (0.70.13)\r\n",
      "Requirement already satisfied: importlib-metadata in /opt/conda/lib/python3.7/site-packages (from datasets->fastbook) (4.12.0)\r\n",
      "Requirement already satisfied: aiohttp in /opt/conda/lib/python3.7/site-packages (from datasets->fastbook) (3.8.1)\r\n",
      "Requirement already satisfied: numpy>=1.17 in /opt/conda/lib/python3.7/site-packages (from datasets->fastbook) (1.21.6)\r\n",
      "Requirement already satisfied: responses<0.19 in /opt/conda/lib/python3.7/site-packages (from datasets->fastbook) (0.18.0)\r\n",
      "Requirement already satisfied: huggingface-hub<1.0.0,>=0.1.0 in /opt/conda/lib/python3.7/site-packages (from datasets->fastbook) (0.8.1)\r\n",
      "Requirement already satisfied: pyarrow>=5.0.0 in /opt/conda/lib/python3.7/site-packages (from datasets->fastbook) (5.0.0)\r\n",
      "Requirement already satisfied: dill in /opt/conda/lib/python3.7/site-packages (from datasets->fastbook) (0.3.5.1)\r\n",
      "Requirement already satisfied: tqdm>=4.62.1 in /opt/conda/lib/python3.7/site-packages (from datasets->fastbook) (4.64.0)\r\n",
      "Requirement already satisfied: xxhash in /opt/conda/lib/python3.7/site-packages (from datasets->fastbook) (3.0.0)\r\n",
      "Requirement already satisfied: certifi>=2017.4.17 in /opt/conda/lib/python3.7/site-packages (from requests->fastbook) (2022.6.15)\r\n",
      "Requirement already satisfied: urllib3<1.27,>=1.21.1 in /opt/conda/lib/python3.7/site-packages (from requests->fastbook) (1.26.12)\r\n",
      "Requirement already satisfied: idna<4,>=2.5 in /opt/conda/lib/python3.7/site-packages (from requests->fastbook) (3.3)\r\n",
      "Requirement already satisfied: charset-normalizer<3,>=2 in /opt/conda/lib/python3.7/site-packages (from requests->fastbook) (2.1.0)\r\n",
      "Requirement already satisfied: pyparsing!=3.0.5,>=2.0.2 in /opt/conda/lib/python3.7/site-packages (from packaging->fastbook) (3.0.9)\r\n",
      "Requirement already satisfied: python-dateutil>=2.7.3 in /opt/conda/lib/python3.7/site-packages (from pandas->fastbook) (2.8.2)\r\n",
      "Requirement already satisfied: pytz>=2017.3 in /opt/conda/lib/python3.7/site-packages (from pandas->fastbook) (2022.1)\r\n",
      "Requirement already satisfied: regex!=2019.12.17 in /opt/conda/lib/python3.7/site-packages (from transformers->fastbook) (2021.11.10)\r\n",
      "Requirement already satisfied: tokenizers!=0.11.3,<0.13,>=0.11.1 in /opt/conda/lib/python3.7/site-packages (from transformers->fastbook) (0.12.1)\r\n",
      "Requirement already satisfied: filelock in /opt/conda/lib/python3.7/site-packages (from transformers->fastbook) (3.7.1)\r\n",
      "Requirement already satisfied: typing-extensions>=3.7.4.3 in /opt/conda/lib/python3.7/site-packages (from huggingface-hub<1.0.0,>=0.1.0->datasets->fastbook) (4.3.0)\r\n",
      "Requirement already satisfied: six>=1.5 in /opt/conda/lib/python3.7/site-packages (from python-dateutil>=2.7.3->pandas->fastbook) (1.15.0)\r\n",
      "Requirement already satisfied: wasabi<1.1.0,>=0.9.1 in /opt/conda/lib/python3.7/site-packages (from spacy<4->fastai>=2.6->fastbook) (0.10.1)\r\n",
      "Requirement already satisfied: jinja2 in /opt/conda/lib/python3.7/site-packages (from spacy<4->fastai>=2.6->fastbook) (3.1.2)\r\n",
      "Requirement already satisfied: spacy-legacy<3.1.0,>=3.0.9 in /opt/conda/lib/python3.7/site-packages (from spacy<4->fastai>=2.6->fastbook) (3.0.10)\r\n",
      "Requirement already satisfied: pydantic!=1.8,!=1.8.1,<1.9.0,>=1.7.4 in /opt/conda/lib/python3.7/site-packages (from spacy<4->fastai>=2.6->fastbook) (1.8.2)\r\n",
      "Requirement already satisfied: catalogue<2.1.0,>=2.0.6 in /opt/conda/lib/python3.7/site-packages (from spacy<4->fastai>=2.6->fastbook) (2.0.8)\r\n",
      "Requirement already satisfied: langcodes<4.0.0,>=3.2.0 in /opt/conda/lib/python3.7/site-packages (from spacy<4->fastai>=2.6->fastbook) (3.3.0)\r\n",
      "Requirement already satisfied: pathy>=0.3.5 in /opt/conda/lib/python3.7/site-packages (from spacy<4->fastai>=2.6->fastbook) (0.6.2)\r\n",
      "Requirement already satisfied: blis<0.8.0,>=0.4.0 in /opt/conda/lib/python3.7/site-packages (from spacy<4->fastai>=2.6->fastbook) (0.7.8)\r\n",
      "Requirement already satisfied: setuptools in /opt/conda/lib/python3.7/site-packages (from spacy<4->fastai>=2.6->fastbook) (59.8.0)\r\n",
      "Requirement already satisfied: spacy-loggers<2.0.0,>=1.0.0 in /opt/conda/lib/python3.7/site-packages (from spacy<4->fastai>=2.6->fastbook) (1.0.3)\r\n",
      "Requirement already satisfied: typer<0.5.0,>=0.3.0 in /opt/conda/lib/python3.7/site-packages (from spacy<4->fastai>=2.6->fastbook) (0.4.2)\r\n",
      "Collecting typing-extensions>=3.7.4.3\r\n",
      "  Downloading typing_extensions-4.1.1-py3-none-any.whl (26 kB)\r\n",
      "Requirement already satisfied: srsly<3.0.0,>=2.4.3 in /opt/conda/lib/python3.7/site-packages (from spacy<4->fastai>=2.6->fastbook) (2.4.4)\r\n",
      "Requirement already satisfied: cymem<2.1.0,>=2.0.2 in /opt/conda/lib/python3.7/site-packages (from spacy<4->fastai>=2.6->fastbook) (2.0.6)\r\n",
      "Requirement already satisfied: thinc<8.1.0,>=8.0.14 in /opt/conda/lib/python3.7/site-packages (from spacy<4->fastai>=2.6->fastbook) (8.0.17)\r\n",
      "Requirement already satisfied: murmurhash<1.1.0,>=0.28.0 in /opt/conda/lib/python3.7/site-packages (from spacy<4->fastai>=2.6->fastbook) (1.0.8)\r\n",
      "Requirement already satisfied: preshed<3.1.0,>=3.0.2 in /opt/conda/lib/python3.7/site-packages (from spacy<4->fastai>=2.6->fastbook) (3.0.7)\r\n",
      "Requirement already satisfied: yarl<2.0,>=1.0 in /opt/conda/lib/python3.7/site-packages (from aiohttp->datasets->fastbook) (1.7.2)\r\n",
      "Requirement already satisfied: asynctest==0.13.0 in /opt/conda/lib/python3.7/site-packages (from aiohttp->datasets->fastbook) (0.13.0)\r\n",
      "Requirement already satisfied: multidict<7.0,>=4.5 in /opt/conda/lib/python3.7/site-packages (from aiohttp->datasets->fastbook) (6.0.2)\r\n",
      "Requirement already satisfied: attrs>=17.3.0 in /opt/conda/lib/python3.7/site-packages (from aiohttp->datasets->fastbook) (21.4.0)\r\n",
      "Requirement already satisfied: aiosignal>=1.1.2 in /opt/conda/lib/python3.7/site-packages (from aiohttp->datasets->fastbook) (1.2.0)\r\n",
      "Requirement already satisfied: async-timeout<5.0,>=4.0.0a3 in /opt/conda/lib/python3.7/site-packages (from aiohttp->datasets->fastbook) (4.0.2)\r\n",
      "Requirement already satisfied: frozenlist>=1.1.1 in /opt/conda/lib/python3.7/site-packages (from aiohttp->datasets->fastbook) (1.3.0)\r\n",
      "Requirement already satisfied: zipp>=0.5 in /opt/conda/lib/python3.7/site-packages (from importlib-metadata->datasets->fastbook) (3.8.0)\r\n",
      "Requirement already satisfied: kiwisolver>=1.0.1 in /opt/conda/lib/python3.7/site-packages (from matplotlib->fastai>=2.6->fastbook) (1.4.3)\r\n",
      "Requirement already satisfied: cycler>=0.10 in /opt/conda/lib/python3.7/site-packages (from matplotlib->fastai>=2.6->fastbook) (0.11.0)\r\n",
      "Requirement already satisfied: fonttools>=4.22.0 in /opt/conda/lib/python3.7/site-packages (from matplotlib->fastai>=2.6->fastbook) (4.33.3)\r\n",
      "Requirement already satisfied: joblib>=0.11 in /opt/conda/lib/python3.7/site-packages (from scikit-learn->fastai>=2.6->fastbook) (1.0.1)\r\n",
      "Requirement already satisfied: threadpoolctl>=2.0.0 in /opt/conda/lib/python3.7/site-packages (from scikit-learn->fastai>=2.6->fastbook) (3.1.0)\r\n",
      "Requirement already satisfied: smart-open<6.0.0,>=5.2.1 in /opt/conda/lib/python3.7/site-packages (from pathy>=0.3.5->spacy<4->fastai>=2.6->fastbook) (5.2.1)\r\n",
      "Requirement already satisfied: click<9.0.0,>=7.1.1 in /opt/conda/lib/python3.7/site-packages (from typer<0.5.0,>=0.3.0->spacy<4->fastai>=2.6->fastbook) (8.0.4)\r\n",
      "Requirement already satisfied: MarkupSafe>=2.0 in /opt/conda/lib/python3.7/site-packages (from jinja2->spacy<4->fastai>=2.6->fastbook) (2.1.1)\r\n",
      "Installing collected packages: typing-extensions, fastbook\r\n",
      "  Attempting uninstall: typing-extensions\r\n",
      "    Found existing installation: typing_extensions 4.3.0\r\n",
      "    Uninstalling typing_extensions-4.3.0:\r\n",
      "      Successfully uninstalled typing_extensions-4.3.0\r\n",
      "\u001b[31mERROR: pip's dependency resolver does not currently take into account all the packages that are installed. This behaviour is the source of the following dependency conflicts.\r\n",
      "tensorflow-io 0.21.0 requires tensorflow-io-gcs-filesystem==0.21.0, which is not installed.\r\n",
      "tensorflow 2.6.4 requires h5py~=3.1.0, but you have h5py 3.7.0 which is incompatible.\r\n",
      "tensorflow 2.6.4 requires numpy~=1.19.2, but you have numpy 1.21.6 which is incompatible.\r\n",
      "tensorflow 2.6.4 requires tensorboard<2.7,>=2.6.0, but you have tensorboard 2.10.0 which is incompatible.\r\n",
      "tensorflow 2.6.4 requires typing-extensions<3.11,>=3.7, but you have typing-extensions 4.1.1 which is incompatible.\r\n",
      "tensorflow-transform 1.9.0 requires tensorflow!=2.0.*,!=2.1.*,!=2.2.*,!=2.3.*,!=2.4.*,!=2.5.*,!=2.6.*,!=2.7.*,!=2.8.*,<2.10,>=1.15.5, but you have tensorflow 2.6.4 which is incompatible.\r\n",
      "tensorflow-serving-api 2.9.0 requires tensorflow<3,>=2.9.0, but you have tensorflow 2.6.4 which is incompatible.\r\n",
      "pandas-profiling 3.1.0 requires markupsafe~=2.0.1, but you have markupsafe 2.1.1 which is incompatible.\r\n",
      "flax 0.6.0 requires rich~=11.1, but you have rich 12.1.0 which is incompatible.\r\n",
      "flake8 4.0.1 requires importlib-metadata<4.3; python_version < \"3.8\", but you have importlib-metadata 4.12.0 which is incompatible.\r\n",
      "apache-beam 2.40.0 requires dill<0.3.2,>=0.3.1.1, but you have dill 0.3.5.1 which is incompatible.\r\n",
      "allennlp 2.10.0 requires protobuf==3.20.0, but you have protobuf 3.19.4 which is incompatible.\r\n",
      "aiobotocore 2.3.4 requires botocore<1.24.22,>=1.24.21, but you have botocore 1.27.56 which is incompatible.\u001b[0m\u001b[31m\r\n",
      "\u001b[0mSuccessfully installed fastbook-0.0.28 typing-extensions-4.1.1\r\n",
      "\u001b[33mWARNING: Running pip as the 'root' user can result in broken permissions and conflicting behaviour with the system package manager. It is recommended to use a virtual environment instead: https://pip.pypa.io/warnings/venv\u001b[0m\u001b[33m\r\n",
      "\u001b[0m"
     ]
    }
   ],
   "source": [
    "#hide\n",
    "! [ -e /content ] && pip install -Uqq fastbook\n",
    "!pip install fastbook\n",
    "import fastbook\n",
    "fastbook.setup_book()"
   ]
  },
  {
   "cell_type": "code",
   "execution_count": 2,
   "id": "aa982b8f",
   "metadata": {
    "execution": {
     "iopub.execute_input": "2022-08-28T21:12:32.649673Z",
     "iopub.status.busy": "2022-08-28T21:12:32.648529Z",
     "iopub.status.idle": "2022-08-28T21:12:32.654223Z",
     "shell.execute_reply": "2022-08-28T21:12:32.653407Z"
    },
    "papermill": {
     "duration": 0.02885,
     "end_time": "2022-08-28T21:12:32.656302",
     "exception": false,
     "start_time": "2022-08-28T21:12:32.627452",
     "status": "completed"
    },
    "tags": []
   },
   "outputs": [],
   "source": [
    "from fastai.vision.all import *\n",
    "from fastbook import *\n",
    "\n",
    "matplotlib.rc('image', cmap='Greys')"
   ]
  },
  {
   "cell_type": "markdown",
   "id": "1e8018c9",
   "metadata": {
    "papermill": {
     "duration": 0.018362,
     "end_time": "2022-08-28T21:12:32.693787",
     "exception": false,
     "start_time": "2022-08-28T21:12:32.675425",
     "status": "completed"
    },
    "tags": []
   },
   "source": [
    "# Read the Data"
   ]
  },
  {
   "cell_type": "code",
   "execution_count": 3,
   "id": "3fa1227a",
   "metadata": {
    "_cell_guid": "b1076dfc-b9ad-4769-8c92-a6c4dae69d19",
    "_uuid": "8f2839f25d086af736a60e9eeb907d3b93b6e0e5",
    "execution": {
     "iopub.execute_input": "2022-08-28T21:12:32.733545Z",
     "iopub.status.busy": "2022-08-28T21:12:32.732586Z",
     "iopub.status.idle": "2022-08-28T21:12:46.060758Z",
     "shell.execute_reply": "2022-08-28T21:12:46.059330Z"
    },
    "papermill": {
     "duration": 13.349931,
     "end_time": "2022-08-28T21:12:46.062898",
     "exception": false,
     "start_time": "2022-08-28T21:12:32.712967",
     "status": "completed"
    },
    "tags": []
   },
   "outputs": [
    {
     "name": "stdout",
     "output_type": "stream",
     "text": [
      "Read 0 files from the directory- /kaggle/input\n",
      "Read 0 files from the directory- /kaggle/input/hindi-mnist\n",
      "Read 0 files from the directory- /kaggle/input/hindi-mnist/Hindi-MNIST\n",
      "Read 0 files from the directory- /kaggle/input/hindi-mnist/Hindi-MNIST/test\n",
      "Read 300 files from the directory- /kaggle/input/hindi-mnist/Hindi-MNIST/test/7\n",
      "Read 300 files from the directory- /kaggle/input/hindi-mnist/Hindi-MNIST/test/2\n",
      "Read 300 files from the directory- /kaggle/input/hindi-mnist/Hindi-MNIST/test/5\n",
      "Read 300 files from the directory- /kaggle/input/hindi-mnist/Hindi-MNIST/test/8\n",
      "Read 300 files from the directory- /kaggle/input/hindi-mnist/Hindi-MNIST/test/0\n",
      "Read 300 files from the directory- /kaggle/input/hindi-mnist/Hindi-MNIST/test/3\n",
      "Read 300 files from the directory- /kaggle/input/hindi-mnist/Hindi-MNIST/test/1\n",
      "Read 300 files from the directory- /kaggle/input/hindi-mnist/Hindi-MNIST/test/4\n",
      "Read 300 files from the directory- /kaggle/input/hindi-mnist/Hindi-MNIST/test/9\n",
      "Read 300 files from the directory- /kaggle/input/hindi-mnist/Hindi-MNIST/test/6\n",
      "Read 0 files from the directory- /kaggle/input/hindi-mnist/Hindi-MNIST/train\n",
      "Read 1700 files from the directory- /kaggle/input/hindi-mnist/Hindi-MNIST/train/7\n",
      "Read 1700 files from the directory- /kaggle/input/hindi-mnist/Hindi-MNIST/train/2\n",
      "Read 1700 files from the directory- /kaggle/input/hindi-mnist/Hindi-MNIST/train/5\n",
      "Read 1700 files from the directory- /kaggle/input/hindi-mnist/Hindi-MNIST/train/8\n",
      "Read 1700 files from the directory- /kaggle/input/hindi-mnist/Hindi-MNIST/train/0\n",
      "Read 1700 files from the directory- /kaggle/input/hindi-mnist/Hindi-MNIST/train/3\n",
      "Read 1700 files from the directory- /kaggle/input/hindi-mnist/Hindi-MNIST/train/1\n",
      "Read 1700 files from the directory- /kaggle/input/hindi-mnist/Hindi-MNIST/train/4\n",
      "Read 1700 files from the directory- /kaggle/input/hindi-mnist/Hindi-MNIST/train/9\n",
      "Read 1700 files from the directory- /kaggle/input/hindi-mnist/Hindi-MNIST/train/6\n"
     ]
    }
   ],
   "source": [
    "# This Python 3 environment comes with many helpful analytics libraries installed\n",
    "# It is defined by the kaggle/python Docker image: https://github.com/kaggle/docker-python\n",
    "# For example, here's several helpful packages to load\n",
    "\n",
    "import numpy as np # linear algebra\n",
    "import pandas as pd # data processing, CSV file I/O (e.g. pd.read_csv)\n",
    "\n",
    "# Input data files are available in the read-only \"../input/\" directory\n",
    "# For example, running this (by clicking run or pressing Shift+Enter) will list all files under the input directory\n",
    "\n",
    "import os\n",
    "for dirname, _, filenames in os.walk('/kaggle/input'):\n",
    "    cnt = 0\n",
    "    for filename in filenames:\n",
    "        cnt = cnt+1\n",
    "        #print(os.path.join(dirname, filename))\n",
    "    print(f\"Read {cnt} files from the directory- {dirname}\")\n",
    "\n",
    "# You can write up to 20GB to the current directory (/kaggle/working/) that gets preserved as output when you create a version using \"Save & Run All\" \n",
    "# You can also write temporary files to /kaggle/temp/, but they won't be saved outside of the current session"
   ]
  },
  {
   "cell_type": "markdown",
   "id": "0864b0fc",
   "metadata": {
    "papermill": {
     "duration": 0.019959,
     "end_time": "2022-08-28T21:12:46.102637",
     "exception": false,
     "start_time": "2022-08-28T21:12:46.082678",
     "status": "completed"
    },
    "tags": []
   },
   "source": [
    "### Define train and validation paths"
   ]
  },
  {
   "cell_type": "code",
   "execution_count": 4,
   "id": "55c6ac54",
   "metadata": {
    "execution": {
     "iopub.execute_input": "2022-08-28T21:12:46.142964Z",
     "iopub.status.busy": "2022-08-28T21:12:46.142620Z",
     "iopub.status.idle": "2022-08-28T21:12:46.147646Z",
     "shell.execute_reply": "2022-08-28T21:12:46.146642Z"
    },
    "papermill": {
     "duration": 0.027856,
     "end_time": "2022-08-28T21:12:46.149813",
     "exception": false,
     "start_time": "2022-08-28T21:12:46.121957",
     "status": "completed"
    },
    "tags": []
   },
   "outputs": [],
   "source": [
    "train_dir = \"/kaggle/input/hindi-mnist/Hindi-MNIST/train\"\n",
    "train_path = Path(train_dir)\n",
    "valid_dir = \"/kaggle/input/hindi-mnist/Hindi-MNIST/test\"\n",
    "valid_path = Path(valid_dir)"
   ]
  },
  {
   "cell_type": "code",
   "execution_count": 5,
   "id": "36144ec1",
   "metadata": {
    "execution": {
     "iopub.execute_input": "2022-08-28T21:12:46.190332Z",
     "iopub.status.busy": "2022-08-28T21:12:46.190029Z",
     "iopub.status.idle": "2022-08-28T21:12:46.239790Z",
     "shell.execute_reply": "2022-08-28T21:12:46.238525Z"
    },
    "papermill": {
     "duration": 0.072113,
     "end_time": "2022-08-28T21:12:46.241943",
     "exception": false,
     "start_time": "2022-08-28T21:12:46.169830",
     "status": "completed"
    },
    "tags": []
   },
   "outputs": [],
   "source": [
    "\n",
    "zeroes = train_path.ls().sorted()[0].ls()\n",
    "ones = train_path.ls().sorted()[1].ls()\n",
    "twos = train_path.ls().sorted()[2].ls()\n",
    "threes = train_path.ls().sorted()[3].ls()\n",
    "fours = train_path.ls().sorted()[4].ls()\n",
    "fives = train_path.ls().sorted()[5].ls()\n",
    "sixes = train_path.ls().sorted()[6].ls()\n",
    "sevens = train_path.ls().sorted()[7].ls()\n",
    "eights = train_path.ls().sorted()[8].ls()\n",
    "nines = train_path.ls().sorted()[9].ls()    "
   ]
  },
  {
   "cell_type": "markdown",
   "id": "d84dda59",
   "metadata": {
    "papermill": {
     "duration": 0.019216,
     "end_time": "2022-08-28T21:12:46.280724",
     "exception": false,
     "start_time": "2022-08-28T21:12:46.261508",
     "status": "completed"
    },
    "tags": []
   },
   "source": [
    "### Print a digit to see what the data is"
   ]
  },
  {
   "cell_type": "code",
   "execution_count": 6,
   "id": "fe30b1e4",
   "metadata": {
    "execution": {
     "iopub.execute_input": "2022-08-28T21:12:46.321196Z",
     "iopub.status.busy": "2022-08-28T21:12:46.320254Z",
     "iopub.status.idle": "2022-08-28T21:12:46.342280Z",
     "shell.execute_reply": "2022-08-28T21:12:46.341359Z"
    },
    "papermill": {
     "duration": 0.04459,
     "end_time": "2022-08-28T21:12:46.344582",
     "exception": false,
     "start_time": "2022-08-28T21:12:46.299992",
     "status": "completed"
    },
    "tags": []
   },
   "outputs": [
    {
     "data": {
      "image/png": "[encoded data removed]",
      "text/plain": [
       "<PIL.PngImagePlugin.PngImageFile image mode=L size=32x32>"
      ]
     },
     "execution_count": 6,
     "metadata": {},
     "output_type": "execute_result"
    }
   ],
   "source": [
    "im = Image.open(sixes[0])\n",
    "im"
   ]
  },
  {
   "cell_type": "code",
   "execution_count": 7,
   "id": "40966897",
   "metadata": {
    "execution": {
     "iopub.execute_input": "2022-08-28T21:12:46.385008Z",
     "iopub.status.busy": "2022-08-28T21:12:46.384717Z",
     "iopub.status.idle": "2022-08-28T21:12:46.392362Z",
     "shell.execute_reply": "2022-08-28T21:12:46.391433Z"
    },
    "papermill": {
     "duration": 0.030155,
     "end_time": "2022-08-28T21:12:46.394410",
     "exception": false,
     "start_time": "2022-08-28T21:12:46.364255",
     "status": "completed"
    },
    "tags": []
   },
   "outputs": [
    {
     "data": {
      "text/plain": [
       "tensor([[  4,  28,  97, 185, 236, 254],\n",
       "        [ 50, 164, 245, 255, 255, 255],\n",
       "        [184, 251, 255, 255, 254, 236],\n",
       "        [253, 255, 255, 253, 191,  79],\n",
       "        [255, 255, 255, 190,  54,   7],\n",
       "        [255, 255, 254, 139,  22,   1]], dtype=torch.uint8)"
      ]
     },
     "execution_count": 7,
     "metadata": {},
     "output_type": "execute_result"
    }
   ],
   "source": [
    "tensor(im)[4:10,4:10]"
   ]
  },
  {
   "cell_type": "code",
   "execution_count": 8,
   "id": "6f7400a3",
   "metadata": {
    "execution": {
     "iopub.execute_input": "2022-08-28T21:12:46.435572Z",
     "iopub.status.busy": "2022-08-28T21:12:46.434723Z",
     "iopub.status.idle": "2022-08-28T21:12:46.440951Z",
     "shell.execute_reply": "2022-08-28T21:12:46.439975Z"
    },
    "papermill": {
     "duration": 0.029195,
     "end_time": "2022-08-28T21:12:46.442982",
     "exception": false,
     "start_time": "2022-08-28T21:12:46.413787",
     "status": "completed"
    },
    "tags": []
   },
   "outputs": [
    {
     "data": {
      "text/plain": [
       "(32, 32)"
      ]
     },
     "execution_count": 8,
     "metadata": {},
     "output_type": "execute_result"
    }
   ],
   "source": [
    "im.shape"
   ]
  },
  {
   "cell_type": "markdown",
   "id": "fe16070f",
   "metadata": {
    "papermill": {
     "duration": 0.019306,
     "end_time": "2022-08-28T21:12:46.481743",
     "exception": false,
     "start_time": "2022-08-28T21:12:46.462437",
     "status": "completed"
    },
    "tags": []
   },
   "source": [
    " The size of the images  - 32 x 32"
   ]
  },
  {
   "cell_type": "markdown",
   "id": "f729acff",
   "metadata": {
    "papermill": {
     "duration": 0.019209,
     "end_time": "2022-08-28T21:12:46.520423",
     "exception": false,
     "start_time": "2022-08-28T21:12:46.501214",
     "status": "completed"
    },
    "tags": []
   },
   "source": [
    "#### Pandas has a nice background gradient feature"
   ]
  },
  {
   "cell_type": "code",
   "execution_count": 9,
   "id": "fc3e075b",
   "metadata": {
    "execution": {
     "iopub.execute_input": "2022-08-28T21:12:46.561869Z",
     "iopub.status.busy": "2022-08-28T21:12:46.561562Z",
     "iopub.status.idle": "2022-08-28T21:12:46.673689Z",
     "shell.execute_reply": "2022-08-28T21:12:46.672654Z"
    },
    "papermill": {
     "duration": 0.136183,
     "end_time": "2022-08-28T21:12:46.676758",
     "exception": false,
     "start_time": "2022-08-28T21:12:46.540575",
     "status": "completed"
    },
    "tags": []
   },
   "outputs": [
    {
     "data": {
      "text/html": [
       "<style type=\"text/css\">\n",
       "#T_2c967_row0_col0, #T_2c967_row0_col1, #T_2c967_row0_col2, #T_2c967_row3_col8, #T_2c967_row3_col9, #T_2c967_row3_col10, #T_2c967_row3_col11, #T_2c967_row3_col12, #T_2c967_row3_col13, #T_2c967_row4_col6, #T_2c967_row4_col7, #T_2c967_row4_col8, #T_2c967_row4_col9, #T_2c967_row4_col10, #T_2c967_row4_col11, #T_2c967_row4_col12, #T_2c967_row4_col13, #T_2c967_row4_col14, #T_2c967_row4_col15, #T_2c967_row5_col3, #T_2c967_row5_col4, #T_2c967_row5_col5, #T_2c967_row5_col6, #T_2c967_row5_col7, #T_2c967_row5_col8, #T_2c967_row5_col9, #T_2c967_row5_col10, #T_2c967_row5_col11, #T_2c967_row5_col12, #T_2c967_row5_col13, #T_2c967_row5_col14, #T_2c967_row5_col15, #T_2c967_row5_col16, #T_2c967_row5_col17, #T_2c967_row6_col15, #T_2c967_row6_col16, #T_2c967_row6_col17, #T_2c967_row7_col16, #T_2c967_row7_col17, #T_2c967_row8_col17, #T_2c967_row9_col17, #T_2c967_row10_col16, #T_2c967_row10_col17 {\n",
       "  font-size: 6pt;\n",
       "  background-color: #ffffff;\n",
       "  color: #000000;\n",
       "}\n",
       "#T_2c967_row0_col3 {\n",
       "  font-size: 6pt;\n",
       "  background-color: #b6b6b6;\n",
       "  color: #000000;\n",
       "}\n",
       "#T_2c967_row0_col4, #T_2c967_row1_col14 {\n",
       "  font-size: 6pt;\n",
       "  background-color: #171717;\n",
       "  color: #f1f1f1;\n",
       "}\n",
       "#T_2c967_row0_col5, #T_2c967_row1_col15, #T_2c967_row2_col4, #T_2c967_row2_col17, #T_2c967_row5_col2, #T_2c967_row8_col7, #T_2c967_row8_col12 {\n",
       "  font-size: 6pt;\n",
       "  background-color: #010101;\n",
       "  color: #f1f1f1;\n",
       "}\n",
       "#T_2c967_row0_col6, #T_2c967_row0_col7, #T_2c967_row0_col8, #T_2c967_row0_col9, #T_2c967_row0_col10, #T_2c967_row0_col11, #T_2c967_row0_col12, #T_2c967_row0_col13, #T_2c967_row0_col14, #T_2c967_row0_col15, #T_2c967_row0_col16, #T_2c967_row1_col3, #T_2c967_row1_col4, #T_2c967_row1_col5, #T_2c967_row1_col6, #T_2c967_row1_col16, #T_2c967_row1_col17, #T_2c967_row2_col2, #T_2c967_row2_col3, #T_2c967_row3_col1, #T_2c967_row3_col2, #T_2c967_row4_col0, #T_2c967_row4_col1, #T_2c967_row4_col2, #T_2c967_row5_col0, #T_2c967_row5_col1, #T_2c967_row6_col0, #T_2c967_row6_col1, #T_2c967_row6_col2, #T_2c967_row7_col1, #T_2c967_row7_col2, #T_2c967_row7_col3, #T_2c967_row8_col2, #T_2c967_row8_col3, #T_2c967_row8_col4, #T_2c967_row8_col5, #T_2c967_row8_col6, #T_2c967_row8_col10, #T_2c967_row8_col11, #T_2c967_row9_col3, #T_2c967_row9_col4, #T_2c967_row9_col5, #T_2c967_row9_col6, #T_2c967_row9_col7, #T_2c967_row9_col8, #T_2c967_row9_col9, #T_2c967_row9_col10, #T_2c967_row9_col11, #T_2c967_row9_col12, #T_2c967_row10_col3, #T_2c967_row10_col4, #T_2c967_row10_col5, #T_2c967_row10_col6, #T_2c967_row10_col7, #T_2c967_row10_col8, #T_2c967_row10_col9, #T_2c967_row10_col10 {\n",
       "  font-size: 6pt;\n",
       "  background-color: #000000;\n",
       "  color: #f1f1f1;\n",
       "}\n",
       "#T_2c967_row0_col17 {\n",
       "  font-size: 6pt;\n",
       "  background-color: #1a1a1a;\n",
       "  color: #f1f1f1;\n",
       "}\n",
       "#T_2c967_row1_col0 {\n",
       "  font-size: 6pt;\n",
       "  background-color: #e6e6e6;\n",
       "  color: #000000;\n",
       "}\n",
       "#T_2c967_row1_col1 {\n",
       "  font-size: 6pt;\n",
       "  background-color: #7a7a7a;\n",
       "  color: #f1f1f1;\n",
       "}\n",
       "#T_2c967_row1_col2, #T_2c967_row9_col2 {\n",
       "  font-size: 6pt;\n",
       "  background-color: #131313;\n",
       "  color: #f1f1f1;\n",
       "}\n",
       "#T_2c967_row1_col7, #T_2c967_row8_col8, #T_2c967_row10_col2 {\n",
       "  font-size: 6pt;\n",
       "  background-color: #030303;\n",
       "  color: #f1f1f1;\n",
       "}\n",
       "#T_2c967_row1_col8 {\n",
       "  font-size: 6pt;\n",
       "  background-color: #181818;\n",
       "  color: #f1f1f1;\n",
       "}\n",
       "#T_2c967_row1_col9, #T_2c967_row10_col12 {\n",
       "  font-size: 6pt;\n",
       "  background-color: #3a3a3a;\n",
       "  color: #f1f1f1;\n",
       "}\n",
       "#T_2c967_row1_col10 {\n",
       "  font-size: 6pt;\n",
       "  background-color: #5d5d5d;\n",
       "  color: #f1f1f1;\n",
       "}\n",
       "#T_2c967_row1_col11 {\n",
       "  font-size: 6pt;\n",
       "  background-color: #737373;\n",
       "  color: #f1f1f1;\n",
       "}\n",
       "#T_2c967_row1_col12, #T_2c967_row8_col14 {\n",
       "  font-size: 6pt;\n",
       "  background-color: #797979;\n",
       "  color: #f1f1f1;\n",
       "}\n",
       "#T_2c967_row1_col13, #T_2c967_row2_col0 {\n",
       "  font-size: 6pt;\n",
       "  background-color: #5b5b5b;\n",
       "  color: #f1f1f1;\n",
       "}\n",
       "#T_2c967_row2_col1, #T_2c967_row3_col3 {\n",
       "  font-size: 6pt;\n",
       "  background-color: #050505;\n",
       "  color: #f1f1f1;\n",
       "}\n",
       "#T_2c967_row2_col5 {\n",
       "  font-size: 6pt;\n",
       "  background-color: #161616;\n",
       "  color: #f1f1f1;\n",
       "}\n",
       "#T_2c967_row2_col6 {\n",
       "  font-size: 6pt;\n",
       "  background-color: #616161;\n",
       "  color: #f1f1f1;\n",
       "}\n",
       "#T_2c967_row2_col7 {\n",
       "  font-size: 6pt;\n",
       "  background-color: #afafaf;\n",
       "  color: #000000;\n",
       "}\n",
       "#T_2c967_row2_col8 {\n",
       "  font-size: 6pt;\n",
       "  background-color: #dfdfdf;\n",
       "  color: #000000;\n",
       "}\n",
       "#T_2c967_row2_col9 {\n",
       "  font-size: 6pt;\n",
       "  background-color: #f1f1f1;\n",
       "  color: #000000;\n",
       "}\n",
       "#T_2c967_row2_col10 {\n",
       "  font-size: 6pt;\n",
       "  background-color: #f7f7f7;\n",
       "  color: #000000;\n",
       "}\n",
       "#T_2c967_row2_col11, #T_2c967_row2_col12, #T_2c967_row6_col6 {\n",
       "  font-size: 6pt;\n",
       "  background-color: #fafafa;\n",
       "  color: #000000;\n",
       "}\n",
       "#T_2c967_row2_col13 {\n",
       "  font-size: 6pt;\n",
       "  background-color: #f5f5f5;\n",
       "  color: #000000;\n",
       "}\n",
       "#T_2c967_row2_col14 {\n",
       "  font-size: 6pt;\n",
       "  background-color: #cfcfcf;\n",
       "  color: #000000;\n",
       "}\n",
       "#T_2c967_row2_col15, #T_2c967_row3_col4 {\n",
       "  font-size: 6pt;\n",
       "  background-color: #585858;\n",
       "  color: #f1f1f1;\n",
       "}\n",
       "#T_2c967_row2_col16 {\n",
       "  font-size: 6pt;\n",
       "  background-color: #0c0c0c;\n",
       "  color: #f1f1f1;\n",
       "}\n",
       "#T_2c967_row3_col0, #T_2c967_row8_col9 {\n",
       "  font-size: 6pt;\n",
       "  background-color: #020202;\n",
       "  color: #f1f1f1;\n",
       "}\n",
       "#T_2c967_row3_col5 {\n",
       "  font-size: 6pt;\n",
       "  background-color: #cccccc;\n",
       "  color: #000000;\n",
       "}\n",
       "#T_2c967_row3_col6, #T_2c967_row6_col5 {\n",
       "  font-size: 6pt;\n",
       "  background-color: #f4f4f4;\n",
       "  color: #000000;\n",
       "}\n",
       "#T_2c967_row3_col7, #T_2c967_row3_col14, #T_2c967_row4_col5, #T_2c967_row4_col17, #T_2c967_row6_col10, #T_2c967_row6_col12, #T_2c967_row10_col15 {\n",
       "  font-size: 6pt;\n",
       "  background-color: #fcfcfc;\n",
       "  color: #000000;\n",
       "}\n",
       "#T_2c967_row3_col15, #T_2c967_row10_col14 {\n",
       "  font-size: 6pt;\n",
       "  background-color: #eaeaea;\n",
       "  color: #000000;\n",
       "}\n",
       "#T_2c967_row3_col16, #T_2c967_row7_col13 {\n",
       "  font-size: 6pt;\n",
       "  background-color: #bababa;\n",
       "  color: #000000;\n",
       "}\n",
       "#T_2c967_row3_col17 {\n",
       "  font-size: 6pt;\n",
       "  background-color: #939393;\n",
       "  color: #f1f1f1;\n",
       "}\n",
       "#T_2c967_row4_col3 {\n",
       "  font-size: 6pt;\n",
       "  background-color: #a9a9a9;\n",
       "  color: #f1f1f1;\n",
       "}\n",
       "#T_2c967_row4_col4, #T_2c967_row8_col15 {\n",
       "  font-size: 6pt;\n",
       "  background-color: #eeeeee;\n",
       "  color: #000000;\n",
       "}\n",
       "#T_2c967_row4_col16, #T_2c967_row6_col7, #T_2c967_row6_col9, #T_2c967_row6_col13 {\n",
       "  font-size: 6pt;\n",
       "  background-color: #fdfdfd;\n",
       "  color: #000000;\n",
       "}\n",
       "#T_2c967_row6_col3 {\n",
       "  font-size: 6pt;\n",
       "  background-color: #6f6f6f;\n",
       "  color: #f1f1f1;\n",
       "}\n",
       "#T_2c967_row6_col4 {\n",
       "  font-size: 6pt;\n",
       "  background-color: #d3d3d3;\n",
       "  color: #000000;\n",
       "}\n",
       "#T_2c967_row6_col8, #T_2c967_row6_col14, #T_2c967_row8_col16, #T_2c967_row9_col16 {\n",
       "  font-size: 6pt;\n",
       "  background-color: #fefefe;\n",
       "  color: #000000;\n",
       "}\n",
       "#T_2c967_row6_col11, #T_2c967_row7_col15 {\n",
       "  font-size: 6pt;\n",
       "  background-color: #fbfbfb;\n",
       "  color: #000000;\n",
       "}\n",
       "#T_2c967_row7_col0 {\n",
       "  font-size: 6pt;\n",
       "  background-color: #080808;\n",
       "  color: #f1f1f1;\n",
       "}\n",
       "#T_2c967_row7_col4 {\n",
       "  font-size: 6pt;\n",
       "  background-color: #141414;\n",
       "  color: #f1f1f1;\n",
       "}\n",
       "#T_2c967_row7_col5 {\n",
       "  font-size: 6pt;\n",
       "  background-color: #4d4d4d;\n",
       "  color: #f1f1f1;\n",
       "}\n",
       "#T_2c967_row7_col6 {\n",
       "  font-size: 6pt;\n",
       "  background-color: #777777;\n",
       "  color: #f1f1f1;\n",
       "}\n",
       "#T_2c967_row7_col7 {\n",
       "  font-size: 6pt;\n",
       "  background-color: #959595;\n",
       "  color: #f1f1f1;\n",
       "}\n",
       "#T_2c967_row7_col8 {\n",
       "  font-size: 6pt;\n",
       "  background-color: #aaaaaa;\n",
       "  color: #f1f1f1;\n",
       "}\n",
       "#T_2c967_row7_col9 {\n",
       "  font-size: 6pt;\n",
       "  background-color: #a3a3a3;\n",
       "  color: #f1f1f1;\n",
       "}\n",
       "#T_2c967_row7_col10 {\n",
       "  font-size: 6pt;\n",
       "  background-color: #8a8a8a;\n",
       "  color: #f1f1f1;\n",
       "}\n",
       "#T_2c967_row7_col11 {\n",
       "  font-size: 6pt;\n",
       "  background-color: #7d7d7d;\n",
       "  color: #f1f1f1;\n",
       "}\n",
       "#T_2c967_row7_col12 {\n",
       "  font-size: 6pt;\n",
       "  background-color: #888888;\n",
       "  color: #f1f1f1;\n",
       "}\n",
       "#T_2c967_row7_col14, #T_2c967_row9_col0 {\n",
       "  font-size: 6pt;\n",
       "  background-color: #e9e9e9;\n",
       "  color: #000000;\n",
       "}\n",
       "#T_2c967_row8_col0 {\n",
       "  font-size: 6pt;\n",
       "  background-color: #727272;\n",
       "  color: #f1f1f1;\n",
       "}\n",
       "#T_2c967_row8_col1, #T_2c967_row10_col11 {\n",
       "  font-size: 6pt;\n",
       "  background-color: #0d0d0d;\n",
       "  color: #f1f1f1;\n",
       "}\n",
       "#T_2c967_row8_col13 {\n",
       "  font-size: 6pt;\n",
       "  background-color: #090909;\n",
       "  color: #f1f1f1;\n",
       "}\n",
       "#T_2c967_row9_col1 {\n",
       "  font-size: 6pt;\n",
       "  background-color: #949494;\n",
       "  color: #f1f1f1;\n",
       "}\n",
       "#T_2c967_row9_col13 {\n",
       "  font-size: 6pt;\n",
       "  background-color: #060606;\n",
       "  color: #f1f1f1;\n",
       "}\n",
       "#T_2c967_row9_col14 {\n",
       "  font-size: 6pt;\n",
       "  background-color: #7e7e7e;\n",
       "  color: #f1f1f1;\n",
       "}\n",
       "#T_2c967_row9_col15 {\n",
       "  font-size: 6pt;\n",
       "  background-color: #f0f0f0;\n",
       "  color: #000000;\n",
       "}\n",
       "#T_2c967_row10_col0 {\n",
       "  font-size: 6pt;\n",
       "  background-color: #909090;\n",
       "  color: #f1f1f1;\n",
       "}\n",
       "#T_2c967_row10_col1 {\n",
       "  font-size: 6pt;\n",
       "  background-color: #353535;\n",
       "  color: #f1f1f1;\n",
       "}\n",
       "#T_2c967_row10_col13 {\n",
       "  font-size: 6pt;\n",
       "  background-color: #9c9c9c;\n",
       "  color: #f1f1f1;\n",
       "}\n",
       "</style>\n",
       "<table id=\"T_2c967_\">\n",
       "  <thead>\n",
       "    <tr>\n",
       "      <th class=\"blank level0\" >&nbsp;</th>\n",
       "      <th class=\"col_heading level0 col0\" >0</th>\n",
       "      <th class=\"col_heading level0 col1\" >1</th>\n",
       "      <th class=\"col_heading level0 col2\" >2</th>\n",
       "      <th class=\"col_heading level0 col3\" >3</th>\n",
       "      <th class=\"col_heading level0 col4\" >4</th>\n",
       "      <th class=\"col_heading level0 col5\" >5</th>\n",
       "      <th class=\"col_heading level0 col6\" >6</th>\n",
       "      <th class=\"col_heading level0 col7\" >7</th>\n",
       "      <th class=\"col_heading level0 col8\" >8</th>\n",
       "      <th class=\"col_heading level0 col9\" >9</th>\n",
       "      <th class=\"col_heading level0 col10\" >10</th>\n",
       "      <th class=\"col_heading level0 col11\" >11</th>\n",
       "      <th class=\"col_heading level0 col12\" >12</th>\n",
       "      <th class=\"col_heading level0 col13\" >13</th>\n",
       "      <th class=\"col_heading level0 col14\" >14</th>\n",
       "      <th class=\"col_heading level0 col15\" >15</th>\n",
       "      <th class=\"col_heading level0 col16\" >16</th>\n",
       "      <th class=\"col_heading level0 col17\" >17</th>\n",
       "    </tr>\n",
       "  </thead>\n",
       "  <tbody>\n",
       "    <tr>\n",
       "      <th id=\"T_2c967_level0_row0\" class=\"row_heading level0 row0\" >0</th>\n",
       "      <td id=\"T_2c967_row0_col0\" class=\"data row0 col0\" >4</td>\n",
       "      <td id=\"T_2c967_row0_col1\" class=\"data row0 col1\" >28</td>\n",
       "      <td id=\"T_2c967_row0_col2\" class=\"data row0 col2\" >97</td>\n",
       "      <td id=\"T_2c967_row0_col3\" class=\"data row0 col3\" >185</td>\n",
       "      <td id=\"T_2c967_row0_col4\" class=\"data row0 col4\" >236</td>\n",
       "      <td id=\"T_2c967_row0_col5\" class=\"data row0 col5\" >254</td>\n",
       "      <td id=\"T_2c967_row0_col6\" class=\"data row0 col6\" >255</td>\n",
       "      <td id=\"T_2c967_row0_col7\" class=\"data row0 col7\" >255</td>\n",
       "      <td id=\"T_2c967_row0_col8\" class=\"data row0 col8\" >255</td>\n",
       "      <td id=\"T_2c967_row0_col9\" class=\"data row0 col9\" >255</td>\n",
       "      <td id=\"T_2c967_row0_col10\" class=\"data row0 col10\" >255</td>\n",
       "      <td id=\"T_2c967_row0_col11\" class=\"data row0 col11\" >255</td>\n",
       "      <td id=\"T_2c967_row0_col12\" class=\"data row0 col12\" >255</td>\n",
       "      <td id=\"T_2c967_row0_col13\" class=\"data row0 col13\" >255</td>\n",
       "      <td id=\"T_2c967_row0_col14\" class=\"data row0 col14\" >255</td>\n",
       "      <td id=\"T_2c967_row0_col15\" class=\"data row0 col15\" >255</td>\n",
       "      <td id=\"T_2c967_row0_col16\" class=\"data row0 col16\" >255</td>\n",
       "      <td id=\"T_2c967_row0_col17\" class=\"data row0 col17\" >233</td>\n",
       "    </tr>\n",
       "    <tr>\n",
       "      <th id=\"T_2c967_level0_row1\" class=\"row_heading level0 row1\" >1</th>\n",
       "      <td id=\"T_2c967_row1_col0\" class=\"data row1 col0\" >50</td>\n",
       "      <td id=\"T_2c967_row1_col1\" class=\"data row1 col1\" >164</td>\n",
       "      <td id=\"T_2c967_row1_col2\" class=\"data row1 col2\" >245</td>\n",
       "      <td id=\"T_2c967_row1_col3\" class=\"data row1 col3\" >255</td>\n",
       "      <td id=\"T_2c967_row1_col4\" class=\"data row1 col4\" >255</td>\n",
       "      <td id=\"T_2c967_row1_col5\" class=\"data row1 col5\" >255</td>\n",
       "      <td id=\"T_2c967_row1_col6\" class=\"data row1 col6\" >255</td>\n",
       "      <td id=\"T_2c967_row1_col7\" class=\"data row1 col7\" >252</td>\n",
       "      <td id=\"T_2c967_row1_col8\" class=\"data row1 col8\" >234</td>\n",
       "      <td id=\"T_2c967_row1_col9\" class=\"data row1 col9\" >208</td>\n",
       "      <td id=\"T_2c967_row1_col10\" class=\"data row1 col10\" >181</td>\n",
       "      <td id=\"T_2c967_row1_col11\" class=\"data row1 col11\" >159</td>\n",
       "      <td id=\"T_2c967_row1_col12\" class=\"data row1 col12\" >154</td>\n",
       "      <td id=\"T_2c967_row1_col13\" class=\"data row1 col13\" >183</td>\n",
       "      <td id=\"T_2c967_row1_col14\" class=\"data row1 col14\" >235</td>\n",
       "      <td id=\"T_2c967_row1_col15\" class=\"data row1 col15\" >254</td>\n",
       "      <td id=\"T_2c967_row1_col16\" class=\"data row1 col16\" >255</td>\n",
       "      <td id=\"T_2c967_row1_col17\" class=\"data row1 col17\" >255</td>\n",
       "    </tr>\n",
       "    <tr>\n",
       "      <th id=\"T_2c967_level0_row2\" class=\"row_heading level0 row2\" >2</th>\n",
       "      <td id=\"T_2c967_row2_col0\" class=\"data row2 col0\" >184</td>\n",
       "      <td id=\"T_2c967_row2_col1\" class=\"data row2 col1\" >251</td>\n",
       "      <td id=\"T_2c967_row2_col2\" class=\"data row2 col2\" >255</td>\n",
       "      <td id=\"T_2c967_row2_col3\" class=\"data row2 col3\" >255</td>\n",
       "      <td id=\"T_2c967_row2_col4\" class=\"data row2 col4\" >254</td>\n",
       "      <td id=\"T_2c967_row2_col5\" class=\"data row2 col5\" >236</td>\n",
       "      <td id=\"T_2c967_row2_col6\" class=\"data row2 col6\" >177</td>\n",
       "      <td id=\"T_2c967_row2_col7\" class=\"data row2 col7\" >107</td>\n",
       "      <td id=\"T_2c967_row2_col8\" class=\"data row2 col8\" >56</td>\n",
       "      <td id=\"T_2c967_row2_col9\" class=\"data row2 col9\" >29</td>\n",
       "      <td id=\"T_2c967_row2_col10\" class=\"data row2 col10\" >17</td>\n",
       "      <td id=\"T_2c967_row2_col11\" class=\"data row2 col11\" >11</td>\n",
       "      <td id=\"T_2c967_row2_col12\" class=\"data row2 col12\" >10</td>\n",
       "      <td id=\"T_2c967_row2_col13\" class=\"data row2 col13\" >21</td>\n",
       "      <td id=\"T_2c967_row2_col14\" class=\"data row2 col14\" >75</td>\n",
       "      <td id=\"T_2c967_row2_col15\" class=\"data row2 col15\" >185</td>\n",
       "      <td id=\"T_2c967_row2_col16\" class=\"data row2 col16\" >245</td>\n",
       "      <td id=\"T_2c967_row2_col17\" class=\"data row2 col17\" >254</td>\n",
       "    </tr>\n",
       "    <tr>\n",
       "      <th id=\"T_2c967_level0_row3\" class=\"row_heading level0 row3\" >3</th>\n",
       "      <td id=\"T_2c967_row3_col0\" class=\"data row3 col0\" >253</td>\n",
       "      <td id=\"T_2c967_row3_col1\" class=\"data row3 col1\" >255</td>\n",
       "      <td id=\"T_2c967_row3_col2\" class=\"data row3 col2\" >255</td>\n",
       "      <td id=\"T_2c967_row3_col3\" class=\"data row3 col3\" >253</td>\n",
       "      <td id=\"T_2c967_row3_col4\" class=\"data row3 col4\" >191</td>\n",
       "      <td id=\"T_2c967_row3_col5\" class=\"data row3 col5\" >79</td>\n",
       "      <td id=\"T_2c967_row3_col6\" class=\"data row3 col6\" >23</td>\n",
       "      <td id=\"T_2c967_row3_col7\" class=\"data row3 col7\" >6</td>\n",
       "      <td id=\"T_2c967_row3_col8\" class=\"data row3 col8\" >1</td>\n",
       "      <td id=\"T_2c967_row3_col9\" class=\"data row3 col9\" >0</td>\n",
       "      <td id=\"T_2c967_row3_col10\" class=\"data row3 col10\" >0</td>\n",
       "      <td id=\"T_2c967_row3_col11\" class=\"data row3 col11\" >0</td>\n",
       "      <td id=\"T_2c967_row3_col12\" class=\"data row3 col12\" >0</td>\n",
       "      <td id=\"T_2c967_row3_col13\" class=\"data row3 col13\" >0</td>\n",
       "      <td id=\"T_2c967_row3_col14\" class=\"data row3 col14\" >7</td>\n",
       "      <td id=\"T_2c967_row3_col15\" class=\"data row3 col15\" >40</td>\n",
       "      <td id=\"T_2c967_row3_col16\" class=\"data row3 col16\" >98</td>\n",
       "      <td id=\"T_2c967_row3_col17\" class=\"data row3 col17\" >130</td>\n",
       "    </tr>\n",
       "    <tr>\n",
       "      <th id=\"T_2c967_level0_row4\" class=\"row_heading level0 row4\" >4</th>\n",
       "      <td id=\"T_2c967_row4_col0\" class=\"data row4 col0\" >255</td>\n",
       "      <td id=\"T_2c967_row4_col1\" class=\"data row4 col1\" >255</td>\n",
       "      <td id=\"T_2c967_row4_col2\" class=\"data row4 col2\" >255</td>\n",
       "      <td id=\"T_2c967_row4_col3\" class=\"data row4 col3\" >190</td>\n",
       "      <td id=\"T_2c967_row4_col4\" class=\"data row4 col4\" >54</td>\n",
       "      <td id=\"T_2c967_row4_col5\" class=\"data row4 col5\" >7</td>\n",
       "      <td id=\"T_2c967_row4_col6\" class=\"data row4 col6\" >0</td>\n",
       "      <td id=\"T_2c967_row4_col7\" class=\"data row4 col7\" >0</td>\n",
       "      <td id=\"T_2c967_row4_col8\" class=\"data row4 col8\" >0</td>\n",
       "      <td id=\"T_2c967_row4_col9\" class=\"data row4 col9\" >0</td>\n",
       "      <td id=\"T_2c967_row4_col10\" class=\"data row4 col10\" >0</td>\n",
       "      <td id=\"T_2c967_row4_col11\" class=\"data row4 col11\" >0</td>\n",
       "      <td id=\"T_2c967_row4_col12\" class=\"data row4 col12\" >0</td>\n",
       "      <td id=\"T_2c967_row4_col13\" class=\"data row4 col13\" >0</td>\n",
       "      <td id=\"T_2c967_row4_col14\" class=\"data row4 col14\" >0</td>\n",
       "      <td id=\"T_2c967_row4_col15\" class=\"data row4 col15\" >1</td>\n",
       "      <td id=\"T_2c967_row4_col16\" class=\"data row4 col16\" >4</td>\n",
       "      <td id=\"T_2c967_row4_col17\" class=\"data row4 col17\" >6</td>\n",
       "    </tr>\n",
       "    <tr>\n",
       "      <th id=\"T_2c967_level0_row5\" class=\"row_heading level0 row5\" >5</th>\n",
       "      <td id=\"T_2c967_row5_col0\" class=\"data row5 col0\" >255</td>\n",
       "      <td id=\"T_2c967_row5_col1\" class=\"data row5 col1\" >255</td>\n",
       "      <td id=\"T_2c967_row5_col2\" class=\"data row5 col2\" >254</td>\n",
       "      <td id=\"T_2c967_row5_col3\" class=\"data row5 col3\" >139</td>\n",
       "      <td id=\"T_2c967_row5_col4\" class=\"data row5 col4\" >22</td>\n",
       "      <td id=\"T_2c967_row5_col5\" class=\"data row5 col5\" >1</td>\n",
       "      <td id=\"T_2c967_row5_col6\" class=\"data row5 col6\" >0</td>\n",
       "      <td id=\"T_2c967_row5_col7\" class=\"data row5 col7\" >0</td>\n",
       "      <td id=\"T_2c967_row5_col8\" class=\"data row5 col8\" >0</td>\n",
       "      <td id=\"T_2c967_row5_col9\" class=\"data row5 col9\" >0</td>\n",
       "      <td id=\"T_2c967_row5_col10\" class=\"data row5 col10\" >0</td>\n",
       "      <td id=\"T_2c967_row5_col11\" class=\"data row5 col11\" >0</td>\n",
       "      <td id=\"T_2c967_row5_col12\" class=\"data row5 col12\" >0</td>\n",
       "      <td id=\"T_2c967_row5_col13\" class=\"data row5 col13\" >0</td>\n",
       "      <td id=\"T_2c967_row5_col14\" class=\"data row5 col14\" >0</td>\n",
       "      <td id=\"T_2c967_row5_col15\" class=\"data row5 col15\" >0</td>\n",
       "      <td id=\"T_2c967_row5_col16\" class=\"data row5 col16\" >0</td>\n",
       "      <td id=\"T_2c967_row5_col17\" class=\"data row5 col17\" >0</td>\n",
       "    </tr>\n",
       "    <tr>\n",
       "      <th id=\"T_2c967_level0_row6\" class=\"row_heading level0 row6\" >6</th>\n",
       "      <td id=\"T_2c967_row6_col0\" class=\"data row6 col0\" >255</td>\n",
       "      <td id=\"T_2c967_row6_col1\" class=\"data row6 col1\" >255</td>\n",
       "      <td id=\"T_2c967_row6_col2\" class=\"data row6 col2\" >255</td>\n",
       "      <td id=\"T_2c967_row6_col3\" class=\"data row6 col3\" >213</td>\n",
       "      <td id=\"T_2c967_row6_col4\" class=\"data row6 col4\" >87</td>\n",
       "      <td id=\"T_2c967_row6_col5\" class=\"data row6 col5\" >25</td>\n",
       "      <td id=\"T_2c967_row6_col6\" class=\"data row6 col6\" >10</td>\n",
       "      <td id=\"T_2c967_row6_col7\" class=\"data row6 col7\" >5</td>\n",
       "      <td id=\"T_2c967_row6_col8\" class=\"data row6 col8\" >3</td>\n",
       "      <td id=\"T_2c967_row6_col9\" class=\"data row6 col9\" >4</td>\n",
       "      <td id=\"T_2c967_row6_col10\" class=\"data row6 col10\" >7</td>\n",
       "      <td id=\"T_2c967_row6_col11\" class=\"data row6 col11\" >8</td>\n",
       "      <td id=\"T_2c967_row6_col12\" class=\"data row6 col12\" >7</td>\n",
       "      <td id=\"T_2c967_row6_col13\" class=\"data row6 col13\" >4</td>\n",
       "      <td id=\"T_2c967_row6_col14\" class=\"data row6 col14\" >2</td>\n",
       "      <td id=\"T_2c967_row6_col15\" class=\"data row6 col15\" >0</td>\n",
       "      <td id=\"T_2c967_row6_col16\" class=\"data row6 col16\" >0</td>\n",
       "      <td id=\"T_2c967_row6_col17\" class=\"data row6 col17\" >0</td>\n",
       "    </tr>\n",
       "    <tr>\n",
       "      <th id=\"T_2c967_level0_row7\" class=\"row_heading level0 row7\" >7</th>\n",
       "      <td id=\"T_2c967_row7_col0\" class=\"data row7 col0\" >248</td>\n",
       "      <td id=\"T_2c967_row7_col1\" class=\"data row7 col1\" >255</td>\n",
       "      <td id=\"T_2c967_row7_col2\" class=\"data row7 col2\" >255</td>\n",
       "      <td id=\"T_2c967_row7_col3\" class=\"data row7 col3\" >255</td>\n",
       "      <td id=\"T_2c967_row7_col4\" class=\"data row7 col4\" >239</td>\n",
       "      <td id=\"T_2c967_row7_col5\" class=\"data row7 col5\" >195</td>\n",
       "      <td id=\"T_2c967_row7_col6\" class=\"data row7 col6\" >156</td>\n",
       "      <td id=\"T_2c967_row7_col7\" class=\"data row7 col7\" >128</td>\n",
       "      <td id=\"T_2c967_row7_col8\" class=\"data row7 col8\" >111</td>\n",
       "      <td id=\"T_2c967_row7_col9\" class=\"data row7 col9\" >117</td>\n",
       "      <td id=\"T_2c967_row7_col10\" class=\"data row7 col10\" >138</td>\n",
       "      <td id=\"T_2c967_row7_col11\" class=\"data row7 col11\" >150</td>\n",
       "      <td id=\"T_2c967_row7_col12\" class=\"data row7 col12\" >140</td>\n",
       "      <td id=\"T_2c967_row7_col13\" class=\"data row7 col13\" >98</td>\n",
       "      <td id=\"T_2c967_row7_col14\" class=\"data row7 col14\" >42</td>\n",
       "      <td id=\"T_2c967_row7_col15\" class=\"data row7 col15\" >9</td>\n",
       "      <td id=\"T_2c967_row7_col16\" class=\"data row7 col16\" >1</td>\n",
       "      <td id=\"T_2c967_row7_col17\" class=\"data row7 col17\" >0</td>\n",
       "    </tr>\n",
       "    <tr>\n",
       "      <th id=\"T_2c967_level0_row8\" class=\"row_heading level0 row8\" >8</th>\n",
       "      <td id=\"T_2c967_row8_col0\" class=\"data row8 col0\" >161</td>\n",
       "      <td id=\"T_2c967_row8_col1\" class=\"data row8 col1\" >245</td>\n",
       "      <td id=\"T_2c967_row8_col2\" class=\"data row8 col2\" >255</td>\n",
       "      <td id=\"T_2c967_row8_col3\" class=\"data row8 col3\" >255</td>\n",
       "      <td id=\"T_2c967_row8_col4\" class=\"data row8 col4\" >255</td>\n",
       "      <td id=\"T_2c967_row8_col5\" class=\"data row8 col5\" >255</td>\n",
       "      <td id=\"T_2c967_row8_col6\" class=\"data row8 col6\" >255</td>\n",
       "      <td id=\"T_2c967_row8_col7\" class=\"data row8 col7\" >254</td>\n",
       "      <td id=\"T_2c967_row8_col8\" class=\"data row8 col8\" >252</td>\n",
       "      <td id=\"T_2c967_row8_col9\" class=\"data row8 col9\" >253</td>\n",
       "      <td id=\"T_2c967_row8_col10\" class=\"data row8 col10\" >255</td>\n",
       "      <td id=\"T_2c967_row8_col11\" class=\"data row8 col11\" >255</td>\n",
       "      <td id=\"T_2c967_row8_col12\" class=\"data row8 col12\" >254</td>\n",
       "      <td id=\"T_2c967_row8_col13\" class=\"data row8 col13\" >247</td>\n",
       "      <td id=\"T_2c967_row8_col14\" class=\"data row8 col14\" >154</td>\n",
       "      <td id=\"T_2c967_row8_col15\" class=\"data row8 col15\" >34</td>\n",
       "      <td id=\"T_2c967_row8_col16\" class=\"data row8 col16\" >3</td>\n",
       "      <td id=\"T_2c967_row8_col17\" class=\"data row8 col17\" >0</td>\n",
       "    </tr>\n",
       "    <tr>\n",
       "      <th id=\"T_2c967_level0_row9\" class=\"row_heading level0 row9\" >9</th>\n",
       "      <td id=\"T_2c967_row9_col0\" class=\"data row9 col0\" >45</td>\n",
       "      <td id=\"T_2c967_row9_col1\" class=\"data row9 col1\" >143</td>\n",
       "      <td id=\"T_2c967_row9_col2\" class=\"data row9 col2\" >245</td>\n",
       "      <td id=\"T_2c967_row9_col3\" class=\"data row9 col3\" >255</td>\n",
       "      <td id=\"T_2c967_row9_col4\" class=\"data row9 col4\" >255</td>\n",
       "      <td id=\"T_2c967_row9_col5\" class=\"data row9 col5\" >255</td>\n",
       "      <td id=\"T_2c967_row9_col6\" class=\"data row9 col6\" >255</td>\n",
       "      <td id=\"T_2c967_row9_col7\" class=\"data row9 col7\" >255</td>\n",
       "      <td id=\"T_2c967_row9_col8\" class=\"data row9 col8\" >255</td>\n",
       "      <td id=\"T_2c967_row9_col9\" class=\"data row9 col9\" >255</td>\n",
       "      <td id=\"T_2c967_row9_col10\" class=\"data row9 col10\" >255</td>\n",
       "      <td id=\"T_2c967_row9_col11\" class=\"data row9 col11\" >255</td>\n",
       "      <td id=\"T_2c967_row9_col12\" class=\"data row9 col12\" >255</td>\n",
       "      <td id=\"T_2c967_row9_col13\" class=\"data row9 col13\" >250</td>\n",
       "      <td id=\"T_2c967_row9_col14\" class=\"data row9 col14\" >149</td>\n",
       "      <td id=\"T_2c967_row9_col15\" class=\"data row9 col15\" >32</td>\n",
       "      <td id=\"T_2c967_row9_col16\" class=\"data row9 col16\" >2</td>\n",
       "      <td id=\"T_2c967_row9_col17\" class=\"data row9 col17\" >0</td>\n",
       "    </tr>\n",
       "    <tr>\n",
       "      <th id=\"T_2c967_level0_row10\" class=\"row_heading level0 row10\" >10</th>\n",
       "      <td id=\"T_2c967_row10_col0\" class=\"data row10 col0\" >135</td>\n",
       "      <td id=\"T_2c967_row10_col1\" class=\"data row10 col1\" >216</td>\n",
       "      <td id=\"T_2c967_row10_col2\" class=\"data row10 col2\" >253</td>\n",
       "      <td id=\"T_2c967_row10_col3\" class=\"data row10 col3\" >255</td>\n",
       "      <td id=\"T_2c967_row10_col4\" class=\"data row10 col4\" >255</td>\n",
       "      <td id=\"T_2c967_row10_col5\" class=\"data row10 col5\" >255</td>\n",
       "      <td id=\"T_2c967_row10_col6\" class=\"data row10 col6\" >255</td>\n",
       "      <td id=\"T_2c967_row10_col7\" class=\"data row10 col7\" >255</td>\n",
       "      <td id=\"T_2c967_row10_col8\" class=\"data row10 col8\" >255</td>\n",
       "      <td id=\"T_2c967_row10_col9\" class=\"data row10 col9\" >255</td>\n",
       "      <td id=\"T_2c967_row10_col10\" class=\"data row10 col10\" >255</td>\n",
       "      <td id=\"T_2c967_row10_col11\" class=\"data row10 col11\" >244</td>\n",
       "      <td id=\"T_2c967_row10_col12\" class=\"data row10 col12\" >208</td>\n",
       "      <td id=\"T_2c967_row10_col13\" class=\"data row10 col13\" >123</td>\n",
       "      <td id=\"T_2c967_row10_col14\" class=\"data row10 col14\" >40</td>\n",
       "      <td id=\"T_2c967_row10_col15\" class=\"data row10 col15\" >7</td>\n",
       "      <td id=\"T_2c967_row10_col16\" class=\"data row10 col16\" >0</td>\n",
       "      <td id=\"T_2c967_row10_col17\" class=\"data row10 col17\" >0</td>\n",
       "    </tr>\n",
       "  </tbody>\n",
       "</table>\n"
      ],
      "text/plain": [
       "<pandas.io.formats.style.Styler at 0x7f53aaea57d0>"
      ]
     },
     "execution_count": 9,
     "metadata": {},
     "output_type": "execute_result"
    }
   ],
   "source": [
    "im_t = tensor(im)\n",
    "df = pd.DataFrame(im_t[4:15,4:22])\n",
    "df.style.set_properties(**{'font-size':'6pt'}).background_gradient('Greys')"
   ]
  },
  {
   "cell_type": "markdown",
   "id": "59cf38d0",
   "metadata": {
    "papermill": {
     "duration": 0.020591,
     "end_time": "2022-08-28T21:12:46.718262",
     "exception": false,
     "start_time": "2022-08-28T21:12:46.697671",
     "status": "completed"
    },
    "tags": []
   },
   "source": [
    "# Baseline Model\n",
    "> #### Create a model that is simple and works fine enough(ideally, it should beat the chance i.e. it should have at least 50% accurate)"
   ]
  },
  {
   "cell_type": "markdown",
   "id": "6e9df83a",
   "metadata": {
    "papermill": {
     "duration": 0.019817,
     "end_time": "2022-08-28T21:12:46.758328",
     "exception": false,
     "start_time": "2022-08-28T21:12:46.738511",
     "status": "completed"
    },
    "tags": []
   },
   "source": [
    "### Distance from mean - Create a mean image for each of the digit from 0 to 9"
   ]
  },
  {
   "cell_type": "code",
   "execution_count": 10,
   "id": "20d1fba0",
   "metadata": {
    "execution": {
     "iopub.execute_input": "2022-08-28T21:12:46.801338Z",
     "iopub.status.busy": "2022-08-28T21:12:46.800452Z",
     "iopub.status.idle": "2022-08-28T21:12:46.805766Z",
     "shell.execute_reply": "2022-08-28T21:12:46.804882Z"
    },
    "papermill": {
     "duration": 0.029354,
     "end_time": "2022-08-28T21:12:46.807984",
     "exception": false,
     "start_time": "2022-08-28T21:12:46.778630",
     "status": "completed"
    },
    "tags": []
   },
   "outputs": [],
   "source": [
    "Dict = {0: zeroes,1:ones, 2: twos, 3: threes, 4: fours, 5: fives, 6: sixes, 7:sevens, 8:eights, 9:nines}"
   ]
  },
  {
   "cell_type": "code",
   "execution_count": 11,
   "id": "4d630bca",
   "metadata": {
    "execution": {
     "iopub.execute_input": "2022-08-28T21:12:46.850254Z",
     "iopub.status.busy": "2022-08-28T21:12:46.849965Z",
     "iopub.status.idle": "2022-08-28T21:13:59.949345Z",
     "shell.execute_reply": "2022-08-28T21:13:59.948327Z"
    },
    "papermill": {
     "duration": 73.12319,
     "end_time": "2022-08-28T21:13:59.951770",
     "exception": false,
     "start_time": "2022-08-28T21:12:46.828580",
     "status": "completed"
    },
    "tags": []
   },
   "outputs": [],
   "source": [
    "train_tensors = []\n",
    "valid_tensors = []\n",
    "\n",
    "for key in Dict:\n",
    "    train_tensors.append([tensor(Image.open(o)) for o in Dict[key]])\n",
    "    valid_inf =  valid_path.ls().sorted()[key].ls()\n",
    "    valid_tensors.append([tensor(Image.open(o)) for o in valid_inf])\n",
    "    "
   ]
  },
  {
   "cell_type": "markdown",
   "id": "dd07e5b3",
   "metadata": {
    "papermill": {
     "duration": 0.020287,
     "end_time": "2022-08-28T21:13:59.992989",
     "exception": false,
     "start_time": "2022-08-28T21:13:59.972702",
     "status": "completed"
    },
    "tags": []
   },
   "source": [
    "#### Keep checking the size of the variables involved, it is one of the best practices"
   ]
  },
  {
   "cell_type": "code",
   "execution_count": 12,
   "id": "9b042cca",
   "metadata": {
    "execution": {
     "iopub.execute_input": "2022-08-28T21:14:00.035588Z",
     "iopub.status.busy": "2022-08-28T21:14:00.035245Z",
     "iopub.status.idle": "2022-08-28T21:14:00.043243Z",
     "shell.execute_reply": "2022-08-28T21:14:00.042387Z"
    },
    "papermill": {
     "duration": 0.032125,
     "end_time": "2022-08-28T21:14:00.045856",
     "exception": false,
     "start_time": "2022-08-28T21:14:00.013731",
     "status": "completed"
    },
    "tags": []
   },
   "outputs": [
    {
     "data": {
      "text/plain": [
       "(10, 10, 1700, 300)"
      ]
     },
     "execution_count": 12,
     "metadata": {},
     "output_type": "execute_result"
    }
   ],
   "source": [
    "len(train_tensors), len(valid_tensors), len(train_tensors[0]), len(valid_tensors[0])\n"
   ]
  },
  {
   "cell_type": "markdown",
   "id": "9e6b45e0",
   "metadata": {
    "papermill": {
     "duration": 0.020058,
     "end_time": "2022-08-28T21:14:00.087050",
     "exception": false,
     "start_time": "2022-08-28T21:14:00.066992",
     "status": "completed"
    },
    "tags": []
   },
   "source": [
    "### Stack the images for each of the digit class and find the mean digit(average of all the images for a digit)"
   ]
  },
  {
   "cell_type": "markdown",
   "id": "e120f0f6",
   "metadata": {
    "papermill": {
     "duration": 0.020968,
     "end_time": "2022-08-28T21:14:00.128211",
     "exception": false,
     "start_time": "2022-08-28T21:14:00.107243",
     "status": "completed"
    },
    "tags": []
   },
   "source": [
    ">  #### ***Each image is 2D with size 32*32, by stacking all 1700 images(for one digit) in the train set, we create a 3d shape of 1700*32*32"
   ]
  },
  {
   "cell_type": "code",
   "execution_count": 13,
   "id": "bcca7622",
   "metadata": {
    "execution": {
     "iopub.execute_input": "2022-08-28T21:14:00.170284Z",
     "iopub.status.busy": "2022-08-28T21:14:00.169929Z",
     "iopub.status.idle": "2022-08-28T21:14:00.295753Z",
     "shell.execute_reply": "2022-08-28T21:14:00.293304Z"
    },
    "papermill": {
     "duration": 0.150094,
     "end_time": "2022-08-28T21:14:00.298366",
     "exception": false,
     "start_time": "2022-08-28T21:14:00.148272",
     "status": "completed"
    },
    "tags": []
   },
   "outputs": [
    {
     "name": "stdout",
     "output_type": "stream",
     "text": [
      "10\n",
      "torch.Size([1700, 32, 32])\n"
     ]
    },
    {
     "data": {
      "text/plain": [
       "(None, None)"
      ]
     },
     "execution_count": 13,
     "metadata": {},
     "output_type": "execute_result"
    }
   ],
   "source": [
    "stacked_train_tensors = []\n",
    "for i in range(len(train_tensors)):\n",
    "    stacked_train_tensors.append((torch.stack(train_tensors[i]).float()/255))\n",
    "    #print(i)\n",
    "                                 \n",
    "print(len(stacked_train_tensors)), print(stacked_train_tensors[0].shape)                                "
   ]
  },
  {
   "cell_type": "code",
   "execution_count": 14,
   "id": "259f9e50",
   "metadata": {
    "execution": {
     "iopub.execute_input": "2022-08-28T21:14:00.342110Z",
     "iopub.status.busy": "2022-08-28T21:14:00.341804Z",
     "iopub.status.idle": "2022-08-28T21:14:00.433672Z",
     "shell.execute_reply": "2022-08-28T21:14:00.432188Z"
    },
    "papermill": {
     "duration": 0.115992,
     "end_time": "2022-08-28T21:14:00.435809",
     "exception": false,
     "start_time": "2022-08-28T21:14:00.319817",
     "status": "completed"
    },
    "tags": []
   },
   "outputs": [
    {
     "name": "stdout",
     "output_type": "stream",
     "text": [
      "10\n"
     ]
    }
   ],
   "source": [
    "stacked_train_tensors_mean = []\n",
    "for i in range(len(train_tensors)):\n",
    "    stacked_train_tensors_mean.append((torch.stack(train_tensors[i]).float()/255).mean(0))\n",
    "    #print(i)\n",
    "print(len(stacked_train_tensors_mean))"
   ]
  },
  {
   "cell_type": "code",
   "execution_count": 15,
   "id": "e488804b",
   "metadata": {
    "execution": {
     "iopub.execute_input": "2022-08-28T21:14:00.478605Z",
     "iopub.status.busy": "2022-08-28T21:14:00.477941Z",
     "iopub.status.idle": "2022-08-28T21:14:00.493974Z",
     "shell.execute_reply": "2022-08-28T21:14:00.492625Z"
    },
    "papermill": {
     "duration": 0.041317,
     "end_time": "2022-08-28T21:14:00.497856",
     "exception": false,
     "start_time": "2022-08-28T21:14:00.456539",
     "status": "completed"
    },
    "tags": []
   },
   "outputs": [
    {
     "name": "stdout",
     "output_type": "stream",
     "text": [
      "10\n",
      "torch.Size([300, 32, 32])\n"
     ]
    },
    {
     "data": {
      "text/plain": [
       "(None, None)"
      ]
     },
     "execution_count": 15,
     "metadata": {},
     "output_type": "execute_result"
    }
   ],
   "source": [
    "stacked_valid_tensors = []\n",
    "for i in range(len(valid_tensors)):\n",
    "    stacked_valid_tensors.append((torch.stack(valid_tensors[i]).float()/255))\n",
    "    #print(i)\n",
    "print(len(stacked_valid_tensors)), print(stacked_valid_tensors[0].shape)"
   ]
  },
  {
   "cell_type": "code",
   "execution_count": 16,
   "id": "a0ab386a",
   "metadata": {
    "execution": {
     "iopub.execute_input": "2022-08-28T21:14:00.541331Z",
     "iopub.status.busy": "2022-08-28T21:14:00.541042Z",
     "iopub.status.idle": "2022-08-28T21:14:00.547195Z",
     "shell.execute_reply": "2022-08-28T21:14:00.546145Z"
    },
    "papermill": {
     "duration": 0.030454,
     "end_time": "2022-08-28T21:14:00.550113",
     "exception": false,
     "start_time": "2022-08-28T21:14:00.519659",
     "status": "completed"
    },
    "tags": []
   },
   "outputs": [
    {
     "data": {
      "text/plain": [
       "torch.Size([32, 32])"
      ]
     },
     "execution_count": 16,
     "metadata": {},
     "output_type": "execute_result"
    }
   ],
   "source": [
    "stacked_train_tensors_mean[0].shape"
   ]
  },
  {
   "cell_type": "markdown",
   "id": "738abcfb",
   "metadata": {
    "papermill": {
     "duration": 0.020378,
     "end_time": "2022-08-28T21:14:00.591917",
     "exception": false,
     "start_time": "2022-08-28T21:14:00.571539",
     "status": "completed"
    },
    "tags": []
   },
   "source": [
    "### Plot one of the mean images, it will be blurry as it is a mean value"
   ]
  },
  {
   "cell_type": "code",
   "execution_count": 17,
   "id": "f134c300",
   "metadata": {
    "execution": {
     "iopub.execute_input": "2022-08-28T21:14:00.635612Z",
     "iopub.status.busy": "2022-08-28T21:14:00.635031Z",
     "iopub.status.idle": "2022-08-28T21:14:00.705134Z",
     "shell.execute_reply": "2022-08-28T21:14:00.703924Z"
    },
    "papermill": {
     "duration": 0.094948,
     "end_time": "2022-08-28T21:14:00.708315",
     "exception": false,
     "start_time": "2022-08-28T21:14:00.613367",
     "status": "completed"
    },
    "tags": []
   },
   "outputs": [
    {
     "data": {
      "text/plain": [
       "<AxesSubplot:>"
      ]
     },
     "execution_count": 17,
     "metadata": {},
     "output_type": "execute_result"
    },
    {
     "data": {
      "image/png": "[encoded data removed]",
      "text/plain": [
       "<Figure size 72x72 with 1 Axes>"
      ]
     },
     "metadata": {
      "needs_background": "light"
     },
     "output_type": "display_data"
    }
   ],
   "source": [
    "show_image(stacked_train_tensors_mean[4])"
   ]
  },
  {
   "cell_type": "code",
   "execution_count": 18,
   "id": "ecc7f767",
   "metadata": {
    "execution": {
     "iopub.execute_input": "2022-08-28T21:14:00.812012Z",
     "iopub.status.busy": "2022-08-28T21:14:00.811673Z",
     "iopub.status.idle": "2022-08-28T21:14:00.868619Z",
     "shell.execute_reply": "2022-08-28T21:14:00.867415Z"
    },
    "papermill": {
     "duration": 0.104782,
     "end_time": "2022-08-28T21:14:00.871001",
     "exception": false,
     "start_time": "2022-08-28T21:14:00.766219",
     "status": "completed"
    },
    "tags": []
   },
   "outputs": [
    {
     "data": {
      "text/plain": [
       "<AxesSubplot:>"
      ]
     },
     "execution_count": 18,
     "metadata": {},
     "output_type": "execute_result"
    },
    {
     "data": {
      "image/png": "[encoded data removed]",
      "text/plain": [
       "<Figure size 72x72 with 1 Axes>"
      ]
     },
     "metadata": {
      "needs_background": "light"
     },
     "output_type": "display_data"
    }
   ],
   "source": [
    "# Print a random digit\n",
    "show_image(train_tensors[4][0])"
   ]
  },
  {
   "cell_type": "markdown",
   "id": "bdc6cf2a",
   "metadata": {
    "papermill": {
     "duration": 0.045397,
     "end_time": "2022-08-28T21:14:00.976496",
     "exception": false,
     "start_time": "2022-08-28T21:14:00.931099",
     "status": "completed"
    },
    "tags": []
   },
   "source": [
    "### Take a sample image and fine the distance between the image from its respective mean image i.e. compare a 4 with the mean 4.\n",
    "### Here, Root mean square and mean absolute errors are calculated"
   ]
  },
  {
   "cell_type": "code",
   "execution_count": 19,
   "id": "b2b92714",
   "metadata": {
    "execution": {
     "iopub.execute_input": "2022-08-28T21:14:01.020213Z",
     "iopub.status.busy": "2022-08-28T21:14:01.019905Z",
     "iopub.status.idle": "2022-08-28T21:14:01.061202Z",
     "shell.execute_reply": "2022-08-28T21:14:01.060237Z"
    },
    "papermill": {
     "duration": 0.065709,
     "end_time": "2022-08-28T21:14:01.063217",
     "exception": false,
     "start_time": "2022-08-28T21:14:00.997508",
     "status": "completed"
    },
    "tags": []
   },
   "outputs": [
    {
     "data": {
      "text/plain": [
       "(tensor(49.9770), tensor(104.4630))"
      ]
     },
     "execution_count": 19,
     "metadata": {},
     "output_type": "execute_result"
    }
   ],
   "source": [
    "dist_4_abs = (train_tensors[4][0] - stacked_train_tensors_mean[4]).abs().mean()\n",
    "dist_4_sqr = ((train_tensors[4][0] - stacked_train_tensors_mean[4])**2).mean().sqrt()\n",
    "\n",
    "dist_4_abs, dist_4_sqr"
   ]
  },
  {
   "cell_type": "code",
   "execution_count": 20,
   "id": "4b56488a",
   "metadata": {
    "execution": {
     "iopub.execute_input": "2022-08-28T21:14:01.108103Z",
     "iopub.status.busy": "2022-08-28T21:14:01.107206Z",
     "iopub.status.idle": "2022-08-28T21:14:01.116972Z",
     "shell.execute_reply": "2022-08-28T21:14:01.115931Z"
    },
    "papermill": {
     "duration": 0.034509,
     "end_time": "2022-08-28T21:14:01.119184",
     "exception": false,
     "start_time": "2022-08-28T21:14:01.084675",
     "status": "completed"
    },
    "tags": []
   },
   "outputs": [
    {
     "data": {
      "text/plain": [
       "(tensor(67.0818), tensor(122.1938))"
      ]
     },
     "execution_count": 20,
     "metadata": {},
     "output_type": "execute_result"
    }
   ],
   "source": [
    "dist_3_abs = (train_tensors[3][0] - stacked_train_tensors_mean[4]).abs().mean()\n",
    "dist_3_sqr = ((train_tensors[3][0] - stacked_train_tensors_mean[4])**2).mean().sqrt()\n",
    "\n",
    "dist_3_abs, dist_3_sqr"
   ]
  },
  {
   "cell_type": "markdown",
   "id": "738d5d78",
   "metadata": {
    "papermill": {
     "duration": 0.021231,
     "end_time": "2022-08-28T21:14:01.161821",
     "exception": false,
     "start_time": "2022-08-28T21:14:01.140590",
     "status": "completed"
    },
    "tags": []
   },
   "source": [
    "### The error checks out i.e. the distance between mean 4 and 4 is less than mean 4 and 3(or any other number). Let's investigate it more"
   ]
  },
  {
   "cell_type": "markdown",
   "id": "ab3799e6",
   "metadata": {
    "papermill": {
     "duration": 0.021258,
     "end_time": "2022-08-28T21:14:01.204342",
     "exception": false,
     "start_time": "2022-08-28T21:14:01.183084",
     "status": "completed"
    },
    "tags": []
   },
   "source": [
    "### Let's define Error functions"
   ]
  },
  {
   "cell_type": "code",
   "execution_count": 21,
   "id": "2bb648bf",
   "metadata": {
    "execution": {
     "iopub.execute_input": "2022-08-28T21:14:01.248269Z",
     "iopub.status.busy": "2022-08-28T21:14:01.247956Z",
     "iopub.status.idle": "2022-08-28T21:14:01.252909Z",
     "shell.execute_reply": "2022-08-28T21:14:01.251874Z"
    },
    "papermill": {
     "duration": 0.029496,
     "end_time": "2022-08-28T21:14:01.255084",
     "exception": false,
     "start_time": "2022-08-28T21:14:01.225588",
     "status": "completed"
    },
    "tags": []
   },
   "outputs": [],
   "source": [
    "def rms_error(a,b):\n",
    "    return ((a-b)**2).mean((-1, -2)).sqrt()\n",
    "    "
   ]
  },
  {
   "cell_type": "markdown",
   "id": "41e23b21",
   "metadata": {
    "papermill": {
     "duration": 0.021229,
     "end_time": "2022-08-28T21:14:01.297901",
     "exception": false,
     "start_time": "2022-08-28T21:14:01.276672",
     "status": "completed"
    },
    "tags": []
   },
   "source": [
    "#### RMS error"
   ]
  },
  {
   "cell_type": "code",
   "execution_count": 22,
   "id": "ce49adb2",
   "metadata": {
    "execution": {
     "iopub.execute_input": "2022-08-28T21:14:01.342503Z",
     "iopub.status.busy": "2022-08-28T21:14:01.342182Z",
     "iopub.status.idle": "2022-08-28T21:14:01.351569Z",
     "shell.execute_reply": "2022-08-28T21:14:01.350526Z"
    },
    "papermill": {
     "duration": 0.034716,
     "end_time": "2022-08-28T21:14:01.354672",
     "exception": false,
     "start_time": "2022-08-28T21:14:01.319956",
     "status": "completed"
    },
    "tags": []
   },
   "outputs": [
    {
     "name": "stdout",
     "output_type": "stream",
     "text": [
      "tensor(104.5548)\n",
      "tensor(104.4847)\n",
      "tensor(104.5112)\n",
      "tensor(104.4911)\n",
      "tensor(104.4630)\n",
      "tensor(104.4989)\n",
      "tensor(104.5112)\n",
      "tensor(104.4960)\n",
      "tensor(104.5195)\n",
      "tensor(104.4974)\n"
     ]
    }
   ],
   "source": [
    "for i in range(10):\n",
    "    err =  rms_error(train_tensors[4][0],stacked_train_tensors_mean[i])\n",
    "    print(err)\n",
    "        "
   ]
  },
  {
   "cell_type": "markdown",
   "id": "06dc67c4",
   "metadata": {
    "papermill": {
     "duration": 0.042728,
     "end_time": "2022-08-28T21:14:01.419390",
     "exception": false,
     "start_time": "2022-08-28T21:14:01.376662",
     "status": "completed"
    },
    "tags": []
   },
   "source": [
    "### L1 error"
   ]
  },
  {
   "cell_type": "code",
   "execution_count": 23,
   "id": "b1208e99",
   "metadata": {
    "execution": {
     "iopub.execute_input": "2022-08-28T21:14:01.506396Z",
     "iopub.status.busy": "2022-08-28T21:14:01.505904Z",
     "iopub.status.idle": "2022-08-28T21:14:01.521462Z",
     "shell.execute_reply": "2022-08-28T21:14:01.520410Z"
    },
    "papermill": {
     "duration": 0.064593,
     "end_time": "2022-08-28T21:14:01.524160",
     "exception": false,
     "start_time": "2022-08-28T21:14:01.459567",
     "status": "completed"
    },
    "tags": []
   },
   "outputs": [
    {
     "name": "stdout",
     "output_type": "stream",
     "text": [
      "tensor(50.0465)\n",
      "tensor(50.0393)\n",
      "tensor(50.0182)\n",
      "tensor(50.0276)\n",
      "tensor(49.9770)\n",
      "tensor(50.0150)\n",
      "tensor(50.0189)\n",
      "tensor(50.0297)\n",
      "tensor(50.0313)\n",
      "tensor(50.0543)\n"
     ]
    }
   ],
   "source": [
    "\n",
    "for i in range(10):\n",
    "    print(F.l1_loss(train_tensors[4][0].float(),stacked_train_tensors_mean[i]))"
   ]
  },
  {
   "cell_type": "markdown",
   "id": "4dd74141",
   "metadata": {
    "papermill": {
     "duration": 0.036917,
     "end_time": "2022-08-28T21:14:01.600222",
     "exception": false,
     "start_time": "2022-08-28T21:14:01.563305",
     "status": "completed"
    },
    "tags": []
   },
   "source": [
    "### MSE/L2 error"
   ]
  },
  {
   "cell_type": "code",
   "execution_count": 24,
   "id": "e6586136",
   "metadata": {
    "execution": {
     "iopub.execute_input": "2022-08-28T21:14:01.671999Z",
     "iopub.status.busy": "2022-08-28T21:14:01.671592Z",
     "iopub.status.idle": "2022-08-28T21:14:01.682549Z",
     "shell.execute_reply": "2022-08-28T21:14:01.680713Z"
    },
    "papermill": {
     "duration": 0.049907,
     "end_time": "2022-08-28T21:14:01.685244",
     "exception": false,
     "start_time": "2022-08-28T21:14:01.635337",
     "status": "completed"
    },
    "tags": []
   },
   "outputs": [
    {
     "name": "stdout",
     "output_type": "stream",
     "text": [
      "tensor(10931.7139)\n",
      "tensor(10917.0586)\n",
      "tensor(10922.5928)\n",
      "tensor(10918.3809)\n",
      "tensor(10912.5215)\n",
      "tensor(10920.0205)\n",
      "tensor(10922.5967)\n",
      "tensor(10919.4229)\n",
      "tensor(10924.3340)\n",
      "tensor(10919.7129)\n"
     ]
    }
   ],
   "source": [
    "for i in range(10):\n",
    "    print(F.mse_loss(train_tensors[4][0].float(),stacked_train_tensors_mean[i]))"
   ]
  },
  {
   "cell_type": "markdown",
   "id": "0afa9759",
   "metadata": {
    "papermill": {
     "duration": 0.033225,
     "end_time": "2022-08-28T21:14:01.751588",
     "exception": false,
     "start_time": "2022-08-28T21:14:01.718363",
     "status": "completed"
    },
    "tags": []
   },
   "source": [
    ">  ### _All the error functions have lowest error values for the distance between mean digits and sample image - train_tensors[4][0] which is a 4_"
   ]
  },
  {
   "cell_type": "markdown",
   "id": "a29fd4a1",
   "metadata": {
    "papermill": {
     "duration": 0.033357,
     "end_time": "2022-08-28T21:14:01.818138",
     "exception": false,
     "start_time": "2022-08-28T21:14:01.784781",
     "status": "completed"
    },
    "tags": []
   },
   "source": [
    "### Broadcasting happens here, despite different shapes of the two tensors, the results are calculated\n",
    "\n",
    "### All tensors in the validation set for a particular digit will be compared against the mean digit"
   ]
  },
  {
   "cell_type": "code",
   "execution_count": 25,
   "id": "76dff75b",
   "metadata": {
    "execution": {
     "iopub.execute_input": "2022-08-28T21:14:01.885717Z",
     "iopub.status.busy": "2022-08-28T21:14:01.885278Z",
     "iopub.status.idle": "2022-08-28T21:14:01.899751Z",
     "shell.execute_reply": "2022-08-28T21:14:01.898313Z"
    },
    "papermill": {
     "duration": 0.051085,
     "end_time": "2022-08-28T21:14:01.902118",
     "exception": false,
     "start_time": "2022-08-28T21:14:01.851033",
     "status": "completed"
    },
    "tags": []
   },
   "outputs": [
    {
     "name": "stdout",
     "output_type": "stream",
     "text": [
      "torch.Size([300, 32, 32])\n",
      "torch.Size([32, 32])\n"
     ]
    },
    {
     "data": {
      "text/plain": [
       "(torch.Size([300]),\n",
       " tensor([0.3021, 0.3300, 0.2755, 0.2987, 0.3047, 0.3128, 0.3670, 0.3253, 0.3164, 0.3172, 0.3009, 0.3079, 0.3204, 0.2997, 0.2655]))"
      ]
     },
     "execution_count": 25,
     "metadata": {},
     "output_type": "execute_result"
    }
   ],
   "source": [
    "\n",
    "\n",
    "print(stacked_valid_tensors[4].shape), print(stacked_train_tensors_mean[4].shape)\n",
    "error = rms_error(stacked_valid_tensors[4], stacked_train_tensors_mean[4])\n",
    "error.shape, error[0:15]"
   ]
  },
  {
   "cell_type": "code",
   "execution_count": 26,
   "id": "629b49d4",
   "metadata": {
    "execution": {
     "iopub.execute_input": "2022-08-28T21:14:01.970923Z",
     "iopub.status.busy": "2022-08-28T21:14:01.970583Z",
     "iopub.status.idle": "2022-08-28T21:14:01.977358Z",
     "shell.execute_reply": "2022-08-28T21:14:01.975822Z"
    },
    "papermill": {
     "duration": 0.043487,
     "end_time": "2022-08-28T21:14:01.979538",
     "exception": false,
     "start_time": "2022-08-28T21:14:01.936051",
     "status": "completed"
    },
    "tags": []
   },
   "outputs": [],
   "source": [
    "\n",
    "def predict_input(input_tensor):\n",
    "    errors_in_pred = []\n",
    "   # errors = rms_error(input_tensor, stacked_train_tensors_mean[x])\n",
    "    for i in range(10):\n",
    "        errors = rms_error(input_tensor, stacked_train_tensors_mean[i])\n",
    "        errors_in_pred.append(errors)\n",
    "    #return torch.argmin(torch.stack(errors_in_pred), 0)\n",
    "    # across the first axis, 0 specifies the axis\n",
    "    return torch.argmin(torch.stack(errors_in_pred), 0)"
   ]
  },
  {
   "cell_type": "code",
   "execution_count": 27,
   "id": "6368f83d",
   "metadata": {
    "execution": {
     "iopub.execute_input": "2022-08-28T21:14:02.041408Z",
     "iopub.status.busy": "2022-08-28T21:14:02.041094Z",
     "iopub.status.idle": "2022-08-28T21:14:02.054688Z",
     "shell.execute_reply": "2022-08-28T21:14:02.053671Z"
    },
    "papermill": {
     "duration": 0.038443,
     "end_time": "2022-08-28T21:14:02.056913",
     "exception": false,
     "start_time": "2022-08-28T21:14:02.018470",
     "status": "completed"
    },
    "tags": []
   },
   "outputs": [
    {
     "data": {
      "text/plain": [
       "(tensor([9, 9, 9, 9, 6, 9, 9, 9, 9, 9, 9, 9, 9, 6, 9, 9, 9, 9, 9, 9, 9, 9, 9, 9, 9, 9, 9, 9, 1, 9, 9, 9, 9, 9, 9, 9, 9, 9, 9, 9, 9, 9, 9, 9, 9, 9, 0, 1, 9, 0, 9, 9, 9, 6, 9, 9, 9, 9, 9, 9, 8, 9, 9, 9,\n",
       "         9, 9, 9, 9, 8, 9, 9, 9, 9, 9, 9, 6, 6, 9, 9, 9, 9, 9, 9, 9, 6, 9, 9, 9, 1, 9, 9, 9, 9, 9, 8, 9, 9, 6, 9, 9, 9, 9, 9, 9, 1, 9, 9, 0, 9, 9, 9, 9, 9, 9, 9, 9, 9, 0, 9, 9, 9, 9, 9, 9, 9, 9, 1, 9,\n",
       "         9, 9, 9, 1, 9, 9, 9, 9, 9, 9, 9, 4, 9, 9, 9, 9, 9, 9, 9, 9, 9, 9, 9, 9, 9, 9, 9, 2, 9, 9, 9, 9, 9, 9, 9, 9, 9, 9, 9, 9, 9, 9, 9, 9, 9, 9, 9, 9, 9, 9, 9, 9, 9, 9, 9, 9, 9, 9, 9, 9, 9, 9, 9, 9,\n",
       "         9, 6, 9, 9, 9, 9, 9, 9, 9, 9, 9, 9, 0, 9, 9, 8, 9, 9, 9, 9, 9, 9, 9, 9, 9, 9, 9, 4, 9, 4, 9, 9, 9, 9, 9, 9, 9, 9, 9, 9, 9, 9, 9, 9, 9, 9, 9, 9, 9, 9, 9, 9, 9, 9, 9, 5, 9, 9, 9, 1, 9, 9, 9, 9,\n",
       "         6, 8, 0, 9, 9, 9, 9, 9, 9, 9, 9, 9, 9, 9, 9, 9, 9, 9, 9, 9, 9, 9, 9, 9, 9, 9, 4, 9, 9, 9, 9, 9, 9, 9, 9, 9, 9, 0, 9, 9, 9, 9, 1, 9]),\n",
       " torch.Size([300]))"
      ]
     },
     "execution_count": 27,
     "metadata": {},
     "output_type": "execute_result"
    }
   ],
   "source": [
    "y = predict_input(stacked_valid_tensors[9])\n",
    "y, y.shape"
   ]
  },
  {
   "cell_type": "code",
   "execution_count": 28,
   "id": "fc7053a8",
   "metadata": {
    "execution": {
     "iopub.execute_input": "2022-08-28T21:14:02.102904Z",
     "iopub.status.busy": "2022-08-28T21:14:02.102113Z",
     "iopub.status.idle": "2022-08-28T21:14:02.109642Z",
     "shell.execute_reply": "2022-08-28T21:14:02.108359Z"
    },
    "papermill": {
     "duration": 0.032764,
     "end_time": "2022-08-28T21:14:02.111935",
     "exception": false,
     "start_time": "2022-08-28T21:14:02.079171",
     "status": "completed"
    },
    "tags": []
   },
   "outputs": [
    {
     "data": {
      "text/plain": [
       "tensor(0.8833)"
      ]
     },
     "execution_count": 28,
     "metadata": {},
     "output_type": "execute_result"
    }
   ],
   "source": [
    "(y == 9).float().mean()"
   ]
  },
  {
   "cell_type": "code",
   "execution_count": 29,
   "id": "b5d54578",
   "metadata": {
    "execution": {
     "iopub.execute_input": "2022-08-28T21:14:02.158546Z",
     "iopub.status.busy": "2022-08-28T21:14:02.157746Z",
     "iopub.status.idle": "2022-08-28T21:14:02.200926Z",
     "shell.execute_reply": "2022-08-28T21:14:02.200076Z"
    },
    "papermill": {
     "duration": 0.068769,
     "end_time": "2022-08-28T21:14:02.203068",
     "exception": false,
     "start_time": "2022-08-28T21:14:02.134299",
     "status": "completed"
    },
    "tags": []
   },
   "outputs": [
    {
     "data": {
      "text/plain": [
       "[tensor(0.9667),\n",
       " tensor(0.9033),\n",
       " tensor(0.7300),\n",
       " tensor(0.5867),\n",
       " tensor(0.9267),\n",
       " tensor(0.7433),\n",
       " tensor(0.8567),\n",
       " tensor(0.7900),\n",
       " tensor(0.8767),\n",
       " tensor(0.8833)]"
      ]
     },
     "execution_count": 29,
     "metadata": {},
     "output_type": "execute_result"
    }
   ],
   "source": [
    "accuracies = []\n",
    "for i in range(10):\n",
    "    #print(i)\n",
    "    preds = predict_input(stacked_valid_tensors[i])\n",
    "    acc = (preds == i).float().mean()\n",
    "    accuracies.append(acc)\n",
    "    #print(preds)\n",
    "    #pred_e = torch.argmin(err, 0) \n",
    "   # print(preds)\n",
    "    #accuracies.append((pred_e == i).float().mean())\n",
    "    \n",
    "accuracies"
   ]
  },
  {
   "cell_type": "code",
   "execution_count": 30,
   "id": "07db051c",
   "metadata": {
    "execution": {
     "iopub.execute_input": "2022-08-28T21:14:02.251258Z",
     "iopub.status.busy": "2022-08-28T21:14:02.249623Z",
     "iopub.status.idle": "2022-08-28T21:14:02.258002Z",
     "shell.execute_reply": "2022-08-28T21:14:02.257092Z"
    },
    "papermill": {
     "duration": 0.033975,
     "end_time": "2022-08-28T21:14:02.260002",
     "exception": false,
     "start_time": "2022-08-28T21:14:02.226027",
     "status": "completed"
    },
    "tags": []
   },
   "outputs": [
    {
     "name": "stdout",
     "output_type": "stream",
     "text": [
      "baseline model accuracy: tensor(0.8263)\n"
     ]
    }
   ],
   "source": [
    "print('baseline model accuracy:', torch.stack(accuracies).mean())"
   ]
  },
  {
   "cell_type": "markdown",
   "id": "71c30b0e",
   "metadata": {
    "papermill": {
     "duration": 0.022174,
     "end_time": "2022-08-28T21:14:02.305014",
     "exception": false,
     "start_time": "2022-08-28T21:14:02.282840",
     "status": "completed"
    },
    "tags": []
   },
   "source": [
    "### 82% baseline accuracy, let's try to beat that"
   ]
  },
  {
   "cell_type": "markdown",
   "id": "dadf3b85",
   "metadata": {
    "papermill": {
     "duration": 0.022154,
     "end_time": "2022-08-28T21:14:02.349798",
     "exception": false,
     "start_time": "2022-08-28T21:14:02.327644",
     "status": "completed"
    },
    "tags": []
   },
   "source": [
    "# Prepare for Stochastic gradient descent"
   ]
  },
  {
   "cell_type": "code",
   "execution_count": 31,
   "id": "3f73b681",
   "metadata": {
    "execution": {
     "iopub.execute_input": "2022-08-28T21:14:02.396521Z",
     "iopub.status.busy": "2022-08-28T21:14:02.395640Z",
     "iopub.status.idle": "2022-08-28T21:14:02.402329Z",
     "shell.execute_reply": "2022-08-28T21:14:02.401327Z"
    },
    "papermill": {
     "duration": 0.033087,
     "end_time": "2022-08-28T21:14:02.404710",
     "exception": false,
     "start_time": "2022-08-28T21:14:02.371623",
     "status": "completed"
    },
    "tags": []
   },
   "outputs": [
    {
     "data": {
      "text/plain": [
       "torch.Size([32, 32])"
      ]
     },
     "execution_count": 31,
     "metadata": {},
     "output_type": "execute_result"
    }
   ],
   "source": [
    "stacked_train_tensors[0][0].shape # one image from digit 0"
   ]
  },
  {
   "cell_type": "markdown",
   "id": "a1576bfc",
   "metadata": {
    "papermill": {
     "duration": 0.022491,
     "end_time": "2022-08-28T21:14:02.449317",
     "exception": false,
     "start_time": "2022-08-28T21:14:02.426826",
     "status": "completed"
    },
    "tags": []
   },
   "source": [
    "### Entire data in row column format"
   ]
  },
  {
   "cell_type": "code",
   "execution_count": 32,
   "id": "1eec3011",
   "metadata": {
    "execution": {
     "iopub.execute_input": "2022-08-28T21:14:02.495337Z",
     "iopub.status.busy": "2022-08-28T21:14:02.494743Z",
     "iopub.status.idle": "2022-08-28T21:14:02.548349Z",
     "shell.execute_reply": "2022-08-28T21:14:02.547352Z"
    },
    "papermill": {
     "duration": 0.078914,
     "end_time": "2022-08-28T21:14:02.550572",
     "exception": false,
     "start_time": "2022-08-28T21:14:02.471658",
     "status": "completed"
    },
    "tags": []
   },
   "outputs": [
    {
     "data": {
      "text/plain": [
       "torch.Size([17000, 1024])"
      ]
     },
     "execution_count": 32,
     "metadata": {},
     "output_type": "execute_result"
    }
   ],
   "source": [
    "lst = [stacked_train_tensors[i] for i in range(10)]\n",
    "# one row represents one image. image is flattened to 32*32 = 1024 pixels\n",
    "train_x = torch.cat(lst).view(-1, 32*32) \n",
    "train_x.shape"
   ]
  },
  {
   "cell_type": "code",
   "execution_count": 33,
   "id": "2cd23b6f",
   "metadata": {
    "execution": {
     "iopub.execute_input": "2022-08-28T21:14:02.597408Z",
     "iopub.status.busy": "2022-08-28T21:14:02.595935Z",
     "iopub.status.idle": "2022-08-28T21:14:02.602677Z",
     "shell.execute_reply": "2022-08-28T21:14:02.601827Z"
    },
    "papermill": {
     "duration": 0.032099,
     "end_time": "2022-08-28T21:14:02.604963",
     "exception": false,
     "start_time": "2022-08-28T21:14:02.572864",
     "status": "completed"
    },
    "tags": []
   },
   "outputs": [],
   "source": [
    "#train_y = tensor([1]*len(threes) + [0]*len(sevens)).unsqueeze(1)\n",
    "y_tensor = torch.tensor([])\n",
    "for i in range(10):\n",
    "    a = tensor(np.full(len(stacked_train_tensors[i]),i))\n",
    "    y_tensor = torch.cat([y_tensor, a])    \n",
    "    \n",
    "y_tensor = y_tensor.unsqueeze(1)  "
   ]
  },
  {
   "cell_type": "markdown",
   "id": "e99b0a2a",
   "metadata": {
    "papermill": {
     "duration": 0.022091,
     "end_time": "2022-08-28T21:14:02.649524",
     "exception": false,
     "start_time": "2022-08-28T21:14:02.627433",
     "status": "completed"
    },
    "tags": []
   },
   "source": [
    "#### PyTorch won't accept a FloatTensor as categorical target, so you've to cast your tensor to LongTensor"
   ]
  },
  {
   "cell_type": "code",
   "execution_count": 34,
   "id": "b3aa5fcc",
   "metadata": {
    "execution": {
     "iopub.execute_input": "2022-08-28T21:14:02.696114Z",
     "iopub.status.busy": "2022-08-28T21:14:02.694480Z",
     "iopub.status.idle": "2022-08-28T21:14:02.702235Z",
     "shell.execute_reply": "2022-08-28T21:14:02.701285Z"
    },
    "papermill": {
     "duration": 0.032766,
     "end_time": "2022-08-28T21:14:02.704183",
     "exception": false,
     "start_time": "2022-08-28T21:14:02.671417",
     "status": "completed"
    },
    "tags": []
   },
   "outputs": [
    {
     "data": {
      "text/plain": [
       "tensor([[0.],\n",
       "        [0.],\n",
       "        [0.],\n",
       "        ...,\n",
       "        [9.],\n",
       "        [9.],\n",
       "        [9.]])"
      ]
     },
     "execution_count": 34,
     "metadata": {},
     "output_type": "execute_result"
    }
   ],
   "source": [
    "y_tensor\n"
   ]
  },
  {
   "cell_type": "code",
   "execution_count": 35,
   "id": "7d5e79c3",
   "metadata": {
    "execution": {
     "iopub.execute_input": "2022-08-28T21:14:02.749839Z",
     "iopub.status.busy": "2022-08-28T21:14:02.749260Z",
     "iopub.status.idle": "2022-08-28T21:14:02.754143Z",
     "shell.execute_reply": "2022-08-28T21:14:02.753240Z"
    },
    "papermill": {
     "duration": 0.029691,
     "end_time": "2022-08-28T21:14:02.756065",
     "exception": false,
     "start_time": "2022-08-28T21:14:02.726374",
     "status": "completed"
    },
    "tags": []
   },
   "outputs": [],
   "source": [
    "y_tensor = y_tensor.type(torch.LongTensor)"
   ]
  },
  {
   "cell_type": "code",
   "execution_count": 36,
   "id": "d40007c6",
   "metadata": {
    "execution": {
     "iopub.execute_input": "2022-08-28T21:14:02.802776Z",
     "iopub.status.busy": "2022-08-28T21:14:02.802316Z",
     "iopub.status.idle": "2022-08-28T21:14:02.808465Z",
     "shell.execute_reply": "2022-08-28T21:14:02.807518Z"
    },
    "papermill": {
     "duration": 0.031953,
     "end_time": "2022-08-28T21:14:02.810318",
     "exception": false,
     "start_time": "2022-08-28T21:14:02.778365",
     "status": "completed"
    },
    "tags": []
   },
   "outputs": [
    {
     "data": {
      "text/plain": [
       "torch.Size([17000, 1])"
      ]
     },
     "execution_count": 36,
     "metadata": {},
     "output_type": "execute_result"
    }
   ],
   "source": [
    "y_tensor.shape"
   ]
  },
  {
   "cell_type": "markdown",
   "id": "a539d903",
   "metadata": {
    "papermill": {
     "duration": 0.022219,
     "end_time": "2022-08-28T21:14:02.854637",
     "exception": false,
     "start_time": "2022-08-28T21:14:02.832418",
     "status": "completed"
    },
    "tags": []
   },
   "source": [
    "### This is an important step, it will create tuples of input and output"
   ]
  },
  {
   "cell_type": "code",
   "execution_count": 37,
   "id": "1cdd855e",
   "metadata": {
    "execution": {
     "iopub.execute_input": "2022-08-28T21:14:02.902232Z",
     "iopub.status.busy": "2022-08-28T21:14:02.901331Z",
     "iopub.status.idle": "2022-08-28T21:14:03.068934Z",
     "shell.execute_reply": "2022-08-28T21:14:03.067929Z"
    },
    "papermill": {
     "duration": 0.194195,
     "end_time": "2022-08-28T21:14:03.071514",
     "exception": false,
     "start_time": "2022-08-28T21:14:02.877319",
     "status": "completed"
    },
    "tags": []
   },
   "outputs": [],
   "source": [
    "dset = list(zip(train_x,y_tensor))"
   ]
  },
  {
   "cell_type": "markdown",
   "id": "8c381573",
   "metadata": {
    "papermill": {
     "duration": 0.022715,
     "end_time": "2022-08-28T21:14:03.117546",
     "exception": false,
     "start_time": "2022-08-28T21:14:03.094831",
     "status": "completed"
    },
    "tags": []
   },
   "source": [
    "### Same processing for validation set"
   ]
  },
  {
   "cell_type": "code",
   "execution_count": 38,
   "id": "3b2c7ebd",
   "metadata": {
    "execution": {
     "iopub.execute_input": "2022-08-28T21:14:03.164996Z",
     "iopub.status.busy": "2022-08-28T21:14:03.164007Z",
     "iopub.status.idle": "2022-08-28T21:14:03.185141Z",
     "shell.execute_reply": "2022-08-28T21:14:03.184181Z"
    },
    "papermill": {
     "duration": 0.047109,
     "end_time": "2022-08-28T21:14:03.187268",
     "exception": false,
     "start_time": "2022-08-28T21:14:03.140159",
     "status": "completed"
    },
    "tags": []
   },
   "outputs": [],
   "source": [
    "valid_lst = [stacked_valid_tensors[i] for i in range(10)]\n",
    "# one row represents one image. image is flattened to 32*32 = 1024 pixels\n",
    "valid_x = torch.cat(valid_lst).view(-1, 32*32) \n",
    "valid_x.shape\n",
    "\n",
    "\n",
    "#train_y = tensor([1]*len(threes) + [0]*len(sevens)).unsqueeze(1)\n",
    "valid_y_tensor = torch.tensor([])\n",
    "for i in range(10):\n",
    "    a = tensor(np.full(len(stacked_valid_tensors[i]),i))\n",
    "    valid_y_tensor = torch.cat([valid_y_tensor, a])    \n",
    "    \n",
    "valid_y_tensor = valid_y_tensor.unsqueeze(1) \n",
    "\n",
    "valid_dset = list(zip(valid_x,valid_y_tensor))"
   ]
  },
  {
   "cell_type": "code",
   "execution_count": 39,
   "id": "a1039dfb",
   "metadata": {
    "execution": {
     "iopub.execute_input": "2022-08-28T21:14:03.235194Z",
     "iopub.status.busy": "2022-08-28T21:14:03.234335Z",
     "iopub.status.idle": "2022-08-28T21:14:03.240610Z",
     "shell.execute_reply": "2022-08-28T21:14:03.239686Z"
    },
    "papermill": {
     "duration": 0.031757,
     "end_time": "2022-08-28T21:14:03.242610",
     "exception": false,
     "start_time": "2022-08-28T21:14:03.210853",
     "status": "completed"
    },
    "tags": []
   },
   "outputs": [
    {
     "data": {
      "text/plain": [
       "torch.Size([3000, 1])"
      ]
     },
     "execution_count": 39,
     "metadata": {},
     "output_type": "execute_result"
    }
   ],
   "source": [
    "valid_y_tensor.shape"
   ]
  },
  {
   "cell_type": "markdown",
   "id": "fb9e4048",
   "metadata": {
    "papermill": {
     "duration": 0.022997,
     "end_time": "2022-08-28T21:14:03.288862",
     "exception": false,
     "start_time": "2022-08-28T21:14:03.265865",
     "status": "completed"
    },
    "tags": []
   },
   "source": [
    "> ## Testing a few things, ignore"
   ]
  },
  {
   "cell_type": "code",
   "execution_count": 40,
   "id": "dafee80b",
   "metadata": {
    "execution": {
     "iopub.execute_input": "2022-08-28T21:14:03.336486Z",
     "iopub.status.busy": "2022-08-28T21:14:03.335585Z",
     "iopub.status.idle": "2022-08-28T21:14:03.343747Z",
     "shell.execute_reply": "2022-08-28T21:14:03.342900Z"
    },
    "papermill": {
     "duration": 0.034389,
     "end_time": "2022-08-28T21:14:03.345896",
     "exception": false,
     "start_time": "2022-08-28T21:14:03.311507",
     "status": "completed"
    },
    "tags": []
   },
   "outputs": [],
   "source": [
    "def init_params(size, std=1.0): \n",
    "    return (torch.randn(size)*std).requires_grad_()\n",
    "\n",
    "weights = init_params((32*32,1))\n",
    "bias = init_params(1)\n"
   ]
  },
  {
   "cell_type": "code",
   "execution_count": 41,
   "id": "d20c3216",
   "metadata": {
    "execution": {
     "iopub.execute_input": "2022-08-28T21:14:03.394160Z",
     "iopub.status.busy": "2022-08-28T21:14:03.393838Z",
     "iopub.status.idle": "2022-08-28T21:14:03.399889Z",
     "shell.execute_reply": "2022-08-28T21:14:03.398923Z"
    },
    "papermill": {
     "duration": 0.032032,
     "end_time": "2022-08-28T21:14:03.401848",
     "exception": false,
     "start_time": "2022-08-28T21:14:03.369816",
     "status": "completed"
    },
    "tags": []
   },
   "outputs": [
    {
     "data": {
      "text/plain": [
       "(torch.Size([1024, 1]), torch.Size([1]))"
      ]
     },
     "execution_count": 41,
     "metadata": {},
     "output_type": "execute_result"
    }
   ],
   "source": [
    "weights.shape, bias.shape"
   ]
  },
  {
   "cell_type": "code",
   "execution_count": 42,
   "id": "6befaff0",
   "metadata": {
    "execution": {
     "iopub.execute_input": "2022-08-28T21:14:03.449627Z",
     "iopub.status.busy": "2022-08-28T21:14:03.448535Z",
     "iopub.status.idle": "2022-08-28T21:14:03.458488Z",
     "shell.execute_reply": "2022-08-28T21:14:03.457524Z"
    },
    "papermill": {
     "duration": 0.035719,
     "end_time": "2022-08-28T21:14:03.460530",
     "exception": false,
     "start_time": "2022-08-28T21:14:03.424811",
     "status": "completed"
    },
    "tags": []
   },
   "outputs": [
    {
     "data": {
      "text/plain": [
       "tensor([14.7308], grad_fn=<AddBackward0>)"
      ]
     },
     "execution_count": 42,
     "metadata": {},
     "output_type": "execute_result"
    }
   ],
   "source": [
    "# Prediction for one image\n",
    "\n",
    "(train_x[0]*weights.T).sum() + bias\n"
   ]
  },
  {
   "cell_type": "code",
   "execution_count": 43,
   "id": "2b7b5f92",
   "metadata": {
    "execution": {
     "iopub.execute_input": "2022-08-28T21:14:03.507490Z",
     "iopub.status.busy": "2022-08-28T21:14:03.507182Z",
     "iopub.status.idle": "2022-08-28T21:14:03.529725Z",
     "shell.execute_reply": "2022-08-28T21:14:03.528757Z"
    },
    "papermill": {
     "duration": 0.047877,
     "end_time": "2022-08-28T21:14:03.531717",
     "exception": false,
     "start_time": "2022-08-28T21:14:03.483840",
     "status": "completed"
    },
    "tags": []
   },
   "outputs": [
    {
     "data": {
      "text/plain": [
       "tensor([[ 14.7308],\n",
       "        [ 15.2412],\n",
       "        [ 12.4542],\n",
       "        ...,\n",
       "        [  7.2494],\n",
       "        [-17.0967],\n",
       "        [  6.3935]], grad_fn=<AddBackward0>)"
      ]
     },
     "execution_count": 43,
     "metadata": {},
     "output_type": "execute_result"
    }
   ],
   "source": [
    "# @ is for matrix multiplication \n",
    "def linear1(xb): \n",
    "    return xb@weights + bias\n",
    "\n",
    "preds = linear1(train_x)\n",
    "preds"
   ]
  },
  {
   "cell_type": "code",
   "execution_count": 44,
   "id": "e8442a05",
   "metadata": {
    "execution": {
     "iopub.execute_input": "2022-08-28T21:14:03.579096Z",
     "iopub.status.busy": "2022-08-28T21:14:03.578814Z",
     "iopub.status.idle": "2022-08-28T21:14:03.584316Z",
     "shell.execute_reply": "2022-08-28T21:14:03.583446Z"
    },
    "papermill": {
     "duration": 0.031266,
     "end_time": "2022-08-28T21:14:03.586458",
     "exception": false,
     "start_time": "2022-08-28T21:14:03.555192",
     "status": "completed"
    },
    "tags": []
   },
   "outputs": [
    {
     "data": {
      "text/plain": [
       "torch.Size([17000, 1024])"
      ]
     },
     "execution_count": 44,
     "metadata": {},
     "output_type": "execute_result"
    }
   ],
   "source": [
    "train_x.shape"
   ]
  },
  {
   "cell_type": "code",
   "execution_count": 45,
   "id": "64a01921",
   "metadata": {
    "execution": {
     "iopub.execute_input": "2022-08-28T21:14:03.633300Z",
     "iopub.status.busy": "2022-08-28T21:14:03.632536Z",
     "iopub.status.idle": "2022-08-28T21:14:03.638874Z",
     "shell.execute_reply": "2022-08-28T21:14:03.637895Z"
    },
    "papermill": {
     "duration": 0.031815,
     "end_time": "2022-08-28T21:14:03.640911",
     "exception": false,
     "start_time": "2022-08-28T21:14:03.609096",
     "status": "completed"
    },
    "tags": []
   },
   "outputs": [
    {
     "data": {
      "text/plain": [
       "torch.Size([17000, 1])"
      ]
     },
     "execution_count": 45,
     "metadata": {},
     "output_type": "execute_result"
    }
   ],
   "source": [
    "preds.shape"
   ]
  },
  {
   "cell_type": "markdown",
   "id": "46b06636",
   "metadata": {
    "papermill": {
     "duration": 0.02296,
     "end_time": "2022-08-28T21:14:03.688399",
     "exception": false,
     "start_time": "2022-08-28T21:14:03.665439",
     "status": "completed"
    },
    "tags": []
   },
   "source": [
    "> ## Testing ends here"
   ]
  },
  {
   "cell_type": "markdown",
   "id": "8b58fd7d",
   "metadata": {
    "papermill": {
     "duration": 0.023138,
     "end_time": "2022-08-28T21:14:03.735001",
     "exception": false,
     "start_time": "2022-08-28T21:14:03.711863",
     "status": "completed"
    },
    "tags": []
   },
   "source": [
    "# Let's build the Neural Net model"
   ]
  },
  {
   "cell_type": "markdown",
   "id": "700f3aa7",
   "metadata": {
    "papermill": {
     "duration": 0.022842,
     "end_time": "2022-08-28T21:14:03.780815",
     "exception": false,
     "start_time": "2022-08-28T21:14:03.757973",
     "status": "completed"
    },
    "tags": []
   },
   "source": [
    "## Dataloaders"
   ]
  },
  {
   "cell_type": "code",
   "execution_count": 46,
   "id": "afb0a649",
   "metadata": {
    "execution": {
     "iopub.execute_input": "2022-08-28T21:14:03.828178Z",
     "iopub.status.busy": "2022-08-28T21:14:03.827766Z",
     "iopub.status.idle": "2022-08-28T21:14:03.832749Z",
     "shell.execute_reply": "2022-08-28T21:14:03.831776Z"
    },
    "papermill": {
     "duration": 0.031113,
     "end_time": "2022-08-28T21:14:03.834705",
     "exception": false,
     "start_time": "2022-08-28T21:14:03.803592",
     "status": "completed"
    },
    "tags": []
   },
   "outputs": [],
   "source": [
    "dl_train = DataLoader(dset, batch_size=256, shuffle=True)\n",
    "dl_valid = DataLoader(valid_dset, batch_size=256)"
   ]
  },
  {
   "cell_type": "code",
   "execution_count": 47,
   "id": "997a2c88",
   "metadata": {
    "execution": {
     "iopub.execute_input": "2022-08-28T21:14:03.883690Z",
     "iopub.status.busy": "2022-08-28T21:14:03.882747Z",
     "iopub.status.idle": "2022-08-28T21:14:03.887597Z",
     "shell.execute_reply": "2022-08-28T21:14:03.886750Z"
    },
    "papermill": {
     "duration": 0.030943,
     "end_time": "2022-08-28T21:14:03.889615",
     "exception": false,
     "start_time": "2022-08-28T21:14:03.858672",
     "status": "completed"
    },
    "tags": []
   },
   "outputs": [],
   "source": [
    "dls = DataLoaders(dl_train, dl_valid)\n"
   ]
  },
  {
   "cell_type": "markdown",
   "id": "0faaa198",
   "metadata": {
    "papermill": {
     "duration": 0.022936,
     "end_time": "2022-08-28T21:14:03.935540",
     "exception": false,
     "start_time": "2022-08-28T21:14:03.912604",
     "status": "completed"
    },
    "tags": []
   },
   "source": [
    "#### 17000 train samples divided in 256 batches 17000/256 ~ 67"
   ]
  },
  {
   "cell_type": "code",
   "execution_count": 48,
   "id": "0491edaa",
   "metadata": {
    "execution": {
     "iopub.execute_input": "2022-08-28T21:14:03.984096Z",
     "iopub.status.busy": "2022-08-28T21:14:03.983210Z",
     "iopub.status.idle": "2022-08-28T21:14:03.989298Z",
     "shell.execute_reply": "2022-08-28T21:14:03.988412Z"
    },
    "papermill": {
     "duration": 0.032442,
     "end_time": "2022-08-28T21:14:03.991229",
     "exception": false,
     "start_time": "2022-08-28T21:14:03.958787",
     "status": "completed"
    },
    "tags": []
   },
   "outputs": [
    {
     "data": {
      "text/plain": [
       "67"
      ]
     },
     "execution_count": 48,
     "metadata": {},
     "output_type": "execute_result"
    }
   ],
   "source": [
    "len(dls.train)\n"
   ]
  },
  {
   "cell_type": "markdown",
   "id": "1db65ac7",
   "metadata": {
    "papermill": {
     "duration": 0.023512,
     "end_time": "2022-08-28T21:14:04.038254",
     "exception": false,
     "start_time": "2022-08-28T21:14:04.014742",
     "status": "completed"
    },
    "tags": []
   },
   "source": [
    "## Loss functions and Accuracy metric"
   ]
  },
  {
   "cell_type": "markdown",
   "id": "56587d34",
   "metadata": {
    "papermill": {
     "duration": 0.023015,
     "end_time": "2022-08-28T21:14:04.084436",
     "exception": false,
     "start_time": "2022-08-28T21:14:04.061421",
     "status": "completed"
    },
    "tags": []
   },
   "source": [
    "### Sigmoid transforms everything between 0 and 1, helps in taking probability"
   ]
  },
  {
   "cell_type": "code",
   "execution_count": 49,
   "id": "80ea71fd",
   "metadata": {
    "execution": {
     "iopub.execute_input": "2022-08-28T21:14:04.132606Z",
     "iopub.status.busy": "2022-08-28T21:14:04.131695Z",
     "iopub.status.idle": "2022-08-28T21:14:04.137015Z",
     "shell.execute_reply": "2022-08-28T21:14:04.136082Z"
    },
    "papermill": {
     "duration": 0.031277,
     "end_time": "2022-08-28T21:14:04.138982",
     "exception": false,
     "start_time": "2022-08-28T21:14:04.107705",
     "status": "completed"
    },
    "tags": []
   },
   "outputs": [],
   "source": [
    "def loss_func(predictions, targets):\n",
    "    predictions = predictions.sigmoid()\n",
    "    return torch.where(targets==1, 1-predictions, predictions).mean()"
   ]
  },
  {
   "cell_type": "code",
   "execution_count": 50,
   "id": "0b469fe1",
   "metadata": {
    "execution": {
     "iopub.execute_input": "2022-08-28T21:14:04.187309Z",
     "iopub.status.busy": "2022-08-28T21:14:04.186436Z",
     "iopub.status.idle": "2022-08-28T21:14:04.191788Z",
     "shell.execute_reply": "2022-08-28T21:14:04.190905Z"
    },
    "papermill": {
     "duration": 0.031182,
     "end_time": "2022-08-28T21:14:04.193720",
     "exception": false,
     "start_time": "2022-08-28T21:14:04.162538",
     "status": "completed"
    },
    "tags": []
   },
   "outputs": [],
   "source": [
    "def accuracy_metric(prediction, y):\n",
    "    idx = torch.argmax(prediction, axis=1) # returns the index of the highest value\n",
    "    return (idx==y.T).float().mean()"
   ]
  },
  {
   "cell_type": "markdown",
   "id": "21790b9e",
   "metadata": {
    "papermill": {
     "duration": 0.022848,
     "end_time": "2022-08-28T21:14:04.240022",
     "exception": false,
     "start_time": "2022-08-28T21:14:04.217174",
     "status": "completed"
    },
    "tags": []
   },
   "source": [
    "### Define the model. we'll use 30 neurons in the hidden layer. 1024 in input, 30 in hidden, 10 in output(because 10 classes are there (0 to 9))"
   ]
  },
  {
   "cell_type": "code",
   "execution_count": 51,
   "id": "da56b691",
   "metadata": {
    "execution": {
     "iopub.execute_input": "2022-08-28T21:14:04.288246Z",
     "iopub.status.busy": "2022-08-28T21:14:04.287950Z",
     "iopub.status.idle": "2022-08-28T21:14:04.294267Z",
     "shell.execute_reply": "2022-08-28T21:14:04.293427Z"
    },
    "papermill": {
     "duration": 0.032453,
     "end_time": "2022-08-28T21:14:04.296221",
     "exception": false,
     "start_time": "2022-08-28T21:14:04.263768",
     "status": "completed"
    },
    "tags": []
   },
   "outputs": [],
   "source": [
    "model = nn.Sequential(\n",
    "    nn.Linear(32*32, 30), # 1024 input features and 30 output features\n",
    "    nn.ReLU(),\n",
    "    nn.Linear(30,10),\n",
    ")\n"
   ]
  },
  {
   "cell_type": "code",
   "execution_count": 52,
   "id": "155e73e2",
   "metadata": {
    "execution": {
     "iopub.execute_input": "2022-08-28T21:14:04.343722Z",
     "iopub.status.busy": "2022-08-28T21:14:04.342948Z",
     "iopub.status.idle": "2022-08-28T21:14:04.348734Z",
     "shell.execute_reply": "2022-08-28T21:14:04.347863Z"
    },
    "papermill": {
     "duration": 0.031475,
     "end_time": "2022-08-28T21:14:04.350700",
     "exception": false,
     "start_time": "2022-08-28T21:14:04.319225",
     "status": "completed"
    },
    "tags": []
   },
   "outputs": [],
   "source": [
    "learn_loss_func = Learner(dls, model, loss_func=loss_func, opt_func=SGD, metrics=accuracy_metric)\n"
   ]
  },
  {
   "cell_type": "code",
   "execution_count": 53,
   "id": "f09a974f",
   "metadata": {
    "execution": {
     "iopub.execute_input": "2022-08-28T21:14:04.398620Z",
     "iopub.status.busy": "2022-08-28T21:14:04.397837Z",
     "iopub.status.idle": "2022-08-28T21:14:07.276716Z",
     "shell.execute_reply": "2022-08-28T21:14:07.275863Z"
    },
    "papermill": {
     "duration": 2.905002,
     "end_time": "2022-08-28T21:14:07.278766",
     "exception": false,
     "start_time": "2022-08-28T21:14:04.373764",
     "status": "completed"
    },
    "tags": []
   },
   "outputs": [
    {
     "data": {
      "text/html": [
       "\n",
       "<style>\n",
       "    /* Turns off some styling */\n",
       "    progress {\n",
       "        /* gets rid of default border in Firefox and Opera. */\n",
       "        border: none;\n",
       "        /* Needs to be in here for Safari polyfill so background images work as expected. */\n",
       "        background-size: auto;\n",
       "    }\n",
       "    progress:not([value]), progress:not([value])::-webkit-progress-bar {\n",
       "        background: repeating-linear-gradient(45deg, #7e7e7e, #7e7e7e 10px, #5c5c5c 10px, #5c5c5c 20px);\n",
       "    }\n",
       "    .progress-bar-interrupted, .progress-bar-interrupted::-webkit-progress-bar {\n",
       "        background: #F44336;\n",
       "    }\n",
       "</style>\n"
      ],
      "text/plain": [
       "<IPython.core.display.HTML object>"
      ]
     },
     "metadata": {},
     "output_type": "display_data"
    },
    {
     "data": {
      "text/html": [
       "<table border=\"1\" class=\"dataframe\">\n",
       "  <thead>\n",
       "    <tr style=\"text-align: left;\">\n",
       "      <th>epoch</th>\n",
       "      <th>train_loss</th>\n",
       "      <th>valid_loss</th>\n",
       "      <th>accuracy_metric</th>\n",
       "      <th>time</th>\n",
       "    </tr>\n",
       "  </thead>\n",
       "  <tbody>\n",
       "    <tr>\n",
       "      <td>0</td>\n",
       "      <td>0.214083</td>\n",
       "      <td>0.123915</td>\n",
       "      <td>0.091667</td>\n",
       "      <td>00:00</td>\n",
       "    </tr>\n",
       "    <tr>\n",
       "      <td>1</td>\n",
       "      <td>0.133767</td>\n",
       "      <td>0.108301</td>\n",
       "      <td>0.091000</td>\n",
       "      <td>00:00</td>\n",
       "    </tr>\n",
       "    <tr>\n",
       "      <td>2</td>\n",
       "      <td>0.113340</td>\n",
       "      <td>0.104889</td>\n",
       "      <td>0.090667</td>\n",
       "      <td>00:00</td>\n",
       "    </tr>\n",
       "    <tr>\n",
       "      <td>3</td>\n",
       "      <td>0.108106</td>\n",
       "      <td>0.103433</td>\n",
       "      <td>0.090667</td>\n",
       "      <td>00:00</td>\n",
       "    </tr>\n",
       "    <tr>\n",
       "      <td>4</td>\n",
       "      <td>0.103318</td>\n",
       "      <td>0.102633</td>\n",
       "      <td>0.090333</td>\n",
       "      <td>00:00</td>\n",
       "    </tr>\n",
       "    <tr>\n",
       "      <td>5</td>\n",
       "      <td>0.102949</td>\n",
       "      <td>0.102128</td>\n",
       "      <td>0.089667</td>\n",
       "      <td>00:00</td>\n",
       "    </tr>\n",
       "    <tr>\n",
       "      <td>6</td>\n",
       "      <td>0.102660</td>\n",
       "      <td>0.101779</td>\n",
       "      <td>0.090667</td>\n",
       "      <td>00:00</td>\n",
       "    </tr>\n",
       "    <tr>\n",
       "      <td>7</td>\n",
       "      <td>0.102763</td>\n",
       "      <td>0.101527</td>\n",
       "      <td>0.092333</td>\n",
       "      <td>00:00</td>\n",
       "    </tr>\n",
       "    <tr>\n",
       "      <td>8</td>\n",
       "      <td>0.102156</td>\n",
       "      <td>0.101335</td>\n",
       "      <td>0.095333</td>\n",
       "      <td>00:00</td>\n",
       "    </tr>\n",
       "    <tr>\n",
       "      <td>9</td>\n",
       "      <td>0.101422</td>\n",
       "      <td>0.101184</td>\n",
       "      <td>0.097000</td>\n",
       "      <td>00:00</td>\n",
       "    </tr>\n",
       "  </tbody>\n",
       "</table>"
      ],
      "text/plain": [
       "<IPython.core.display.HTML object>"
      ]
     },
     "metadata": {},
     "output_type": "display_data"
    }
   ],
   "source": [
    "learn_loss_func.fit(n_epoch=10, lr=0.1)\n"
   ]
  },
  {
   "cell_type": "markdown",
   "id": "8bcaf910",
   "metadata": {
    "papermill": {
     "duration": 0.022928,
     "end_time": "2022-08-28T21:14:07.325368",
     "exception": false,
     "start_time": "2022-08-28T21:14:07.302440",
     "status": "completed"
    },
    "tags": []
   },
   "source": [
    "> #### _This model didn't learn or what?_"
   ]
  },
  {
   "cell_type": "code",
   "execution_count": 54,
   "id": "b747acb1",
   "metadata": {
    "execution": {
     "iopub.execute_input": "2022-08-28T21:14:07.374755Z",
     "iopub.status.busy": "2022-08-28T21:14:07.374430Z",
     "iopub.status.idle": "2022-08-28T21:14:07.381075Z",
     "shell.execute_reply": "2022-08-28T21:14:07.379412Z"
    },
    "papermill": {
     "duration": 0.036425,
     "end_time": "2022-08-28T21:14:07.384951",
     "exception": false,
     "start_time": "2022-08-28T21:14:07.348526",
     "status": "completed"
    },
    "tags": []
   },
   "outputs": [],
   "source": [
    "def softmax_loss(prediction, y):\n",
    "    soft_m = torch.softmax(prediction, dim=1)\n",
    "    index = tensor(range(len(y)))\n",
    "    return soft_m[index.long(), y.long()].mean()"
   ]
  },
  {
   "cell_type": "code",
   "execution_count": 55,
   "id": "a2fafd0d",
   "metadata": {
    "execution": {
     "iopub.execute_input": "2022-08-28T21:14:07.433503Z",
     "iopub.status.busy": "2022-08-28T21:14:07.433193Z",
     "iopub.status.idle": "2022-08-28T21:14:07.438473Z",
     "shell.execute_reply": "2022-08-28T21:14:07.437453Z"
    },
    "papermill": {
     "duration": 0.031925,
     "end_time": "2022-08-28T21:14:07.440684",
     "exception": false,
     "start_time": "2022-08-28T21:14:07.408759",
     "status": "completed"
    },
    "tags": []
   },
   "outputs": [],
   "source": [
    "learn_softmax = Learner(dls, model, loss_func=softmax_loss, opt_func=SGD, metrics=accuracy_metric)\n"
   ]
  },
  {
   "cell_type": "code",
   "execution_count": 56,
   "id": "2ab5ba5a",
   "metadata": {
    "execution": {
     "iopub.execute_input": "2022-08-28T21:14:07.488073Z",
     "iopub.status.busy": "2022-08-28T21:14:07.487797Z",
     "iopub.status.idle": "2022-08-28T21:14:11.121075Z",
     "shell.execute_reply": "2022-08-28T21:14:11.119948Z"
    },
    "papermill": {
     "duration": 3.659427,
     "end_time": "2022-08-28T21:14:11.123217",
     "exception": false,
     "start_time": "2022-08-28T21:14:07.463790",
     "status": "completed"
    },
    "tags": []
   },
   "outputs": [
    {
     "data": {
      "text/html": [
       "\n",
       "<style>\n",
       "    /* Turns off some styling */\n",
       "    progress {\n",
       "        /* gets rid of default border in Firefox and Opera. */\n",
       "        border: none;\n",
       "        /* Needs to be in here for Safari polyfill so background images work as expected. */\n",
       "        background-size: auto;\n",
       "    }\n",
       "    progress:not([value]), progress:not([value])::-webkit-progress-bar {\n",
       "        background: repeating-linear-gradient(45deg, #7e7e7e, #7e7e7e 10px, #5c5c5c 10px, #5c5c5c 20px);\n",
       "    }\n",
       "    .progress-bar-interrupted, .progress-bar-interrupted::-webkit-progress-bar {\n",
       "        background: #F44336;\n",
       "    }\n",
       "</style>\n"
      ],
      "text/plain": [
       "<IPython.core.display.HTML object>"
      ]
     },
     "metadata": {},
     "output_type": "display_data"
    },
    {
     "data": {
      "text/html": [
       "<table border=\"1\" class=\"dataframe\">\n",
       "  <thead>\n",
       "    <tr style=\"text-align: left;\">\n",
       "      <th>epoch</th>\n",
       "      <th>train_loss</th>\n",
       "      <th>valid_loss</th>\n",
       "      <th>accuracy_metric</th>\n",
       "      <th>time</th>\n",
       "    </tr>\n",
       "  </thead>\n",
       "  <tbody>\n",
       "    <tr>\n",
       "      <td>0</td>\n",
       "      <td>0.100436</td>\n",
       "      <td>0.099736</td>\n",
       "      <td>0.098333</td>\n",
       "      <td>00:00</td>\n",
       "    </tr>\n",
       "    <tr>\n",
       "      <td>1</td>\n",
       "      <td>0.100521</td>\n",
       "      <td>0.099690</td>\n",
       "      <td>0.096000</td>\n",
       "      <td>00:00</td>\n",
       "    </tr>\n",
       "    <tr>\n",
       "      <td>2</td>\n",
       "      <td>0.100557</td>\n",
       "      <td>0.099638</td>\n",
       "      <td>0.100000</td>\n",
       "      <td>00:00</td>\n",
       "    </tr>\n",
       "    <tr>\n",
       "      <td>3</td>\n",
       "      <td>0.100653</td>\n",
       "      <td>0.099551</td>\n",
       "      <td>0.098667</td>\n",
       "      <td>00:00</td>\n",
       "    </tr>\n",
       "    <tr>\n",
       "      <td>4</td>\n",
       "      <td>0.100606</td>\n",
       "      <td>0.099459</td>\n",
       "      <td>0.100667</td>\n",
       "      <td>00:00</td>\n",
       "    </tr>\n",
       "    <tr>\n",
       "      <td>5</td>\n",
       "      <td>0.100483</td>\n",
       "      <td>0.099377</td>\n",
       "      <td>0.100333</td>\n",
       "      <td>00:00</td>\n",
       "    </tr>\n",
       "    <tr>\n",
       "      <td>6</td>\n",
       "      <td>0.100640</td>\n",
       "      <td>0.099186</td>\n",
       "      <td>0.099333</td>\n",
       "      <td>00:00</td>\n",
       "    </tr>\n",
       "    <tr>\n",
       "      <td>7</td>\n",
       "      <td>0.100577</td>\n",
       "      <td>0.099071</td>\n",
       "      <td>0.099000</td>\n",
       "      <td>00:00</td>\n",
       "    </tr>\n",
       "    <tr>\n",
       "      <td>8</td>\n",
       "      <td>0.100639</td>\n",
       "      <td>0.098888</td>\n",
       "      <td>0.097000</td>\n",
       "      <td>00:00</td>\n",
       "    </tr>\n",
       "    <tr>\n",
       "      <td>9</td>\n",
       "      <td>0.100628</td>\n",
       "      <td>0.098917</td>\n",
       "      <td>0.096333</td>\n",
       "      <td>00:00</td>\n",
       "    </tr>\n",
       "  </tbody>\n",
       "</table>"
      ],
      "text/plain": [
       "<IPython.core.display.HTML object>"
      ]
     },
     "metadata": {},
     "output_type": "display_data"
    }
   ],
   "source": [
    "learn_softmax.fit(n_epoch=10, lr=0.1)\n"
   ]
  },
  {
   "cell_type": "markdown",
   "id": "44366c8d",
   "metadata": {
    "papermill": {
     "duration": 0.02399,
     "end_time": "2022-08-28T21:14:11.171286",
     "exception": false,
     "start_time": "2022-08-28T21:14:11.147296",
     "status": "completed"
    },
    "tags": []
   },
   "source": [
    "> #### _This doesn't work as well, it's not learning._"
   ]
  },
  {
   "cell_type": "markdown",
   "id": "90c7ae25",
   "metadata": {
    "papermill": {
     "duration": 0.023195,
     "end_time": "2022-08-28T21:14:11.218079",
     "exception": false,
     "start_time": "2022-08-28T21:14:11.194884",
     "status": "completed"
    },
    "tags": []
   },
   "source": [
    "### _I cheated and looked on forums and people said there can be precision issues, so use something logarithmic_"
   ]
  },
  {
   "cell_type": "code",
   "execution_count": 57,
   "id": "d95d937c",
   "metadata": {
    "execution": {
     "iopub.execute_input": "2022-08-28T21:14:11.267262Z",
     "iopub.status.busy": "2022-08-28T21:14:11.266939Z",
     "iopub.status.idle": "2022-08-28T21:14:11.272105Z",
     "shell.execute_reply": "2022-08-28T21:14:11.271057Z"
    },
    "papermill": {
     "duration": 0.032726,
     "end_time": "2022-08-28T21:14:11.274077",
     "exception": false,
     "start_time": "2022-08-28T21:14:11.241351",
     "status": "completed"
    },
    "tags": []
   },
   "outputs": [],
   "source": [
    "def loss_entropy(pred, y):\n",
    "    #print(y.shape)\n",
    "    y = y.long()\n",
    "    if y.ndim > 1:\n",
    "        y = y.squeeze()\n",
    "   # print(y.shape)\n",
    "    return F.cross_entropy(pred, y)\n"
   ]
  },
  {
   "cell_type": "code",
   "execution_count": 58,
   "id": "ac14a9d9",
   "metadata": {
    "execution": {
     "iopub.execute_input": "2022-08-28T21:14:11.322920Z",
     "iopub.status.busy": "2022-08-28T21:14:11.322121Z",
     "iopub.status.idle": "2022-08-28T21:14:11.327228Z",
     "shell.execute_reply": "2022-08-28T21:14:11.326371Z"
    },
    "papermill": {
     "duration": 0.031621,
     "end_time": "2022-08-28T21:14:11.329272",
     "exception": false,
     "start_time": "2022-08-28T21:14:11.297651",
     "status": "completed"
    },
    "tags": []
   },
   "outputs": [],
   "source": [
    "learn_entropy = Learner(dls, model, loss_func=loss_entropy, opt_func=SGD, metrics=accuracy_metric)\n"
   ]
  },
  {
   "cell_type": "code",
   "execution_count": 59,
   "id": "54955359",
   "metadata": {
    "execution": {
     "iopub.execute_input": "2022-08-28T21:14:11.377110Z",
     "iopub.status.busy": "2022-08-28T21:14:11.376839Z",
     "iopub.status.idle": "2022-08-28T21:14:20.218372Z",
     "shell.execute_reply": "2022-08-28T21:14:20.217314Z"
    },
    "papermill": {
     "duration": 8.867999,
     "end_time": "2022-08-28T21:14:20.220502",
     "exception": false,
     "start_time": "2022-08-28T21:14:11.352503",
     "status": "completed"
    },
    "tags": []
   },
   "outputs": [
    {
     "data": {
      "text/html": [
       "\n",
       "<style>\n",
       "    /* Turns off some styling */\n",
       "    progress {\n",
       "        /* gets rid of default border in Firefox and Opera. */\n",
       "        border: none;\n",
       "        /* Needs to be in here for Safari polyfill so background images work as expected. */\n",
       "        background-size: auto;\n",
       "    }\n",
       "    progress:not([value]), progress:not([value])::-webkit-progress-bar {\n",
       "        background: repeating-linear-gradient(45deg, #7e7e7e, #7e7e7e 10px, #5c5c5c 10px, #5c5c5c 20px);\n",
       "    }\n",
       "    .progress-bar-interrupted, .progress-bar-interrupted::-webkit-progress-bar {\n",
       "        background: #F44336;\n",
       "    }\n",
       "</style>\n"
      ],
      "text/plain": [
       "<IPython.core.display.HTML object>"
      ]
     },
     "metadata": {},
     "output_type": "display_data"
    },
    {
     "data": {
      "text/html": [
       "<table border=\"1\" class=\"dataframe\">\n",
       "  <thead>\n",
       "    <tr style=\"text-align: left;\">\n",
       "      <th>epoch</th>\n",
       "      <th>train_loss</th>\n",
       "      <th>valid_loss</th>\n",
       "      <th>accuracy_metric</th>\n",
       "      <th>time</th>\n",
       "    </tr>\n",
       "  </thead>\n",
       "  <tbody>\n",
       "    <tr>\n",
       "      <td>0</td>\n",
       "      <td>0.989585</td>\n",
       "      <td>0.521992</td>\n",
       "      <td>0.858000</td>\n",
       "      <td>00:00</td>\n",
       "    </tr>\n",
       "    <tr>\n",
       "      <td>1</td>\n",
       "      <td>0.518371</td>\n",
       "      <td>0.347884</td>\n",
       "      <td>0.895667</td>\n",
       "      <td>00:00</td>\n",
       "    </tr>\n",
       "    <tr>\n",
       "      <td>2</td>\n",
       "      <td>0.346704</td>\n",
       "      <td>0.284983</td>\n",
       "      <td>0.909667</td>\n",
       "      <td>00:00</td>\n",
       "    </tr>\n",
       "    <tr>\n",
       "      <td>3</td>\n",
       "      <td>0.272468</td>\n",
       "      <td>0.256439</td>\n",
       "      <td>0.920333</td>\n",
       "      <td>00:00</td>\n",
       "    </tr>\n",
       "    <tr>\n",
       "      <td>4</td>\n",
       "      <td>0.230199</td>\n",
       "      <td>0.212597</td>\n",
       "      <td>0.945333</td>\n",
       "      <td>00:00</td>\n",
       "    </tr>\n",
       "    <tr>\n",
       "      <td>5</td>\n",
       "      <td>0.207443</td>\n",
       "      <td>0.198280</td>\n",
       "      <td>0.949000</td>\n",
       "      <td>00:00</td>\n",
       "    </tr>\n",
       "    <tr>\n",
       "      <td>6</td>\n",
       "      <td>0.190783</td>\n",
       "      <td>0.185562</td>\n",
       "      <td>0.947667</td>\n",
       "      <td>00:00</td>\n",
       "    </tr>\n",
       "    <tr>\n",
       "      <td>7</td>\n",
       "      <td>0.174779</td>\n",
       "      <td>0.179351</td>\n",
       "      <td>0.951333</td>\n",
       "      <td>00:00</td>\n",
       "    </tr>\n",
       "    <tr>\n",
       "      <td>8</td>\n",
       "      <td>0.163493</td>\n",
       "      <td>0.172312</td>\n",
       "      <td>0.955000</td>\n",
       "      <td>00:00</td>\n",
       "    </tr>\n",
       "    <tr>\n",
       "      <td>9</td>\n",
       "      <td>0.155247</td>\n",
       "      <td>0.166811</td>\n",
       "      <td>0.956000</td>\n",
       "      <td>00:00</td>\n",
       "    </tr>\n",
       "    <tr>\n",
       "      <td>10</td>\n",
       "      <td>0.148723</td>\n",
       "      <td>0.162777</td>\n",
       "      <td>0.953333</td>\n",
       "      <td>00:00</td>\n",
       "    </tr>\n",
       "    <tr>\n",
       "      <td>11</td>\n",
       "      <td>0.142068</td>\n",
       "      <td>0.157631</td>\n",
       "      <td>0.957000</td>\n",
       "      <td>00:00</td>\n",
       "    </tr>\n",
       "    <tr>\n",
       "      <td>12</td>\n",
       "      <td>0.136054</td>\n",
       "      <td>0.156244</td>\n",
       "      <td>0.954667</td>\n",
       "      <td>00:00</td>\n",
       "    </tr>\n",
       "    <tr>\n",
       "      <td>13</td>\n",
       "      <td>0.133357</td>\n",
       "      <td>0.153135</td>\n",
       "      <td>0.958000</td>\n",
       "      <td>00:00</td>\n",
       "    </tr>\n",
       "    <tr>\n",
       "      <td>14</td>\n",
       "      <td>0.127693</td>\n",
       "      <td>0.165472</td>\n",
       "      <td>0.954667</td>\n",
       "      <td>00:00</td>\n",
       "    </tr>\n",
       "    <tr>\n",
       "      <td>15</td>\n",
       "      <td>0.125129</td>\n",
       "      <td>0.144914</td>\n",
       "      <td>0.959667</td>\n",
       "      <td>00:00</td>\n",
       "    </tr>\n",
       "    <tr>\n",
       "      <td>16</td>\n",
       "      <td>0.118554</td>\n",
       "      <td>0.145416</td>\n",
       "      <td>0.962333</td>\n",
       "      <td>00:00</td>\n",
       "    </tr>\n",
       "    <tr>\n",
       "      <td>17</td>\n",
       "      <td>0.114223</td>\n",
       "      <td>0.141651</td>\n",
       "      <td>0.960333</td>\n",
       "      <td>00:00</td>\n",
       "    </tr>\n",
       "    <tr>\n",
       "      <td>18</td>\n",
       "      <td>0.112119</td>\n",
       "      <td>0.148653</td>\n",
       "      <td>0.956333</td>\n",
       "      <td>00:00</td>\n",
       "    </tr>\n",
       "    <tr>\n",
       "      <td>19</td>\n",
       "      <td>0.108679</td>\n",
       "      <td>0.138428</td>\n",
       "      <td>0.963000</td>\n",
       "      <td>00:00</td>\n",
       "    </tr>\n",
       "    <tr>\n",
       "      <td>20</td>\n",
       "      <td>0.104451</td>\n",
       "      <td>0.136940</td>\n",
       "      <td>0.964667</td>\n",
       "      <td>00:00</td>\n",
       "    </tr>\n",
       "    <tr>\n",
       "      <td>21</td>\n",
       "      <td>0.104604</td>\n",
       "      <td>0.151451</td>\n",
       "      <td>0.960333</td>\n",
       "      <td>00:00</td>\n",
       "    </tr>\n",
       "    <tr>\n",
       "      <td>22</td>\n",
       "      <td>0.100410</td>\n",
       "      <td>0.141625</td>\n",
       "      <td>0.960333</td>\n",
       "      <td>00:00</td>\n",
       "    </tr>\n",
       "    <tr>\n",
       "      <td>23</td>\n",
       "      <td>0.096883</td>\n",
       "      <td>0.132164</td>\n",
       "      <td>0.963667</td>\n",
       "      <td>00:00</td>\n",
       "    </tr>\n",
       "    <tr>\n",
       "      <td>24</td>\n",
       "      <td>0.093484</td>\n",
       "      <td>0.129140</td>\n",
       "      <td>0.965667</td>\n",
       "      <td>00:00</td>\n",
       "    </tr>\n",
       "    <tr>\n",
       "      <td>25</td>\n",
       "      <td>0.092321</td>\n",
       "      <td>0.130651</td>\n",
       "      <td>0.962000</td>\n",
       "      <td>00:00</td>\n",
       "    </tr>\n",
       "    <tr>\n",
       "      <td>26</td>\n",
       "      <td>0.089158</td>\n",
       "      <td>0.128698</td>\n",
       "      <td>0.964667</td>\n",
       "      <td>00:00</td>\n",
       "    </tr>\n",
       "    <tr>\n",
       "      <td>27</td>\n",
       "      <td>0.087250</td>\n",
       "      <td>0.128824</td>\n",
       "      <td>0.964000</td>\n",
       "      <td>00:00</td>\n",
       "    </tr>\n",
       "    <tr>\n",
       "      <td>28</td>\n",
       "      <td>0.083911</td>\n",
       "      <td>0.130542</td>\n",
       "      <td>0.964667</td>\n",
       "      <td>00:00</td>\n",
       "    </tr>\n",
       "    <tr>\n",
       "      <td>29</td>\n",
       "      <td>0.081479</td>\n",
       "      <td>0.127400</td>\n",
       "      <td>0.964000</td>\n",
       "      <td>00:00</td>\n",
       "    </tr>\n",
       "  </tbody>\n",
       "</table>"
      ],
      "text/plain": [
       "<IPython.core.display.HTML object>"
      ]
     },
     "metadata": {},
     "output_type": "display_data"
    }
   ],
   "source": [
    "learn_entropy.fit(n_epoch=30, lr=0.1)\n"
   ]
  },
  {
   "cell_type": "markdown",
   "id": "863baa0e",
   "metadata": {
    "papermill": {
     "duration": 0.025098,
     "end_time": "2022-08-28T21:14:20.270169",
     "exception": false,
     "start_time": "2022-08-28T21:14:20.245071",
     "status": "completed"
    },
    "tags": []
   },
   "source": [
    "> ### _It learns now_"
   ]
  },
  {
   "cell_type": "code",
   "execution_count": 60,
   "id": "1db8f407",
   "metadata": {
    "execution": {
     "iopub.execute_input": "2022-08-28T21:14:20.319176Z",
     "iopub.status.busy": "2022-08-28T21:14:20.318846Z",
     "iopub.status.idle": "2022-08-28T21:14:20.554216Z",
     "shell.execute_reply": "2022-08-28T21:14:20.553278Z"
    },
    "papermill": {
     "duration": 0.262297,
     "end_time": "2022-08-28T21:14:20.556318",
     "exception": false,
     "start_time": "2022-08-28T21:14:20.294021",
     "status": "completed"
    },
    "tags": []
   },
   "outputs": [
    {
     "data": {
      "image/png": "[encoded data removed]",
      "text/plain": [
       "<Figure size 432x288 with 1 Axes>"
      ]
     },
     "metadata": {
      "needs_background": "light"
     },
     "output_type": "display_data"
    }
   ],
   "source": [
    "plt.plot(L(learn_loss_func.recorder.values).itemgot(2), label='w/ simple_loss');\n",
    "plt.plot(L(learn_entropy.recorder.values).itemgot(2), label='w/ centropy');\n",
    "plt.plot(L(learn_softmax.recorder.values).itemgot(2), label='w/ softmax');\n",
    "\n",
    "plt.title('accuracy');\n",
    "plt.legend(loc='best');\n",
    "plt.xlabel('epoch');"
   ]
  },
  {
   "cell_type": "markdown",
   "id": "3a36c59d",
   "metadata": {
    "papermill": {
     "duration": 0.024927,
     "end_time": "2022-08-28T21:14:20.606051",
     "exception": false,
     "start_time": "2022-08-28T21:14:20.581124",
     "status": "completed"
    },
    "tags": []
   },
   "source": [
    "# The FastAI model has beaten the baseline model.\n",
    "#### Although, I am still not very sure why the softmax or simple loss didn't work "
   ]
  },
  {
   "cell_type": "markdown",
   "id": "05d18598",
   "metadata": {
    "papermill": {
     "duration": 0.024074,
     "end_time": "2022-08-28T21:14:20.654983",
     "exception": false,
     "start_time": "2022-08-28T21:14:20.630909",
     "status": "completed"
    },
    "tags": []
   },
   "source": [
    "> #### Just checking what's happening inside the model. "
   ]
  },
  {
   "cell_type": "code",
   "execution_count": 61,
   "id": "d10ded56",
   "metadata": {
    "execution": {
     "iopub.execute_input": "2022-08-28T21:14:20.705288Z",
     "iopub.status.busy": "2022-08-28T21:14:20.704653Z",
     "iopub.status.idle": "2022-08-28T21:14:20.712596Z",
     "shell.execute_reply": "2022-08-28T21:14:20.711561Z"
    },
    "papermill": {
     "duration": 0.035613,
     "end_time": "2022-08-28T21:14:20.714785",
     "exception": false,
     "start_time": "2022-08-28T21:14:20.679172",
     "status": "completed"
    },
    "tags": []
   },
   "outputs": [
    {
     "data": {
      "text/plain": [
       "tensor([[5],\n",
       "        [5],\n",
       "        [5],\n",
       "        [5],\n",
       "        [5],\n",
       "        [5],\n",
       "        [5],\n",
       "        [5],\n",
       "        [5],\n",
       "        [5]])"
      ]
     },
     "execution_count": 61,
     "metadata": {},
     "output_type": "execute_result"
    }
   ],
   "source": [
    "y_tensor[10000:10010]"
   ]
  },
  {
   "cell_type": "markdown",
   "id": "9ffbd379",
   "metadata": {
    "papermill": {
     "duration": 0.02514,
     "end_time": "2022-08-28T21:14:20.764877",
     "exception": false,
     "start_time": "2022-08-28T21:14:20.739737",
     "status": "completed"
    },
    "tags": []
   },
   "source": [
    "> #### The index corresponding to y_tensor value will have ideally highest value in the predictions."
   ]
  },
  {
   "cell_type": "code",
   "execution_count": 62,
   "id": "d08ebd4f",
   "metadata": {
    "execution": {
     "iopub.execute_input": "2022-08-28T21:14:20.815119Z",
     "iopub.status.busy": "2022-08-28T21:14:20.814743Z",
     "iopub.status.idle": "2022-08-28T21:14:20.837687Z",
     "shell.execute_reply": "2022-08-28T21:14:20.836665Z"
    },
    "papermill": {
     "duration": 0.050443,
     "end_time": "2022-08-28T21:14:20.839720",
     "exception": false,
     "start_time": "2022-08-28T21:14:20.789277",
     "status": "completed"
    },
    "tags": []
   },
   "outputs": [
    {
     "data": {
      "text/plain": [
       "tensor([[-12.5915,  -5.5043,  -8.8870,  -3.4508,  -3.3452,   5.5960,  -1.0710,  -1.8192, -10.9644, -10.7473],\n",
       "        [-18.2513, -23.7355,  -2.3928,  -1.6395,  -5.8924,   5.2856, -11.4164,  -9.5124,  -9.5765, -15.0326],\n",
       "        [-19.6813, -13.3664,   0.4013,   0.3663,  -1.9135,   8.4236,   0.1444,  -0.3372, -20.2419, -11.6217],\n",
       "        [ -9.4473,  -9.3769,  -1.5958,  -1.1041,  -5.1527,   3.5932,  -4.2382,  -3.6048,  -5.3509, -12.6652],\n",
       "        [-15.1676,  -7.6468,  -1.3655,  -4.8876,  -5.6747,   5.9361,  -6.5804,  -2.6483,  -7.4650, -12.2578],\n",
       "        [ -8.7004,  -6.9439,  -2.0877,  -1.5366,  -2.4985,   2.0714,  -7.3040,  -7.5453,  -5.1091,  -2.5851],\n",
       "        [ -9.2084,  -6.5548,  -2.2084,  -0.6765,   0.5429,   5.1066,  -5.8337,  -5.4852,  -6.9861,  -5.3916],\n",
       "        [-18.3216,  -9.8647,  -0.6680,  -2.3356,  -5.4501,   6.5298,  -3.1101,  -2.1203, -12.1218, -13.7853],\n",
       "        [ -7.9667, -18.4219,  -8.8755,  -7.8094,  -1.1771,   2.8631,  -9.9230,  -2.7488,  -3.8866, -11.4819],\n",
       "        [-18.9722, -17.4550,  -6.5690,  -3.4893,   0.5602,   6.4109, -10.1749,  -3.2340, -13.9268, -12.4225]], grad_fn=<SliceBackward0>)"
      ]
     },
     "execution_count": 62,
     "metadata": {},
     "output_type": "execute_result"
    }
   ],
   "source": [
    "model(train_x)[10000:10010]"
   ]
  },
  {
   "cell_type": "code",
   "execution_count": 63,
   "id": "940a16dd",
   "metadata": {
    "execution": {
     "iopub.execute_input": "2022-08-28T21:14:20.892149Z",
     "iopub.status.busy": "2022-08-28T21:14:20.891209Z",
     "iopub.status.idle": "2022-08-28T21:14:20.897597Z",
     "shell.execute_reply": "2022-08-28T21:14:20.896586Z"
    },
    "papermill": {
     "duration": 0.034751,
     "end_time": "2022-08-28T21:14:20.899838",
     "exception": false,
     "start_time": "2022-08-28T21:14:20.865087",
     "status": "completed"
    },
    "tags": []
   },
   "outputs": [
    {
     "data": {
      "text/plain": [
       "Sequential(\n",
       "  (0): Linear(in_features=1024, out_features=30, bias=True)\n",
       "  (1): ReLU()\n",
       "  (2): Linear(in_features=30, out_features=10, bias=True)\n",
       ")"
      ]
     },
     "execution_count": 63,
     "metadata": {},
     "output_type": "execute_result"
    }
   ],
   "source": [
    "m = learn_entropy.model\n",
    "m"
   ]
  },
  {
   "cell_type": "code",
   "execution_count": 64,
   "id": "51a3031f",
   "metadata": {
    "execution": {
     "iopub.execute_input": "2022-08-28T21:14:20.953013Z",
     "iopub.status.busy": "2022-08-28T21:14:20.952130Z",
     "iopub.status.idle": "2022-08-28T21:14:20.957210Z",
     "shell.execute_reply": "2022-08-28T21:14:20.956296Z"
    },
    "papermill": {
     "duration": 0.032739,
     "end_time": "2022-08-28T21:14:20.959301",
     "exception": false,
     "start_time": "2022-08-28T21:14:20.926562",
     "status": "completed"
    },
    "tags": []
   },
   "outputs": [],
   "source": [
    "w, b = m[0].parameters()"
   ]
  },
  {
   "cell_type": "markdown",
   "id": "098fd01c",
   "metadata": {
    "papermill": {
     "duration": 0.024962,
     "end_time": "2022-08-28T21:14:21.009410",
     "exception": false,
     "start_time": "2022-08-28T21:14:20.984448",
     "status": "completed"
    },
    "tags": []
   },
   "source": [
    "### The first layer learns about specific features and patterns from the data but here I am not sure what is being learnt. Maybe computer knows it better"
   ]
  },
  {
   "cell_type": "code",
   "execution_count": 65,
   "id": "15abb725",
   "metadata": {
    "execution": {
     "iopub.execute_input": "2022-08-28T21:14:21.060580Z",
     "iopub.status.busy": "2022-08-28T21:14:21.060009Z",
     "iopub.status.idle": "2022-08-28T21:14:22.741196Z",
     "shell.execute_reply": "2022-08-28T21:14:22.739988Z"
    },
    "papermill": {
     "duration": 1.710562,
     "end_time": "2022-08-28T21:14:22.744845",
     "exception": false,
     "start_time": "2022-08-28T21:14:21.034283",
     "status": "completed"
    },
    "tags": []
   },
   "outputs": [
    {
     "name": "stderr",
     "output_type": "stream",
     "text": [
      "/opt/conda/lib/python3.7/site-packages/fastai/torch_core.py:77: RuntimeWarning: More than 20 figures have been opened. Figures created through the pyplot interface (`matplotlib.pyplot.figure`) are retained until explicitly closed and may consume too much memory. (To control this warning, see the rcParam `figure.max_open_warning`).\n",
      "  if ax is None: _,ax = plt.subplots(figsize=figsize)\n"
     ]
    },
    {
     "data": {
      "image/png": "[encoded data removed]",
      "text/plain": [
       "<Figure size 72x72 with 1 Axes>"
      ]
     },
     "metadata": {
      "needs_background": "light"
     },
     "output_type": "display_data"
    },
    {
     "data": {
      "image/png": "[encoded data removed]",
      "text/plain": [
       "<Figure size 72x72 with 1 Axes>"
      ]
     },
     "metadata": {
      "needs_background": "light"
     },
     "output_type": "display_data"
    },
    {
     "data": {
      "image/png": "[encoded data removed]",
      "text/plain": [
       "<Figure size 72x72 with 1 Axes>"
      ]
     },
     "metadata": {
      "needs_background": "light"
     },
     "output_type": "display_data"
    },
    {
     "data": {
      "image/png": "[encoded data removed]",
      "text/plain": [
       "<Figure size 72x72 with 1 Axes>"
      ]
     },
     "metadata": {
      "needs_background": "light"
     },
     "output_type": "display_data"
    },
    {
     "data": {
      "image/png": "[encoded data removed]",
      "text/plain": [
       "<Figure size 72x72 with 1 Axes>"
      ]
     },
     "metadata": {
      "needs_background": "light"
     },
     "output_type": "display_data"
    },
    {
     "data": {
      "image/png": "[encoded data removed]",
      "text/plain": [
       "<Figure size 72x72 with 1 Axes>"
      ]
     },
     "metadata": {
      "needs_background": "light"
     },
     "output_type": "display_data"
    },
    {
     "data": {
      "image/png": "[encoded data removed]",
      "text/plain": [
       "<Figure size 72x72 with 1 Axes>"
      ]
     },
     "metadata": {
      "needs_background": "light"
     },
     "output_type": "display_data"
    },
    {
     "data": {
      "image/png": "[encoded data removed]",
      "text/plain": [
       "<Figure size 72x72 with 1 Axes>"
      ]
     },
     "metadata": {
      "needs_background": "light"
     },
     "output_type": "display_data"
    },
    {
     "data": {
      "image/png": "[encoded data removed]",
      "text/plain": [
       "<Figure size 72x72 with 1 Axes>"
      ]
     },
     "metadata": {
      "needs_background": "light"
     },
     "output_type": "display_data"
    },
    {
     "data": {
      "image/png": "[encoded data removed]",
      "text/plain": [
       "<Figure size 72x72 with 1 Axes>"
      ]
     },
     "metadata": {
      "needs_background": "light"
     },
     "output_type": "display_data"
    },
    {
     "data": {
      "image/png": "[encoded data removed]",
      "text/plain": [
       "<Figure size 72x72 with 1 Axes>"
      ]
     },
     "metadata": {
      "needs_background": "light"
     },
     "output_type": "display_data"
    },
    {
     "data": {
      "image/png": "[encoded data removed]",
      "text/plain": [
       "<Figure size 72x72 with 1 Axes>"
      ]
     },
     "metadata": {
      "needs_background": "light"
     },
     "output_type": "display_data"
    },
    {
     "data": {
      "image/png": "[encoded data removed]",
      "text/plain": [
       "<Figure size 72x72 with 1 Axes>"
      ]
     },
     "metadata": {
      "needs_background": "light"
     },
     "output_type": "display_data"
    },
    {
     "data": {
      "image/png": "[encoded data removed]",
      "text/plain": [
       "<Figure size 72x72 with 1 Axes>"
      ]
     },
     "metadata": {
      "needs_background": "light"
     },
     "output_type": "display_data"
    },
    {
     "data": {
      "image/png": "[encoded data removed]",
      "text/plain": [
       "<Figure size 72x72 with 1 Axes>"
      ]
     },
     "metadata": {
      "needs_background": "light"
     },
     "output_type": "display_data"
    },
    {
     "data": {
      "image/png": "[encoded data removed]",
      "text/plain": [
       "<Figure size 72x72 with 1 Axes>"
      ]
     },
     "metadata": {
      "needs_background": "light"
     },
     "output_type": "display_data"
    },
    {
     "data": {
      "image/png": "[encoded data removed]",
      "text/plain": [
       "<Figure size 72x72 with 1 Axes>"
      ]
     },
     "metadata": {
      "needs_background": "light"
     },
     "output_type": "display_data"
    },
    {
     "data": {
      "image/png": "[encoded data removed]",
      "text/plain": [
       "<Figure size 72x72 with 1 Axes>"
      ]
     },
     "metadata": {
      "needs_background": "light"
     },
     "output_type": "display_data"
    },
    {
     "data": {
      "image/png": "[encoded data removed]",
      "text/plain": [
       "<Figure size 72x72 with 1 Axes>"
      ]
     },
     "metadata": {
      "needs_background": "light"
     },
     "output_type": "display_data"
    },
    {
     "data": {
      "image/png": "[encoded data removed]",
      "text/plain": [
       "<Figure size 72x72 with 1 Axes>"
      ]
     },
     "metadata": {
      "needs_background": "light"
     },
     "output_type": "display_data"
    },
    {
     "data": {
      "image/png": "[encoded data removed]",
      "text/plain": [
       "<Figure size 72x72 with 1 Axes>"
      ]
     },
     "metadata": {
      "needs_background": "light"
     },
     "output_type": "display_data"
    },
    {
     "data": {
      "image/png": "[encoded data removed]",
      "text/plain": [
       "<Figure size 72x72 with 1 Axes>"
      ]
     },
     "metadata": {
      "needs_background": "light"
     },
     "output_type": "display_data"
    },
    {
     "data": {
      "image/png": "[encoded data removed]",
      "text/plain": [
       "<Figure size 72x72 with 1 Axes>"
      ]
     },
     "metadata": {
      "needs_background": "light"
     },
     "output_type": "display_data"
    },
    {
     "data": {
      "image/png": "[encoded data removed]",
      "text/plain": [
       "<Figure size 72x72 with 1 Axes>"
      ]
     },
     "metadata": {
      "needs_background": "light"
     },
     "output_type": "display_data"
    },
    {
     "data": {
      "image/png": "[encoded data removed]",
      "text/plain": [
       "<Figure size 72x72 with 1 Axes>"
      ]
     },
     "metadata": {
      "needs_background": "light"
     },
     "output_type": "display_data"
    },
    {
     "data": {
      "image/png": "[encoded data removed]",
      "text/plain": [
       "<Figure size 72x72 with 1 Axes>"
      ]
     },
     "metadata": {
      "needs_background": "light"
     },
     "output_type": "display_data"
    },
    {
     "data": {
      "image/png": "[encoded data removed]",
      "text/plain": [
       "<Figure size 72x72 with 1 Axes>"
      ]
     },
     "metadata": {
      "needs_background": "light"
     },
     "output_type": "display_data"
    },
    {
     "data": {
      "image/png": "[encoded data removed]",
      "text/plain": [
       "<Figure size 72x72 with 1 Axes>"
      ]
     },
     "metadata": {
      "needs_background": "light"
     },
     "output_type": "display_data"
    },
    {
     "data": {
      "image/png": "[encoded data removed]",
      "text/plain": [
       "<Figure size 72x72 with 1 Axes>"
      ]
     },
     "metadata": {
      "needs_background": "light"
     },
     "output_type": "display_data"
    },
    {
     "data": {
      "image/png": "[encoded data removed]",
      "text/plain": [
       "<Figure size 72x72 with 1 Axes>"
      ]
     },
     "metadata": {
      "needs_background": "light"
     },
     "output_type": "display_data"
    }
   ],
   "source": [
    "for i in range(w.shape[0]):\n",
    "    show_image(w[i].view(32,32))\n"
   ]
  },
  {
   "cell_type": "markdown",
   "id": "95f3d833",
   "metadata": {
    "papermill": {
     "duration": 0.038511,
     "end_time": "2022-08-28T21:14:22.865058",
     "exception": false,
     "start_time": "2022-08-28T21:14:22.826547",
     "status": "completed"
    },
    "tags": []
   },
   "source": [
    "# End of the notebook"
   ]
  }
 ],
 "metadata": {
  "kernelspec": {
   "display_name": "Python 3",
   "language": "python",
   "name": "python3"
  },
  "language_info": {
   "codemirror_mode": {
    "name": "ipython",
    "version": 3
   },
   "file_extension": ".py",
   "mimetype": "text/x-python",
   "name": "python",
   "nbconvert_exporter": "python",
   "pygments_lexer": "ipython3",
   "version": "3.7.12"
  },
  "papermill": {
   "default_parameters": {},
   "duration": 142.617498,
   "end_time": "2022-08-28T21:14:24.318772",
   "environment_variables": {},
   "exception": null,
   "input_path": "__notebook__.ipynb",
   "output_path": "__notebook__.ipynb",
   "parameters": {},
   "start_time": "2022-08-28T21:12:01.701274",
   "version": "2.3.4"
  }
 },
 "nbformat": 4,
 "nbformat_minor": 5
}
