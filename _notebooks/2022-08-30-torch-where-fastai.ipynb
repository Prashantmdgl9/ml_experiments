{
 "cells": [
  {
   "cell_type": "markdown",
   "id": "4b4ef4fc",
   "metadata": {
    "papermill": {
     "duration": 0.00674,
     "end_time": "2022-08-31T21:50:57.593598",
     "exception": false,
     "start_time": "2022-08-31T21:50:57.586858",
     "status": "completed"
    },
    "tags": []
   },
   "source": [
    "# Torch.where"
   ]
  },
  {
   "cell_type": "markdown",
   "id": "eb68dce5",
   "metadata": {
    "papermill": {
     "duration": 0.005148,
     "end_time": "2022-08-31T21:50:57.605163",
     "exception": false,
     "start_time": "2022-08-31T21:50:57.600015",
     "status": "completed"
    },
    "tags": []
   },
   "source": [
    "### _I had a lot of issues in understanding torch.where, so tried to deconstruct its working_"
   ]
  },
  {
   "cell_type": "code",
   "execution_count": 1,
   "id": "868dd9b7",
   "metadata": {
    "_cell_guid": "b1076dfc-b9ad-4769-8c92-a6c4dae69d19",
    "_uuid": "8f2839f25d086af736a60e9eeb907d3b93b6e0e5",
    "execution": {
     "iopub.execute_input": "2022-08-31T21:50:57.618405Z",
     "iopub.status.busy": "2022-08-31T21:50:57.617750Z",
     "iopub.status.idle": "2022-08-31T21:51:01.186484Z",
     "shell.execute_reply": "2022-08-31T21:51:01.185280Z"
    },
    "papermill": {
     "duration": 3.578826,
     "end_time": "2022-08-31T21:51:01.189506",
     "exception": false,
     "start_time": "2022-08-31T21:50:57.610680",
     "status": "completed"
    },
    "tags": []
   },
   "outputs": [],
   "source": [
    "from fastai.vision.all import *\n",
    "matplotlib.rc('image', cmap='Greys')"
   ]
  },
  {
   "cell_type": "markdown",
   "id": "2b24a4f8",
   "metadata": {
    "papermill": {
     "duration": 0.005437,
     "end_time": "2022-08-31T21:51:01.200472",
     "exception": false,
     "start_time": "2022-08-31T21:51:01.195035",
     "status": "completed"
    },
    "tags": []
   },
   "source": [
    "### Element-wise operation"
   ]
  },
  {
   "cell_type": "markdown",
   "id": "20795bdb",
   "metadata": {
    "papermill": {
     "duration": 0.005766,
     "end_time": "2022-08-31T21:51:01.211917",
     "exception": false,
     "start_time": "2022-08-31T21:51:01.206151",
     "status": "completed"
    },
    "tags": []
   },
   "source": [
    "> #### _0, 1, 0 will be compated with row one of prds and then row 2 and so on..._"
   ]
  },
  {
   "cell_type": "code",
   "execution_count": 2,
   "id": "65f8a675",
   "metadata": {
    "execution": {
     "iopub.execute_input": "2022-08-31T21:51:01.225704Z",
     "iopub.status.busy": "2022-08-31T21:51:01.224661Z",
     "iopub.status.idle": "2022-08-31T21:51:01.236390Z",
     "shell.execute_reply": "2022-08-31T21:51:01.235200Z"
    },
    "papermill": {
     "duration": 0.021638,
     "end_time": "2022-08-31T21:51:01.239098",
     "exception": false,
     "start_time": "2022-08-31T21:51:01.217460",
     "status": "completed"
    },
    "tags": []
   },
   "outputs": [
    {
     "data": {
      "text/plain": [
       "(tensor([0, 1, 0]),\n",
       " tensor([[0.8000, 0.4000, 0.2000],\n",
       "         [0.6000, 0.2000, 0.5000]]))"
      ]
     },
     "execution_count": 2,
     "metadata": {},
     "output_type": "execute_result"
    }
   ],
   "source": [
    "trgts  = tensor([0, 1, 0])\n",
    "prds   = tensor([0.8, 0.4, 0.2], [0.6, 0.2, 0.5])\n",
    "trgts, prds"
   ]
  },
  {
   "cell_type": "code",
   "execution_count": 3,
   "id": "e5e6a218",
   "metadata": {
    "execution": {
     "iopub.execute_input": "2022-08-31T21:51:01.252731Z",
     "iopub.status.busy": "2022-08-31T21:51:01.251886Z",
     "iopub.status.idle": "2022-08-31T21:51:01.261871Z",
     "shell.execute_reply": "2022-08-31T21:51:01.260765Z"
    },
    "papermill": {
     "duration": 0.019539,
     "end_time": "2022-08-31T21:51:01.264246",
     "exception": false,
     "start_time": "2022-08-31T21:51:01.244707",
     "status": "completed"
    },
    "tags": []
   },
   "outputs": [
    {
     "data": {
      "text/plain": [
       "tensor(0.5833)"
      ]
     },
     "execution_count": 3,
     "metadata": {},
     "output_type": "execute_result"
    }
   ],
   "source": [
    "torch.where(trgts == 1, 1-prds, prds).mean()"
   ]
  },
  {
   "cell_type": "markdown",
   "id": "70b144bc",
   "metadata": {
    "papermill": {
     "duration": 0.005558,
     "end_time": "2022-08-31T21:51:01.275713",
     "exception": false,
     "start_time": "2022-08-31T21:51:01.270155",
     "status": "completed"
    },
    "tags": []
   },
   "source": [
    "### Single tensor"
   ]
  },
  {
   "cell_type": "markdown",
   "id": "617baf86",
   "metadata": {
    "papermill": {
     "duration": 0.005347,
     "end_time": "2022-08-31T21:51:01.286995",
     "exception": false,
     "start_time": "2022-08-31T21:51:01.281648",
     "status": "completed"
    },
    "tags": []
   },
   "source": [
    "> #### _0 will be compared with row 1 of prds and then row 2 and so on..._"
   ]
  },
  {
   "cell_type": "code",
   "execution_count": 4,
   "id": "834c4e79",
   "metadata": {
    "execution": {
     "iopub.execute_input": "2022-08-31T21:51:01.300234Z",
     "iopub.status.busy": "2022-08-31T21:51:01.299811Z",
     "iopub.status.idle": "2022-08-31T21:51:01.309182Z",
     "shell.execute_reply": "2022-08-31T21:51:01.308200Z"
    },
    "papermill": {
     "duration": 0.019096,
     "end_time": "2022-08-31T21:51:01.311783",
     "exception": false,
     "start_time": "2022-08-31T21:51:01.292687",
     "status": "completed"
    },
    "tags": []
   },
   "outputs": [
    {
     "data": {
      "text/plain": [
       "(tensor([0]),\n",
       " tensor([[0.4000, 0.3000],\n",
       "         [0.1000, 0.2000]]))"
      ]
     },
     "execution_count": 4,
     "metadata": {},
     "output_type": "execute_result"
    }
   ],
   "source": [
    "trgts  = tensor([0])\n",
    "prds   = tensor([0.4, 0.3],[0.1, 0.2])\n",
    "trgts, prds"
   ]
  },
  {
   "cell_type": "code",
   "execution_count": 5,
   "id": "af8edc46",
   "metadata": {
    "execution": {
     "iopub.execute_input": "2022-08-31T21:51:01.325849Z",
     "iopub.status.busy": "2022-08-31T21:51:01.325038Z",
     "iopub.status.idle": "2022-08-31T21:51:01.333441Z",
     "shell.execute_reply": "2022-08-31T21:51:01.332510Z"
    },
    "papermill": {
     "duration": 0.018115,
     "end_time": "2022-08-31T21:51:01.335765",
     "exception": false,
     "start_time": "2022-08-31T21:51:01.317650",
     "status": "completed"
    },
    "tags": []
   },
   "outputs": [
    {
     "data": {
      "text/plain": [
       "tensor(0.2500)"
      ]
     },
     "execution_count": 5,
     "metadata": {},
     "output_type": "execute_result"
    }
   ],
   "source": [
    "torch.where(trgts == 1, 1-prds, prds).mean()"
   ]
  },
  {
   "cell_type": "code",
   "execution_count": 6,
   "id": "6be93ae8",
   "metadata": {
    "execution": {
     "iopub.execute_input": "2022-08-31T21:51:01.350624Z",
     "iopub.status.busy": "2022-08-31T21:51:01.349703Z",
     "iopub.status.idle": "2022-08-31T21:51:01.358594Z",
     "shell.execute_reply": "2022-08-31T21:51:01.357620Z"
    },
    "papermill": {
     "duration": 0.018988,
     "end_time": "2022-08-31T21:51:01.360961",
     "exception": false,
     "start_time": "2022-08-31T21:51:01.341973",
     "status": "completed"
    },
    "tags": []
   },
   "outputs": [
    {
     "data": {
      "text/plain": [
       "(tensor([1]),\n",
       " tensor([[0.4000, 0.3000],\n",
       "         [0.1000, 0.2000]]))"
      ]
     },
     "execution_count": 6,
     "metadata": {},
     "output_type": "execute_result"
    }
   ],
   "source": [
    "trgts  = tensor([1])\n",
    "prds   = tensor([0.4, 0.3],[0.1, 0.2])\n",
    "trgts, prds"
   ]
  },
  {
   "cell_type": "code",
   "execution_count": 7,
   "id": "92d50ab7",
   "metadata": {
    "execution": {
     "iopub.execute_input": "2022-08-31T21:51:01.375295Z",
     "iopub.status.busy": "2022-08-31T21:51:01.374456Z",
     "iopub.status.idle": "2022-08-31T21:51:01.382486Z",
     "shell.execute_reply": "2022-08-31T21:51:01.381610Z"
    },
    "papermill": {
     "duration": 0.01781,
     "end_time": "2022-08-31T21:51:01.384777",
     "exception": false,
     "start_time": "2022-08-31T21:51:01.366967",
     "status": "completed"
    },
    "tags": []
   },
   "outputs": [
    {
     "data": {
      "text/plain": [
       "tensor(0.7500)"
      ]
     },
     "execution_count": 7,
     "metadata": {},
     "output_type": "execute_result"
    }
   ],
   "source": [
    "torch.where(trgts == 1, 1-prds, prds).mean()"
   ]
  },
  {
   "cell_type": "markdown",
   "id": "298a5815",
   "metadata": {
    "papermill": {
     "duration": 0.006655,
     "end_time": "2022-08-31T21:51:01.397511",
     "exception": false,
     "start_time": "2022-08-31T21:51:01.390856",
     "status": "completed"
    },
    "tags": []
   },
   "source": [
    "### Create a function"
   ]
  },
  {
   "cell_type": "code",
   "execution_count": 8,
   "id": "4a31432f",
   "metadata": {
    "execution": {
     "iopub.execute_input": "2022-08-31T21:51:01.411777Z",
     "iopub.status.busy": "2022-08-31T21:51:01.411179Z",
     "iopub.status.idle": "2022-08-31T21:51:01.417205Z",
     "shell.execute_reply": "2022-08-31T21:51:01.415958Z"
    },
    "papermill": {
     "duration": 0.016088,
     "end_time": "2022-08-31T21:51:01.419702",
     "exception": false,
     "start_time": "2022-08-31T21:51:01.403614",
     "status": "completed"
    },
    "tags": []
   },
   "outputs": [],
   "source": [
    "def ret_where(a, b):\n",
    "    c = torch.where(a == 1, 1-b, b)\n",
    "    return c, c.mean()"
   ]
  },
  {
   "cell_type": "markdown",
   "id": "102493c3",
   "metadata": {
    "papermill": {
     "duration": 0.006192,
     "end_time": "2022-08-31T21:51:01.432368",
     "exception": false,
     "start_time": "2022-08-31T21:51:01.426176",
     "status": "completed"
    },
    "tags": []
   },
   "source": [
    "#### This is an interesting case"
   ]
  },
  {
   "cell_type": "code",
   "execution_count": 9,
   "id": "5b8f43cd",
   "metadata": {
    "execution": {
     "iopub.execute_input": "2022-08-31T21:51:01.447598Z",
     "iopub.status.busy": "2022-08-31T21:51:01.446787Z",
     "iopub.status.idle": "2022-08-31T21:51:01.455782Z",
     "shell.execute_reply": "2022-08-31T21:51:01.454615Z"
    },
    "papermill": {
     "duration": 0.019216,
     "end_time": "2022-08-31T21:51:01.458173",
     "exception": false,
     "start_time": "2022-08-31T21:51:01.438957",
     "status": "completed"
    },
    "tags": []
   },
   "outputs": [
    {
     "data": {
      "text/plain": [
       "(tensor([[0],\n",
       "         [1]]),\n",
       " tensor([[0.4000, 0.3000],\n",
       "         [0.1000, 0.2000]]))"
      ]
     },
     "execution_count": 9,
     "metadata": {},
     "output_type": "execute_result"
    }
   ],
   "source": [
    "trgts  = tensor([0], [1])\n",
    "prds   = tensor([0.4, 0.3],[0.1, 0.2])\n",
    "trgts, prds"
   ]
  },
  {
   "cell_type": "markdown",
   "id": "4342e539",
   "metadata": {
    "papermill": {
     "duration": 0.005768,
     "end_time": "2022-08-31T21:51:01.470156",
     "exception": false,
     "start_time": "2022-08-31T21:51:01.464388",
     "status": "completed"
    },
    "tags": []
   },
   "source": [
    "> #### _First target tensor with first prediction tensor row, second target tensor row with second prediction row_"
   ]
  },
  {
   "cell_type": "code",
   "execution_count": 10,
   "id": "e074b33c",
   "metadata": {
    "execution": {
     "iopub.execute_input": "2022-08-31T21:51:01.485220Z",
     "iopub.status.busy": "2022-08-31T21:51:01.484405Z",
     "iopub.status.idle": "2022-08-31T21:51:01.492961Z",
     "shell.execute_reply": "2022-08-31T21:51:01.491578Z"
    },
    "papermill": {
     "duration": 0.018812,
     "end_time": "2022-08-31T21:51:01.495393",
     "exception": false,
     "start_time": "2022-08-31T21:51:01.476581",
     "status": "completed"
    },
    "tags": []
   },
   "outputs": [
    {
     "data": {
      "text/plain": [
       "(tensor([[0.4000, 0.3000],\n",
       "         [0.9000, 0.8000]]),\n",
       " tensor(0.6000))"
      ]
     },
     "execution_count": 10,
     "metadata": {},
     "output_type": "execute_result"
    }
   ],
   "source": [
    "ret_where(trgts, prds)"
   ]
  },
  {
   "cell_type": "code",
   "execution_count": 11,
   "id": "7bdce819",
   "metadata": {
    "execution": {
     "iopub.execute_input": "2022-08-31T21:51:01.510684Z",
     "iopub.status.busy": "2022-08-31T21:51:01.509898Z",
     "iopub.status.idle": "2022-08-31T21:51:01.518681Z",
     "shell.execute_reply": "2022-08-31T21:51:01.517780Z"
    },
    "papermill": {
     "duration": 0.01899,
     "end_time": "2022-08-31T21:51:01.520971",
     "exception": false,
     "start_time": "2022-08-31T21:51:01.501981",
     "status": "completed"
    },
    "tags": []
   },
   "outputs": [
    {
     "data": {
      "text/plain": [
       "(tensor([[0],\n",
       "         [1],\n",
       "         [0]]),\n",
       " tensor([[0.4000, 0.3000],\n",
       "         [0.1000, 0.2000],\n",
       "         [0.1000, 0.6000]]))"
      ]
     },
     "execution_count": 11,
     "metadata": {},
     "output_type": "execute_result"
    }
   ],
   "source": [
    "trgts  = tensor([0], [1], [0])\n",
    "prds   = tensor([0.4, 0.3],[0.1, 0.2], [0.1, 0.6] )\n",
    "trgts, prds"
   ]
  },
  {
   "cell_type": "code",
   "execution_count": 12,
   "id": "4153feb4",
   "metadata": {
    "execution": {
     "iopub.execute_input": "2022-08-31T21:51:01.535723Z",
     "iopub.status.busy": "2022-08-31T21:51:01.535294Z",
     "iopub.status.idle": "2022-08-31T21:51:01.544372Z",
     "shell.execute_reply": "2022-08-31T21:51:01.543486Z"
    },
    "papermill": {
     "duration": 0.019322,
     "end_time": "2022-08-31T21:51:01.546676",
     "exception": false,
     "start_time": "2022-08-31T21:51:01.527354",
     "status": "completed"
    },
    "tags": []
   },
   "outputs": [
    {
     "data": {
      "text/plain": [
       "(tensor([[0.4000, 0.3000],\n",
       "         [0.9000, 0.8000],\n",
       "         [0.1000, 0.6000]]),\n",
       " tensor(0.5167))"
      ]
     },
     "execution_count": 12,
     "metadata": {},
     "output_type": "execute_result"
    }
   ],
   "source": [
    "a = torch.where(trgts == 1, 1-prds, prds)\n",
    "a, a.mean()"
   ]
  },
  {
   "cell_type": "markdown",
   "id": "1a5fc3de",
   "metadata": {
    "papermill": {
     "duration": 0.006086,
     "end_time": "2022-08-31T21:51:01.559757",
     "exception": false,
     "start_time": "2022-08-31T21:51:01.553671",
     "status": "completed"
    },
    "tags": []
   },
   "source": [
    "#### Entire first target is broadcasted to first prediction, second target to second row and so on..."
   ]
  },
  {
   "cell_type": "code",
   "execution_count": 13,
   "id": "74db0bd1",
   "metadata": {
    "execution": {
     "iopub.execute_input": "2022-08-31T21:51:01.574619Z",
     "iopub.status.busy": "2022-08-31T21:51:01.574172Z",
     "iopub.status.idle": "2022-08-31T21:51:01.583233Z",
     "shell.execute_reply": "2022-08-31T21:51:01.582054Z"
    },
    "papermill": {
     "duration": 0.019503,
     "end_time": "2022-08-31T21:51:01.585596",
     "exception": false,
     "start_time": "2022-08-31T21:51:01.566093",
     "status": "completed"
    },
    "tags": []
   },
   "outputs": [
    {
     "data": {
      "text/plain": [
       "(tensor([[0.4000, 0.3000],\n",
       "         [0.9000, 0.8000],\n",
       "         [0.1000, 0.6000]]),\n",
       " tensor(0.5167))"
      ]
     },
     "execution_count": 13,
     "metadata": {},
     "output_type": "execute_result"
    }
   ],
   "source": [
    "ret_where(trgts, prds)"
   ]
  },
  {
   "cell_type": "code",
   "execution_count": null,
   "id": "c573cee7",
   "metadata": {
    "papermill": {
     "duration": 0.006402,
     "end_time": "2022-08-31T21:51:01.598580",
     "exception": false,
     "start_time": "2022-08-31T21:51:01.592178",
     "status": "completed"
    },
    "tags": []
   },
   "outputs": [],
   "source": []
  }
 ],
 "metadata": {
  "kernelspec": {
   "display_name": "Python 3",
   "language": "python",
   "name": "python3"
  },
  "language_info": {
   "codemirror_mode": {
    "name": "ipython",
    "version": 3
   },
   "file_extension": ".py",
   "mimetype": "text/x-python",
   "name": "python",
   "nbconvert_exporter": "python",
   "pygments_lexer": "ipython3",
   "version": "3.7.12"
  },
  "papermill": {
   "default_parameters": {},
   "duration": 15.681666,
   "end_time": "2022-08-31T21:51:02.629033",
   "environment_variables": {},
   "exception": null,
   "input_path": "__notebook__.ipynb",
   "output_path": "__notebook__.ipynb",
   "parameters": {},
   "start_time": "2022-08-31T21:50:46.947367",
   "version": "2.3.4"
  }
 },
 "nbformat": 4,
 "nbformat_minor": 5
}
