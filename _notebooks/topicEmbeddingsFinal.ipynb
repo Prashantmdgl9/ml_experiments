{
 "cells": [
  {
   "cell_type": "markdown",
   "metadata": {},
   "source": [
    "# Imports"
   ]
  },
  {
   "cell_type": "code",
   "execution_count": 44,
   "metadata": {},
   "outputs": [
    {
     "name": "stdout",
     "output_type": "stream",
     "text": [
      "Collecting glove_python\n",
      "\u001b[?25l  Downloading https://files.pythonhosted.org/packages/3e/79/7e7e548dd9dcb741935d031117f4bed133276c2a047aadad42f1552d1771/glove_python-0.1.0.tar.gz (263kB)\n",
      "\u001b[K     |################################| 266kB 3.6MB/s \n",
      "\u001b[?25hRequirement already satisfied: numpy in /usr/local/lib/python3.5/dist-packages (from glove_python) (1.15.4)\n",
      "Requirement already satisfied: scipy in /usr/local/lib/python3.5/dist-packages (from glove_python) (1.1.0)\n",
      "Building wheels for collected packages: glove-python\n",
      "  Building wheel for glove-python (setup.py) ... \u001b[?25ldone\n",
      "\u001b[?25h  Stored in directory: /root/.cache/pip/wheels/88/4b/6d/10c0d2ad32c9d9d68beec9694a6f0b6e83ab1662a90a089a4b\n",
      "Successfully built glove-python\n",
      "Installing collected packages: glove-python\n",
      "Successfully installed glove-python-0.1.0\n"
     ]
    }
   ],
   "source": [
    "!pip install glove_python"
   ]
  },
  {
   "cell_type": "code",
   "execution_count": 45,
   "metadata": {},
   "outputs": [],
   "source": [
    "import turicreate as tc\n",
    "from itertools import combinations\n",
    "import turicreate.aggregate as agg\n",
    "import numpy as np\n",
    "tc.config.set_runtime_config('TURI_DEFAULT_NUM_PYLAMBDA_WORKERS', 64)\n",
    "from glove import Glove\n",
    "from glove import Corpus"
   ]
  },
  {
   "cell_type": "markdown",
   "metadata": {},
   "source": [
    "# Read Data"
   ]
  },
  {
   "cell_type": "code",
   "execution_count": 51,
   "metadata": {},
   "outputs": [
    {
     "name": "stdout",
     "output_type": "stream",
     "text": [
      "+--------------+------------+--------------------+\n",
      "|      X1      |     X2     |         X3         |\n",
      "+--------------+------------+--------------------+\n",
      "| 447341250114 |   airbnb   | 1.9547491087071431 |\n",
      "| 447341250114 | apartment  | 1.9547491087071431 |\n",
      "| 447341250114 | apple inc. | 9.387984787699388  |\n",
      "+--------------+------------+--------------------+\n",
      "[395337386 rows x 3 columns]\n",
      "\n"
     ]
    }
   ],
   "source": [
    "topics = tc.SFrame.read_csv('/data/notebooks/PersonalityPred/ScoredTopics.csv', header=False, verbose=False)\n",
    "topics.print_rows(3)"
   ]
  },
  {
   "cell_type": "code",
   "execution_count": 52,
   "metadata": {},
   "outputs": [],
   "source": [
    "topics = topics.rename({'X1': 'userID', 'X2': 'topic', 'X3': 'score'})"
   ]
  },
  {
   "cell_type": "code",
   "execution_count": 54,
   "metadata": {},
   "outputs": [],
   "source": [
    "import turicreate.aggregate as agg\n",
    "topics_agg = topics.groupby('userID', {'topics': agg.CONCAT('topic')})"
   ]
  },
  {
   "cell_type": "code",
   "execution_count": 4,
   "metadata": {},
   "outputs": [
    {
     "name": "stdout",
     "output_type": "stream",
     "text": [
      "+--------------+-------------------------------+\n",
      "|    userID    |             topics            |\n",
      "+--------------+-------------------------------+\n",
      "| 447787571427 | [instant messaging, photo ... |\n",
      "| 447972320460 | [apple inc., cloud storage... |\n",
      "| 447427607839 | [broadsheets, facebook, fr... |\n",
      "+--------------+-------------------------------+\n",
      "[1863980 rows x 2 columns]\n",
      "\n"
     ]
    }
   ],
   "source": [
    "topics_agg.print_rows(3)"
   ]
  },
  {
   "cell_type": "code",
   "execution_count": 56,
   "metadata": {},
   "outputs": [],
   "source": [
    "topics_agg.save('./topicsConcat')"
   ]
  },
  {
   "cell_type": "markdown",
   "metadata": {},
   "source": [
    "# Create Combinations"
   ]
  },
  {
   "cell_type": "code",
   "execution_count": 2,
   "metadata": {},
   "outputs": [],
   "source": [
    "topics_agg = tc.load_sframe('./topicsConcat')"
   ]
  },
  {
   "cell_type": "code",
   "execution_count": 3,
   "metadata": {},
   "outputs": [
    {
     "data": {
      "text/plain": [
       "(1863980, 2)"
      ]
     },
     "execution_count": 3,
     "metadata": {},
     "output_type": "execute_result"
    }
   ],
   "source": [
    "topics_agg.shape"
   ]
  },
  {
   "cell_type": "code",
   "execution_count": 5,
   "metadata": {},
   "outputs": [],
   "source": [
    "#Take a sample to check\n",
    "topics_agg_samp = topics_agg.sample(0.05, seed = 234)"
   ]
  },
  {
   "cell_type": "code",
   "execution_count": 6,
   "metadata": {},
   "outputs": [],
   "source": [
    "topic1 = []\n",
    "topic2 = []\n",
    "for row in topics_agg_samp:\n",
    "    comb = list(combinations(row['topics'], 2))\n",
    "    for pair in comb:\n",
    "        topic1.append(pair[0])\n",
    "        topic2.append(pair[1])"
   ]
  },
  {
   "cell_type": "code",
   "execution_count": 13,
   "metadata": {},
   "outputs": [],
   "source": [
    "col1 = tc.SArray(topic1)\n",
    "col2 = tc.SArray(topic2)\n",
    "sf = tc.SFrame({'topic1':col1,'topic2':col2})"
   ]
  },
  {
   "cell_type": "code",
   "execution_count": 20,
   "metadata": {},
   "outputs": [],
   "source": [
    "sf.save('./sf_frame_combinations')"
   ]
  },
  {
   "cell_type": "markdown",
   "metadata": {},
   "source": [
    "# Create Co-occurrence Matrix"
   ]
  },
  {
   "cell_type": "code",
   "execution_count": 2,
   "metadata": {},
   "outputs": [],
   "source": [
    "sf = tc.load_sframe('./sf_frame_combinations')"
   ]
  },
  {
   "cell_type": "code",
   "execution_count": 3,
   "metadata": {},
   "outputs": [],
   "source": [
    "count_topic_combs = sf.groupby(['topic1', 'topic2'], agg.COUNT())"
   ]
  },
  {
   "cell_type": "code",
   "execution_count": 4,
   "metadata": {},
   "outputs": [
    {
     "name": "stdout",
     "output_type": "stream",
     "text": [
      "+---------------------+-------------------------------+-------+\n",
      "|        topic1       |             topic2            | Count |\n",
      "+---------------------+-------------------------------+-------+\n",
      "|     foot locker     |          formal wear          |   3   |\n",
      "| strategy video game | strikeforce (mixed martial... |   1   |\n",
      "|  o2audience:TENNIS  |       betting exchanges       |   6   |\n",
      "+---------------------+-------------------------------+-------+\n",
      "[11271195 rows x 3 columns]\n",
      "\n"
     ]
    }
   ],
   "source": [
    "count_topic_combs.print_rows(3)"
   ]
  },
  {
   "cell_type": "code",
   "execution_count": 66,
   "metadata": {},
   "outputs": [],
   "source": [
    "comb_samp = count_topic_combs[0:50]"
   ]
  },
  {
   "cell_type": "code",
   "execution_count": 67,
   "metadata": {},
   "outputs": [
    {
     "name": "stdout",
     "output_type": "stream",
     "text": [
      "+--------------------------------+-------------------------------+-------+\n",
      "|             topic1             |             topic2            | Count |\n",
      "+--------------------------------+-------------------------------+-------+\n",
      "|          foot locker           |          formal wear          |   3   |\n",
      "|      strategy video game       | strikeforce (mixed martial... |   1   |\n",
      "|       o2audience:TENNIS        |       betting exchanges       |   6   |\n",
      "|        personalization         |          supermarkets         |   23  |\n",
      "|       expedia (website)        |          little tikes         |   9   |\n",
      "|          hotel du vin          |     newcastle united f.c.     |   1   |\n",
      "|          dictionaries          |            pet food           |   1   |\n",
      "|           change.org           |        vehicle recovery       |   34  |\n",
      "|             dance              |           supergroup          |   2   |\n",
      "|        fortnum & mason         |          desi cuisine         |   1   |\n",
      "|     remote backup service      |          adult comics         |   1   |\n",
      "|        tv listings (uk)        |     children's literature     |   4   |\n",
      "|          conferences           |            bandcamp           |   1   |\n",
      "|          crowdfunding          |           genealogy           |   20  |\n",
      "|            matalan             |       primary education       |   6   |\n",
      "|        award ceremonies        |         travel website        |   1   |\n",
      "|             opodo              |            jogging            |   3   |\n",
      "|           audiobook            |             intel             |   1   |\n",
      "|            holiday             |         ibrox stadium         |   1   |\n",
      "|              jeep              |         athletic shoes        |   1   |\n",
      "|           bridesmaid           |             cruise            |   1   |\n",
      "|            hip hop             |       birmingham airport      |   3   |\n",
      "|             icloud             |      versatile (company)      |   1   |\n",
      "|           teppanyaki           | o2audience:FITNESS & EXERCISE |   1   |\n",
      "|         hot beverages          |       news broadcasting       |   4   |\n",
      "|              h&m               |   conservation organizations  |   1   |\n",
      "|           havaianas            |          healthy diet         |   6   |\n",
      "|            renting             |           fine print          |   1   |\n",
      "|        listed building         | national lottery (united k... |   10  |\n",
      "|           hair care            |         energy markets        |   1   |\n",
      "|      windows phone games       |         absolute radio        |   3   |\n",
      "| digital terrestrial television |         jack daniel's         |   1   |\n",
      "|        aquatic ecology         |          tate britain         |   1   |\n",
      "|       instant messaging        |       luxury real estate      |   2   |\n",
      "|          dermatology           |         athletic shoes        |   3   |\n",
      "|    undergraduate education     |       volkswagen beetle       |   1   |\n",
      "|        garden furniture        |         scottish power        |   1   |\n",
      "|             baking             |          trade unions         |   1   |\n",
      "|           logistics            |          fulham f.c.          |   1   |\n",
      "|          sutton park           |              mbna             |   1   |\n",
      "|            homebase            |      photography websites     |   5   |\n",
      "|         car dealership         |      mitsubishi outlander     |   1   |\n",
      "|            space.nk            |      o2audience:TABLOIDS      |   6   |\n",
      "|         fantasy books          |       private education       |   3   |\n",
      "|        english heritage        |             dating            |   13  |\n",
      "|           selfridges           | o2audience:ALTERNATIVE ROC... |   16  |\n",
      "|          fieldfisher           |         food and drink        |   1   |\n",
      "|         rock festivals         |            renting            |   7   |\n",
      "|              beds              |          lloyds bank          |   26  |\n",
      "|      o2audience:TAKE-AWAY      |    the punch bowl, mayfair    |   1   |\n",
      "+--------------------------------+-------------------------------+-------+\n",
      "[50 rows x 3 columns]\n",
      "\n"
     ]
    }
   ],
   "source": [
    "comb_samp.print_rows(100)"
   ]
  },
  {
   "cell_type": "code",
   "execution_count": 68,
   "metadata": {},
   "outputs": [],
   "source": [
    "col_co = comb_samp['topic1'].unique()\n",
    "col_row = comb_samp['topic2'].unique()"
   ]
  },
  {
   "cell_type": "code",
   "execution_count": 69,
   "metadata": {},
   "outputs": [
    {
     "data": {
      "text/plain": [
       "50"
      ]
     },
     "execution_count": 69,
     "metadata": {},
     "output_type": "execute_result"
    }
   ],
   "source": [
    "len(col_co)"
   ]
  },
  {
   "cell_type": "code",
   "execution_count": 70,
   "metadata": {},
   "outputs": [],
   "source": [
    "def diff(li1, li2): \n",
    "    return (list(set(li1) - set(li2)))"
   ]
  },
  {
   "cell_type": "code",
   "execution_count": 71,
   "metadata": {},
   "outputs": [
    {
     "name": "stdout",
     "output_type": "stream",
     "text": [
      "48\n",
      "49\n"
     ]
    }
   ],
   "source": [
    "differ1 = diff(col_row, col_co)\n",
    "differ2 = diff(col_co, col_row)"
   ]
  },
  {
   "cell_type": "code",
   "execution_count": 72,
   "metadata": {},
   "outputs": [],
   "source": [
    "#These features will be rows and columns for the matrix\n",
    "merged_features = list(col_co) + differ1"
   ]
  },
  {
   "cell_type": "code",
   "execution_count": 73,
   "metadata": {},
   "outputs": [],
   "source": [
    "# Didn't realize but we need an index lookupm thus adding the same\n",
    "features = tc.SFrame(merged_features)\n",
    "features['idx'] = range(0, len(merged_features))"
   ]
  },
  {
   "cell_type": "code",
   "execution_count": 76,
   "metadata": {},
   "outputs": [],
   "source": [
    "matrix = np.zeros(shape=(features.shape[0], features.shape[0]))"
   ]
  },
  {
   "cell_type": "code",
   "execution_count": 77,
   "metadata": {},
   "outputs": [
    {
     "data": {
      "text/plain": [
       "(98, 98)"
      ]
     },
     "execution_count": 77,
     "metadata": {},
     "output_type": "execute_result"
    }
   ],
   "source": [
    "matrix.shape"
   ]
  },
  {
   "cell_type": "code",
   "execution_count": 78,
   "metadata": {},
   "outputs": [
    {
     "name": "stdout",
     "output_type": "stream",
     "text": [
      "34 85 3\n",
      "35 75 1\n",
      "0 89 6\n",
      "38 57 23\n",
      "44 62 9\n",
      "17 65 1\n",
      "28 94 1\n",
      "47 86 34\n",
      "2 54 2\n",
      "46 71 1\n",
      "19 72 1\n",
      "1 80 4\n",
      "27 70 1\n",
      "25 68 20\n",
      "33 76 6\n",
      "29 77 1\n",
      "8 51 3\n",
      "32 56 1\n",
      "42 69 1\n",
      "3 84 1\n",
      "23 90 1\n",
      "15 97 3\n",
      "26 95 1\n",
      "9 58 1\n",
      "43 55 4\n",
      "11 67 1\n",
      "24 78 6\n",
      "20 52 1\n",
      "39 59 10\n",
      "5 92 1\n",
      "7 63 3\n",
      "13 87 1\n",
      "49 64 1\n",
      "40 53 2\n",
      "4 84 3\n",
      "16 50 1\n",
      "21 79 1\n",
      "41 88 1\n",
      "31 66 1\n",
      "37 93 1\n",
      "18 60 5\n",
      "12 91 1\n",
      "30 81 6\n",
      "36 96 3\n",
      "10 61 13\n",
      "22 82 16\n",
      "45 73 1\n",
      "6 20 7\n",
      "48 83 26\n",
      "14 74 1\n"
     ]
    }
   ],
   "source": [
    "for row in comb_samp:\n",
    "    i = row['topic1']\n",
    "    j = row['topic2']\n",
    "    score = row['Count']\n",
    "    iIdx = features[features['X1'] == i]['idx']\n",
    "    jIdx = features[features['X1'] == j]['idx']\n",
    "    \n",
    "    matrix[iIdx, jIdx] = score\n"
   ]
  },
  {
   "cell_type": "code",
   "execution_count": null,
   "metadata": {},
   "outputs": [],
   "source": [
    "# Create a dictionary as glove doesn't accept strings. Dictionary will help in locating the word and index\n",
    "lookup_dict = {}\n",
    "for element in features:\n",
    "    lookup_dict[element['X1']] = element['idx']"
   ]
  },
  {
   "cell_type": "code",
   "execution_count": 37,
   "metadata": {},
   "outputs": [
    {
     "data": {
      "text/plain": [
       "1.0"
      ]
     },
     "execution_count": 37,
     "metadata": {},
     "output_type": "execute_result"
    }
   ],
   "source": [
    "matrix[14][74]"
   ]
  },
  {
   "cell_type": "code",
   "execution_count": 79,
   "metadata": {},
   "outputs": [],
   "source": [
    "np.save('./cooccurMatrix', matrix)\n"
   ]
  },
  {
   "cell_type": "code",
   "execution_count": 80,
   "metadata": {},
   "outputs": [],
   "source": [
    "from scipy.sparse import coo_matrix\n",
    "c_mat = coo_matrix(matrix)"
   ]
  },
  {
   "cell_type": "markdown",
   "metadata": {},
   "source": [
    "# Building Embeddings"
   ]
  },
  {
   "cell_type": "code",
   "execution_count": 87,
   "metadata": {},
   "outputs": [],
   "source": [
    "glove = Glove(no_components= 3, learning_rate= 0.5)"
   ]
  },
  {
   "cell_type": "code",
   "execution_count": 88,
   "metadata": {},
   "outputs": [
    {
     "name": "stdout",
     "output_type": "stream",
     "text": [
      "Performing 30 training epochs with 4 threads\n",
      "Epoch 0\n",
      "Epoch 1\n",
      "Epoch 2\n",
      "Epoch 3\n",
      "Epoch 4\n",
      "Epoch 5\n",
      "Epoch 6\n",
      "Epoch 7\n",
      "Epoch 8\n",
      "Epoch 9\n",
      "Epoch 10\n",
      "Epoch 11\n",
      "Epoch 12\n",
      "Epoch 13\n",
      "Epoch 14\n",
      "Epoch 15\n",
      "Epoch 16\n",
      "Epoch 17\n",
      "Epoch 18\n",
      "Epoch 19\n",
      "Epoch 20\n",
      "Epoch 21\n",
      "Epoch 22\n",
      "Epoch 23\n",
      "Epoch 24\n",
      "Epoch 25\n",
      "Epoch 26\n",
      "Epoch 27\n",
      "Epoch 28\n",
      "Epoch 29\n"
     ]
    }
   ],
   "source": [
    "glove.fit(c_mat, epochs = 30, no_threads = 4, verbose = True)"
   ]
  },
  {
   "cell_type": "code",
   "execution_count": 91,
   "metadata": {},
   "outputs": [],
   "source": [
    "glove.add_dictionary(lookup_dict)"
   ]
  },
  {
   "cell_type": "code",
   "execution_count": 100,
   "metadata": {},
   "outputs": [
    {
     "data": {
      "text/plain": [
       "[('healthy diet', 0.92553703643116),\n",
       " ('bandcamp', 0.924506085474508),\n",
       " ('vehicle recovery', 0.9025076918595519),\n",
       " ('change.org', 0.901353452243554)]"
      ]
     },
     "execution_count": 100,
     "metadata": {},
     "output_type": "execute_result"
    }
   ],
   "source": [
    "glove.most_similar('dance')"
   ]
  },
  {
   "cell_type": "code",
   "execution_count": 96,
   "metadata": {},
   "outputs": [],
   "source": [
    "glove.save('glove.model')"
   ]
  },
  {
   "cell_type": "code",
   "execution_count": 98,
   "metadata": {},
   "outputs": [],
   "source": [
    "features['embeddings'] = glove.word_vectors\n",
    "features.save('./topicEmbeddings3d')"
   ]
  },
  {
   "cell_type": "code",
   "execution_count": 99,
   "metadata": {},
   "outputs": [
    {
     "data": {
      "text/html": [
       "<div style=\"max-height:1000px;max-width:1500px;overflow:auto;\"><table frame=\"box\" rules=\"cols\">\n",
       "    <tr>\n",
       "        <th style=\"padding-left: 1em; padding-right: 1em; text-align: center\">X1</th>\n",
       "        <th style=\"padding-left: 1em; padding-right: 1em; text-align: center\">embeddings</th>\n",
       "    </tr>\n",
       "    <tr>\n",
       "        <td style=\"padding-left: 1em; padding-right: 1em; text-align: center; vertical-align: top\">o2audience:TENNIS</td>\n",
       "        <td style=\"padding-left: 1em; padding-right: 1em; text-align: center; vertical-align: top\">[-0.25590186831341794,<br>-0.10507115523421791, ...</td>\n",
       "    </tr>\n",
       "    <tr>\n",
       "        <td style=\"padding-left: 1em; padding-right: 1em; text-align: center; vertical-align: top\">tv listings (uk)</td>\n",
       "        <td style=\"padding-left: 1em; padding-right: 1em; text-align: center; vertical-align: top\">[-0.15299538565246212,<br>0.06522701523406063, ...</td>\n",
       "    </tr>\n",
       "    <tr>\n",
       "        <td style=\"padding-left: 1em; padding-right: 1em; text-align: center; vertical-align: top\">dance</td>\n",
       "        <td style=\"padding-left: 1em; padding-right: 1em; text-align: center; vertical-align: top\">[0.048705577857946825,<br>-0.06441650907482477, ...</td>\n",
       "    </tr>\n",
       "    <tr>\n",
       "        <td style=\"padding-left: 1em; padding-right: 1em; text-align: center; vertical-align: top\">jeep</td>\n",
       "        <td style=\"padding-left: 1em; padding-right: 1em; text-align: center; vertical-align: top\">[-0.012075309501221331,<br>0.007716132573596034, ...</td>\n",
       "    </tr>\n",
       "    <tr>\n",
       "        <td style=\"padding-left: 1em; padding-right: 1em; text-align: center; vertical-align: top\">dermatology</td>\n",
       "        <td style=\"padding-left: 1em; padding-right: 1em; text-align: center; vertical-align: top\">[-0.13284929977707105,<br>-0.09501078610233918, ...</td>\n",
       "    </tr>\n",
       "    <tr>\n",
       "        <td style=\"padding-left: 1em; padding-right: 1em; text-align: center; vertical-align: top\">hair care</td>\n",
       "        <td style=\"padding-left: 1em; padding-right: 1em; text-align: center; vertical-align: top\">[-0.020616192059875173,<br>-0.11343396734128898, ...</td>\n",
       "    </tr>\n",
       "    <tr>\n",
       "        <td style=\"padding-left: 1em; padding-right: 1em; text-align: center; vertical-align: top\">rock festivals</td>\n",
       "        <td style=\"padding-left: 1em; padding-right: 1em; text-align: center; vertical-align: top\">[-0.19858491196146452,<br>0.07103996327525687, ...</td>\n",
       "    </tr>\n",
       "    <tr>\n",
       "        <td style=\"padding-left: 1em; padding-right: 1em; text-align: center; vertical-align: top\">windows phone games</td>\n",
       "        <td style=\"padding-left: 1em; padding-right: 1em; text-align: center; vertical-align: top\">[0.1254480146499355,<br>-0.07543661813548388, ...</td>\n",
       "    </tr>\n",
       "    <tr>\n",
       "        <td style=\"padding-left: 1em; padding-right: 1em; text-align: center; vertical-align: top\">opodo</td>\n",
       "        <td style=\"padding-left: 1em; padding-right: 1em; text-align: center; vertical-align: top\">[-0.033564251313613985,<br>0.026202752127400565, ...</td>\n",
       "    </tr>\n",
       "    <tr>\n",
       "        <td style=\"padding-left: 1em; padding-right: 1em; text-align: center; vertical-align: top\">teppanyaki</td>\n",
       "        <td style=\"padding-left: 1em; padding-right: 1em; text-align: center; vertical-align: top\">[0.12177376835567781,<br>-0.06265174139718836, ...</td>\n",
       "    </tr>\n",
       "</table>\n",
       "[98 rows x 2 columns]<br/>Note: Only the head of the SFrame is printed.<br/>You can use print_rows(num_rows=m, num_columns=n) to print more rows and columns.\n",
       "</div>"
      ],
      "text/plain": [
       "Columns:\n",
       "\tX1\tstr\n",
       "\tembeddings\tarray\n",
       "\n",
       "Rows: 98\n",
       "\n",
       "Data:\n",
       "+---------------------+-------------------------------+\n",
       "|          X1         |           embeddings          |\n",
       "+---------------------+-------------------------------+\n",
       "|  o2audience:TENNIS  | [-0.25590186831341794, -0.... |\n",
       "|   tv listings (uk)  | [-0.15299538565246212, 0.0... |\n",
       "|        dance        | [0.048705577857946825, -0.... |\n",
       "|         jeep        | [-0.012075309501221331, 0.... |\n",
       "|     dermatology     | [-0.13284929977707105, -0.... |\n",
       "|      hair care      | [-0.020616192059875173, -0... |\n",
       "|    rock festivals   | [-0.19858491196146452, 0.0... |\n",
       "| windows phone games | [0.1254480146499355, -0.07... |\n",
       "|        opodo        | [-0.033564251313613985, 0.... |\n",
       "|      teppanyaki     | [0.12177376835567781, -0.0... |\n",
       "+---------------------+-------------------------------+\n",
       "[98 rows x 2 columns]\n",
       "Note: Only the head of the SFrame is printed.\n",
       "You can use print_rows(num_rows=m, num_columns=n) to print more rows and columns."
      ]
     },
     "execution_count": 99,
     "metadata": {},
     "output_type": "execute_result"
    }
   ],
   "source": [
    "features"
   ]
  }
 ],
 "metadata": {
  "kernelspec": {
   "display_name": "Python 3",
   "language": "python",
   "name": "python3"
  },
  "language_info": {
   "codemirror_mode": {
    "name": "ipython",
    "version": 3
   },
   "file_extension": ".py",
   "mimetype": "text/x-python",
   "name": "python",
   "nbconvert_exporter": "python",
   "pygments_lexer": "ipython3",
   "version": "3.8.3"
  }
 },
 "nbformat": 4,
 "nbformat_minor": 2
}
